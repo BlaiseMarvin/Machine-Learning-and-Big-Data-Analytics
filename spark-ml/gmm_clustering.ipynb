{
 "cells": [
  {
   "cell_type": "markdown",
   "id": "272952d8",
   "metadata": {},
   "source": [
    "**Clustering - Same dataset but using Gaussian Mixture Method**"
   ]
  },
  {
   "cell_type": "code",
   "execution_count": 1,
   "id": "e341e313",
   "metadata": {},
   "outputs": [],
   "source": [
    "from pyspark.sql import SparkSession\n",
    "from pyspark import SparkConf\n",
    "import pyspark.sql.functions as f\n",
    "import os, sys\n",
    "\n",
    "os.environ['PYSPARK_PYTHON'] = sys.executable\n",
    "os.environ['PYSPARK_DRIVER_PYTHON'] = sys.executable"
   ]
  },
  {
   "cell_type": "code",
   "execution_count": 2,
   "id": "54b514db",
   "metadata": {},
   "outputs": [],
   "source": [
    "from pyspark.ml.feature import VectorAssembler\n",
    "from pyspark.ml.clustering import GaussianMixture\n",
    "from pyspark.ml import Pipeline"
   ]
  },
  {
   "cell_type": "code",
   "execution_count": 3,
   "id": "e3fee4f3",
   "metadata": {},
   "outputs": [],
   "source": [
    "from pyspark.ml.feature import StringIndexer, OneHotEncoder"
   ]
  },
  {
   "cell_type": "code",
   "execution_count": 4,
   "id": "becb766c",
   "metadata": {},
   "outputs": [],
   "source": [
    "from pyspark.ml import Pipeline"
   ]
  },
  {
   "cell_type": "code",
   "execution_count": 5,
   "id": "8f020148",
   "metadata": {},
   "outputs": [],
   "source": [
    "from pyspark.ml.feature import StandardScaler"
   ]
  },
  {
   "cell_type": "code",
   "execution_count": 6,
   "id": "229059a1",
   "metadata": {},
   "outputs": [
    {
     "data": {
      "text/plain": [
       "<pyspark.conf.SparkConf at 0x15acdff4fa0>"
      ]
     },
     "execution_count": 6,
     "metadata": {},
     "output_type": "execute_result"
    }
   ],
   "source": [
    "conf = SparkConf()\n",
    "conf.set(\"spark.app.name\",\"clustering\")\n",
    "conf.set(\"spark.master\",\"local[*]\")\n",
    "conf.set(\"spark.driver.memory\",\"8g\")"
   ]
  },
  {
   "cell_type": "code",
   "execution_count": 7,
   "id": "3e6d47dd",
   "metadata": {},
   "outputs": [],
   "source": [
    "spark = SparkSession.builder\\\n",
    "                    .config(conf=conf)\\\n",
    "                    .getOrCreate()"
   ]
  },
  {
   "cell_type": "markdown",
   "id": "0bb29d26",
   "metadata": {},
   "source": [
    "**read in the data:**"
   ]
  },
  {
   "cell_type": "code",
   "execution_count": 8,
   "id": "bf904bd6",
   "metadata": {},
   "outputs": [],
   "source": [
    "data_without_header = spark.read\\\n",
    "                            .format(\"csv\")\\\n",
    "                            .option(\"header\",False)\\\n",
    "                            .option(\"inferSchema\",True)\\\n",
    "                            .load(r\"C:\\Users\\blais\\Documents\\ML\\data\\kddcup\\kddcup.data.corrected\")"
   ]
  },
  {
   "cell_type": "code",
   "execution_count": 9,
   "id": "41b1a70f",
   "metadata": {},
   "outputs": [],
   "source": [
    "column_names =  [\"duration\", \"protocol_type\", \"service\", \"flag\",\n",
    "                \"src_bytes\", \"dst_bytes\", \"land\", \"wrong_fragment\", \"urgent\",\n",
    "                \"hot\", \"num_failed_logins\", \"logged_in\", \"num_compromised\",\n",
    "                \"root_shell\", \"su_attempted\", \"num_root\", \"num_file_creations\",\n",
    "                \"num_shells\", \"num_access_files\", \"num_outbound_cmds\",\n",
    "                \"is_host_login\", \"is_guest_login\", \"count\", \"srv_count\",\n",
    "                \"serror_rate\", \"srv_serror_rate\", \"rerror_rate\", \"srv_rerror_rate\",\n",
    "                \"same_srv_rate\", \"diff_srv_rate\", \"srv_diff_host_rate\",\n",
    "                \"dst_host_count\", \"dst_host_srv_count\",\n",
    "                \"dst_host_same_srv_rate\", \"dst_host_diff_srv_rate\",\n",
    "                \"dst_host_same_src_port_rate\", \"dst_host_srv_diff_host_rate\",\n",
    "                \"dst_host_serror_rate\", \"dst_host_srv_serror_rate\",\n",
    "                \"dst_host_rerror_rate\", \"dst_host_srv_rerror_rate\",\n",
    "                \"label\"]"
   ]
  },
  {
   "cell_type": "code",
   "execution_count": 10,
   "id": "be3c9efe",
   "metadata": {},
   "outputs": [],
   "source": [
    "data = data_without_header.toDF(*column_names)"
   ]
  },
  {
   "cell_type": "markdown",
   "id": "e98105d4",
   "metadata": {},
   "source": [
    "**Preprocess the data - onehot encode the categorical variables:**\n",
    "- categorical variables are protocol_type, service, flag"
   ]
  },
  {
   "cell_type": "code",
   "execution_count": 11,
   "id": "0bad07ba",
   "metadata": {},
   "outputs": [],
   "source": [
    "def onehot_pipeline(input_col):\n",
    "    string_indexer = StringIndexer().setInputCol(input_col).setOutputCol(input_col+'_indexed')\n",
    "    ohe = OneHotEncoder().setInputCol(input_col+'_indexed').setOutputCol(input_col+ '_encoded')\n",
    "    enc_pipeline = Pipeline().setStages([string_indexer,ohe])\n",
    "    return enc_pipeline"
   ]
  },
  {
   "cell_type": "code",
   "execution_count": 12,
   "id": "1ca33677",
   "metadata": {},
   "outputs": [],
   "source": [
    "data2 = data"
   ]
  },
  {
   "cell_type": "code",
   "execution_count": 13,
   "id": "000928e2",
   "metadata": {},
   "outputs": [],
   "source": [
    "for col in ['protocol_type','service','flag']:\n",
    "    onehot_encoder = onehot_pipeline(col)\n",
    "    onehot_encoder = onehot_encoder.fit(data2)\n",
    "    data2 = onehot_encoder.transform(data2) "
   ]
  },
  {
   "cell_type": "markdown",
   "id": "c7fb1272",
   "metadata": {},
   "source": [
    "Done one-hot encoding."
   ]
  },
  {
   "cell_type": "markdown",
   "id": "e2432ba0",
   "metadata": {},
   "source": [
    "last bit - standardize other inputs and then feed into model:"
   ]
  },
  {
   "cell_type": "code",
   "execution_count": 14,
   "id": "682a0f37",
   "metadata": {},
   "outputs": [
    {
     "data": {
      "text/plain": [
       "['protocol_type',\n",
       " 'service',\n",
       " 'flag',\n",
       " 'protocol_type_indexed',\n",
       " 'protocol_type_encoded',\n",
       " 'service_indexed',\n",
       " 'service_encoded',\n",
       " 'flag_indexed',\n",
       " 'flag_encoded',\n",
       " 'label']"
      ]
     },
     "execution_count": 14,
     "metadata": {},
     "output_type": "execute_result"
    }
   ],
   "source": [
    "list(filter(lambda x: x.startswith('protocol_type') or x.startswith('service') or x.startswith('flag'), data2.columns)) + ['label']"
   ]
  },
  {
   "cell_type": "code",
   "execution_count": 15,
   "id": "c9d0e88e",
   "metadata": {},
   "outputs": [],
   "source": [
    "excluded_columns = list(filter(lambda x: x.startswith('protocol_type') or x.startswith('service') or x.startswith('flag'), data2.columns)) + ['label']"
   ]
  },
  {
   "cell_type": "code",
   "execution_count": 16,
   "id": "661a2199",
   "metadata": {},
   "outputs": [],
   "source": [
    "# these should be standardized\n",
    "includedColumns = list(filter(lambda x: x not in excluded_columns, data2.columns))"
   ]
  },
  {
   "cell_type": "code",
   "execution_count": 17,
   "id": "fda9f0fa",
   "metadata": {},
   "outputs": [],
   "source": [
    "assembler1 = VectorAssembler().setInputCols(includedColumns)\\\n",
    "                              .setOutputCol(\"featureVector1\")\n",
    "scaler = StandardScaler().setInputCol(\"featureVector1\").setOutputCol(\"standardized_inputs\").setWithStd(True).setWithMean(True)\n",
    "assembler2 = VectorAssembler().setInputCols([\"standardized_inputs\",\"protocol_type_encoded\",\"service_encoded\",\"flag_encoded\"])\\\n",
    "                              .setOutputCol(\"featureVector\")\n",
    "gmm = GaussianMixture(featuresCol=\"featureVector\",predictionCol='clusters',probabilityCol='probability',tol=0.01,maxIter=10,\n",
    "                      seed=42,k=2)"
   ]
  },
  {
   "cell_type": "code",
   "execution_count": 18,
   "id": "775fb7b3",
   "metadata": {},
   "outputs": [],
   "source": [
    "pipeline = Pipeline(stages=[assembler1,scaler,assembler2,gmm])"
   ]
  },
  {
   "cell_type": "code",
   "execution_count": 19,
   "id": "3e03069f",
   "metadata": {},
   "outputs": [],
   "source": [
    "pipeline_model = pipeline.fit(data2)"
   ]
  },
  {
   "cell_type": "markdown",
   "id": "743d0388",
   "metadata": {},
   "source": [
    "get some stats about the model:"
   ]
  },
  {
   "cell_type": "code",
   "execution_count": 20,
   "id": "78f5f511",
   "metadata": {},
   "outputs": [],
   "source": [
    "gaussian_model = pipeline_model.stages[-1]"
   ]
  },
  {
   "cell_type": "markdown",
   "id": "6ebc0a7f",
   "metadata": {},
   "source": [
    "these are the arbitrary weights of each gaussian distribution that generated each of the clusters:"
   ]
  },
  {
   "cell_type": "code",
   "execution_count": 23,
   "id": "b29eb2f4",
   "metadata": {},
   "outputs": [
    {
     "data": {
      "text/plain": [
       "[0.5, 0.5]"
      ]
     },
     "execution_count": 23,
     "metadata": {},
     "output_type": "execute_result"
    }
   ],
   "source": [
    "gaussian_model.weights"
   ]
  },
  {
   "cell_type": "markdown",
   "id": "490c2f19",
   "metadata": {},
   "source": [
    "Each cluster, modelled by a gaussian distribution has a mean and covariance matrix:"
   ]
  },
  {
   "cell_type": "code",
   "execution_count": 24,
   "id": "c120e36a",
   "metadata": {},
   "outputs": [
    {
     "data": {
      "text/plain": [
       "DenseVector([0.0, 0.0, 0.0, 0.0, -0.0, -0.0, 0.0, -0.0, -0.0, -0.0, 0.0, 0.0, 0.0, 0.0, -0.0, 0.0, 0.0, -0.0, 0.0, -0.0, 0.0, 0.0, -0.0, 0.0, -0.0, 0.0, 0.0, -0.0, -0.0, -0.0, -0.0, 0.0, -0.0, 0.0, 0.0, 0.0, -0.0, 0.0, 0.5785, 0.3819, 0.574, 0.2247, 0.1272, 0.0197, 0.0148, 0.0118, 0.0083, 0.0033, 0.0014, 0.0011, 0.0011, 0.0009, 0.0008, 0.0007, 0.0004, 0.0003, 0.0002, 0.0002, 0.0002, 0.0002, 0.0002, 0.0002, 0.0002, 0.0002, 0.0002, 0.0002, 0.0002, 0.0002, 0.0002, 0.0002, 0.0002, 0.0002, 0.0002, 0.0002, 0.0002, 0.0002, 0.0002, 0.0002, 0.0002, 0.0002, 0.0002, 0.0002, 0.0002, 0.0002, 0.0002, 0.0002, 0.0002, 0.0002, 0.0002, 0.0002, 0.0002, 0.0002, 0.0002, 0.0002, 0.0002, 0.0002, 0.0002, 0.0002, 0.0002, 0.0001, 0.0, 0.0, 0.0, 0.0, 0.0, 0.0, 0.0, 0.0, 0.0, 0.7644, 0.1776, 0.0549, 0.0017, 0.0011, 0.0002, 0.0001, 0.0, 0.0, 0.0])"
      ]
     },
     "execution_count": 24,
     "metadata": {},
     "output_type": "execute_result"
    }
   ],
   "source": [
    "gaussian_model.gaussians[0].mean"
   ]
  },
  {
   "cell_type": "markdown",
   "id": "1387972d",
   "metadata": {},
   "source": [
    "the generated mean is the same dimension as the data's input features and can hence show or imply centres in the features that are important."
   ]
  },
  {
   "cell_type": "markdown",
   "id": "c0e65218",
   "metadata": {},
   "source": [
    "Means represent the centers of the clusters in the feature space. "
   ]
  },
  {
   "cell_type": "markdown",
   "id": "48e7d628",
   "metadata": {},
   "source": [
    "obviously the mean is the same dimension as the features:"
   ]
  },
  {
   "cell_type": "code",
   "execution_count": 30,
   "id": "46bb4c7e",
   "metadata": {},
   "outputs": [
    {
     "data": {
      "text/plain": [
       "(119,)"
      ]
     },
     "execution_count": 30,
     "metadata": {},
     "output_type": "execute_result"
    }
   ],
   "source": [
    "gaussian_model.gaussians[0].mean.shape"
   ]
  },
  {
   "cell_type": "code",
   "execution_count": 33,
   "id": "b5240bd6",
   "metadata": {},
   "outputs": [
    {
     "data": {
      "text/plain": [
       "DenseMatrix(119, 119, [1.0, 0.0412, 0.0204, -0.0002, -0.001, 0.0038, 0.0044, 0.0074, ..., -0.0, -0.0, -0.0, -0.0, -0.0, -0.0, -0.0, 0.0], 0)"
      ]
     },
     "execution_count": 33,
     "metadata": {},
     "output_type": "execute_result"
    }
   ],
   "source": [
    "gaussian_model.gaussians[1].cov"
   ]
  },
  {
   "cell_type": "markdown",
   "id": "d9f4e98f",
   "metadata": {},
   "source": [
    "Shape of the covariance matrix is features by features => \n",
    "- Covariance matrix describes the spread and relationships between pairs of features for the k-th gaussian component\n",
    "- Diagonal elements are variances of each feature indicating how spread out the data is along that feature for the gaussian\n",
    "- Off-Diagonal elements - represent the covariance between different features showing how they vary together\n",
    "- Shape dxd"
   ]
  },
  {
   "cell_type": "markdown",
   "id": "b75c3807",
   "metadata": {},
   "source": [
    "Get log likelihood:"
   ]
  },
  {
   "cell_type": "code",
   "execution_count": 36,
   "id": "7350970d",
   "metadata": {},
   "outputs": [
    {
     "data": {
      "text/plain": [
       "1248281190.3349934"
      ]
     },
     "execution_count": 36,
     "metadata": {},
     "output_type": "execute_result"
    }
   ],
   "source": [
    "gaussian_model.summary.logLikelihood"
   ]
  },
  {
   "cell_type": "markdown",
   "id": "17b6f48f",
   "metadata": {},
   "source": [
    "Soft and hard clustering:"
   ]
  },
  {
   "cell_type": "code",
   "execution_count": 26,
   "id": "a25e62c2",
   "metadata": {},
   "outputs": [],
   "source": [
    "data2 = pipeline_model.transform(data2)"
   ]
  },
  {
   "cell_type": "code",
   "execution_count": 27,
   "id": "855c25cd",
   "metadata": {},
   "outputs": [
    {
     "name": "stdout",
     "output_type": "stream",
     "text": [
      "+--------+-----------+\n",
      "|clusters|probability|\n",
      "+--------+-----------+\n",
      "|       0|  [0.5,0.5]|\n",
      "|       0|  [0.5,0.5]|\n",
      "|       0|  [0.5,0.5]|\n",
      "|       0|  [0.5,0.5]|\n",
      "|       0|  [0.5,0.5]|\n",
      "|       0|  [0.5,0.5]|\n",
      "|       0|  [0.5,0.5]|\n",
      "|       0|  [0.5,0.5]|\n",
      "|       0|  [0.5,0.5]|\n",
      "|       0|  [0.5,0.5]|\n",
      "|       0|  [0.5,0.5]|\n",
      "|       0|  [0.5,0.5]|\n",
      "|       0|  [0.5,0.5]|\n",
      "|       0|  [0.5,0.5]|\n",
      "|       0|  [0.5,0.5]|\n",
      "|       0|  [0.5,0.5]|\n",
      "|       0|  [0.5,0.5]|\n",
      "|       0|  [0.5,0.5]|\n",
      "|       0|  [0.5,0.5]|\n",
      "|       0|  [0.5,0.5]|\n",
      "+--------+-----------+\n",
      "only showing top 20 rows\n",
      "\n"
     ]
    }
   ],
   "source": [
    "data2.select(\"clusters\",\"probability\").show()"
   ]
  },
  {
   "cell_type": "markdown",
   "id": "8e18a32e",
   "metadata": {},
   "source": [
    "**Anomaly Detection:**\n",
    "- One way of doing anomaly detection with the GMM is inspect the soft clustering - probabilities column and if all probabilities for that point belonging to a certain cluster are all lower than some threshold - i.e. it has no dominants then it is an anomaly. "
   ]
  },
  {
   "cell_type": "markdown",
   "id": "922f78c6",
   "metadata": {},
   "source": [
    "**Selecting the number of clusters:**\n",
    "- Evaluate and compare AIC and BIC values\n"
   ]
  },
  {
   "cell_type": "code",
   "execution_count": 34,
   "id": "ccf4ffd0",
   "metadata": {},
   "outputs": [],
   "source": [
    "def get_num_parameters(k, n_features):\n",
    "    # Mean: k*d parameters\n",
    "    # Covariance: k*(d*(d+1)/2) parameters (symmetric matrix)\n",
    "    # Weights: k-1 free parameters (weights sum up to 1)\n",
    "    return k * (n_features + (n_features * (n_features+1))/2) + (k-1)"
   ]
  },
  {
   "cell_type": "code",
   "execution_count": 37,
   "id": "7ec59868",
   "metadata": {},
   "outputs": [
    {
     "data": {
      "text/plain": [
       "1248281190.3349934"
      ]
     },
     "execution_count": 37,
     "metadata": {},
     "output_type": "execute_result"
    }
   ],
   "source": [
    "gaussian_model.summary.logLikelihood"
   ]
  },
  {
   "cell_type": "code",
   "execution_count": 38,
   "id": "11a149f8",
   "metadata": {},
   "outputs": [
    {
     "data": {
      "text/plain": [
       "2"
      ]
     },
     "execution_count": 38,
     "metadata": {},
     "output_type": "execute_result"
    }
   ],
   "source": [
    "gaussian_model.getK()"
   ]
  },
  {
   "cell_type": "code",
   "execution_count": 50,
   "id": "22806ba2",
   "metadata": {},
   "outputs": [],
   "source": [
    "import numpy as np"
   ]
  },
  {
   "cell_type": "code",
   "execution_count": 51,
   "id": "74720cd0",
   "metadata": {},
   "outputs": [],
   "source": [
    "# function to compute AIC and BIC:\n",
    "def compute_aic_bic(model, data_count, n_features):\n",
    "    log_likelihood = model.summary.logLikelihood\n",
    "    p = get_num_parameters(model.getK(),n_features)\n",
    "    n = data_count\n",
    "    aic = -2*log_likelihood + 2*p\n",
    "    bic = -2*log_likelihood + p*np.log(n)\n",
    "    return aic, bic"
   ]
  },
  {
   "cell_type": "markdown",
   "id": "8c32d804",
   "metadata": {},
   "source": [
    "Compute d - num of features"
   ]
  },
  {
   "cell_type": "code",
   "execution_count": 42,
   "id": "823a3c9a",
   "metadata": {},
   "outputs": [
    {
     "data": {
      "text/plain": [
       "119"
      ]
     },
     "execution_count": 42,
     "metadata": {},
     "output_type": "execute_result"
    }
   ],
   "source": [
    "len(data2.select(\"featureVector\").first()[0])"
   ]
  },
  {
   "cell_type": "code",
   "execution_count": 46,
   "id": "59a22fd0",
   "metadata": {},
   "outputs": [],
   "source": [
    "n_features = len(data2.select(\"featureVector\").first()[0])"
   ]
  },
  {
   "cell_type": "code",
   "execution_count": 47,
   "id": "507bff17",
   "metadata": {},
   "outputs": [],
   "source": [
    "data_count = data.count()"
   ]
  },
  {
   "cell_type": "code",
   "execution_count": 45,
   "id": "1ef716f1",
   "metadata": {},
   "outputs": [
    {
     "data": {
      "text/plain": [
       "SparseVector(119, {0: -0.0668, 1: -0.0017, 2: 0.0682, 3: -0.0024, 4: -0.0151, 5: -0.0011, 6: -0.0265, 7: -0.0044, 8: 2.4428, 9: -0.0021, 10: -0.0083, 11: -0.0045, 12: -0.0033, 13: -0.0096, 14: -0.0085, 15: -0.0288, 17: -0.0006, 18: -0.0289, 19: -1.5754, 20: -1.1962, 21: -0.466, 22: -0.4658, 23: -0.2483, 24: -0.2481, 25: 0.5397, 26: -0.2561, 27: -0.2011, 28: -3.6391, 29: -1.7865, 30: -1.833, 31: -0.2829, 32: -1.2579, 33: -0.1567, 34: -0.4664, 35: -0.4655, 36: -0.2508, 37: -0.2496, 39: 1.0, 42: 1.0, 109: 1.0})"
      ]
     },
     "execution_count": 45,
     "metadata": {},
     "output_type": "execute_result"
    }
   ],
   "source": [
    "data2.select(\"featureVector\").first()[0]"
   ]
  },
  {
   "cell_type": "code",
   "execution_count": 52,
   "id": "92d9109b",
   "metadata": {},
   "outputs": [],
   "source": [
    "aic,bic = compute_aic_bic(model=gaussian_model, data_count=data_count, n_features=n_features)"
   ]
  },
  {
   "cell_type": "code",
   "execution_count": 53,
   "id": "a885bc3f",
   "metadata": {},
   "outputs": [
    {
     "data": {
      "text/plain": [
       "-2496533342.6699867"
      ]
     },
     "execution_count": 53,
     "metadata": {},
     "output_type": "execute_result"
    }
   ],
   "source": [
    "aic"
   ]
  },
  {
   "cell_type": "code",
   "execution_count": 54,
   "id": "837c9e02",
   "metadata": {},
   "outputs": [
    {
     "data": {
      "text/plain": [
       "-2496338723.81604"
      ]
     },
     "execution_count": 54,
     "metadata": {},
     "output_type": "execute_result"
    }
   ],
   "source": [
    "bic"
   ]
  },
  {
   "cell_type": "markdown",
   "id": "921d0b89",
   "metadata": {},
   "source": [
    "Plot AIC and BIC against K. \n",
    "Choose elbow point."
   ]
  },
  {
   "cell_type": "markdown",
   "id": "59fe262a",
   "metadata": {},
   "source": [
    "Other points to note:"
   ]
  },
  {
   "cell_type": "markdown",
   "id": "a9023040",
   "metadata": {},
   "source": [
    "its possible to relate the original categories to the indexed integers with the string indexer - using the indexer.labels => returns a tuple of index and category. "
   ]
  }
 ],
 "metadata": {
  "kernelspec": {
   "display_name": "venv",
   "language": "python",
   "name": "python3"
  },
  "language_info": {
   "codemirror_mode": {
    "name": "ipython",
    "version": 3
   },
   "file_extension": ".py",
   "mimetype": "text/x-python",
   "name": "python",
   "nbconvert_exporter": "python",
   "pygments_lexer": "ipython3",
   "version": "3.10.9"
  }
 },
 "nbformat": 4,
 "nbformat_minor": 5
}
