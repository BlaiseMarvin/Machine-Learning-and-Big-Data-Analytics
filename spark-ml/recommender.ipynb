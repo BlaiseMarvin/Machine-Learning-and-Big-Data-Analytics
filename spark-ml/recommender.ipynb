{
 "cells": [
  {
   "cell_type": "markdown",
   "id": "d7cde3b0",
   "metadata": {},
   "source": [
    "**Setting up the Data:**\n",
    "- Dataset - published by Audioscrobbler."
   ]
  },
  {
   "cell_type": "code",
   "execution_count": 1,
   "id": "9bf7cdaf",
   "metadata": {},
   "outputs": [],
   "source": [
    "from pyspark.sql import SparkSession\n",
    "from pyspark import SparkConf\n",
    "import os, sys\n",
    "\n",
    "os.environ['PYSPARK_PYTHON'] = sys.executable\n",
    "os.environ['PYSPARK_DRIVER_PYTHON'] = sys.executable"
   ]
  },
  {
   "cell_type": "code",
   "execution_count": 2,
   "id": "5db4fe62",
   "metadata": {},
   "outputs": [
    {
     "data": {
      "text/plain": [
       "<pyspark.conf.SparkConf at 0x25889031870>"
      ]
     },
     "execution_count": 2,
     "metadata": {},
     "output_type": "execute_result"
    }
   ],
   "source": [
    "conf = SparkConf()\n",
    "conf.set(\"spark.app.name\",\"recommender\")\n",
    "conf.set(\"spark.master\",\"local[*]\")\n",
    "conf.set(\"spark.driver.memory\",\"4g\")"
   ]
  },
  {
   "cell_type": "code",
   "execution_count": 3,
   "id": "2094fc96",
   "metadata": {},
   "outputs": [],
   "source": [
    "spark = SparkSession.builder\\\n",
    "                    .config(conf=conf)\\\n",
    "                    .getOrCreate()"
   ]
  },
  {
   "cell_type": "code",
   "execution_count": 5,
   "id": "1cf60290",
   "metadata": {},
   "outputs": [],
   "source": [
    "raw_user_artist_path = r\"C:\\Users\\blais\\Documents\\ML\\data\\audioscrobbler_data\\user_artist_data.txt\"\n",
    "raw_user_artist_data = spark.read.text(raw_user_artist_path)"
   ]
  },
  {
   "cell_type": "markdown",
   "id": "85bf6261",
   "metadata": {},
   "source": [
    "Artist plays:"
   ]
  },
  {
   "cell_type": "code",
   "execution_count": 6,
   "id": "ae649df1",
   "metadata": {},
   "outputs": [
    {
     "name": "stdout",
     "output_type": "stream",
     "text": [
      "+-------------------+\n",
      "|              value|\n",
      "+-------------------+\n",
      "|       1000002 1 55|\n",
      "| 1000002 1000006 33|\n",
      "|  1000002 1000007 8|\n",
      "|1000002 1000009 144|\n",
      "|1000002 1000010 314|\n",
      "+-------------------+\n",
      "only showing top 5 rows\n",
      "\n"
     ]
    }
   ],
   "source": [
    "raw_user_artist_data.show(5)"
   ]
  },
  {
   "cell_type": "markdown",
   "id": "26cc8488",
   "metadata": {},
   "source": [
    "Dataset also gives the names of each artist by ID "
   ]
  },
  {
   "cell_type": "code",
   "execution_count": 7,
   "id": "7357e7ea",
   "metadata": {},
   "outputs": [
    {
     "name": "stdout",
     "output_type": "stream",
     "text": [
      "+--------------------+\n",
      "|               value|\n",
      "+--------------------+\n",
      "|1134999\\t06Crazy ...|\n",
      "|6821360\\tPang Nak...|\n",
      "|10113088\\tTerfel,...|\n",
      "|10151459\\tThe Fla...|\n",
      "|6826647\\tBodensta...|\n",
      "+--------------------+\n",
      "only showing top 5 rows\n",
      "\n"
     ]
    }
   ],
   "source": [
    "raw_artist_data = spark.read.text(r\"C:\\Users\\blais\\Documents\\ML\\data\\audioscrobbler_data\\artist_data.txt\")\n",
    "raw_artist_data.show(5)"
   ]
  },
  {
   "cell_type": "code",
   "execution_count": 8,
   "id": "8562e90a",
   "metadata": {},
   "outputs": [],
   "source": [
    "raw_artist_alias = spark.read.text(r\"C:\\Users\\blais\\Documents\\ML\\data\\audioscrobbler_data\\artist_alias.txt\")"
   ]
  },
  {
   "cell_type": "code",
   "execution_count": 9,
   "id": "9b240990",
   "metadata": {},
   "outputs": [
    {
     "name": "stdout",
     "output_type": "stream",
     "text": [
      "+-----------------+\n",
      "|            value|\n",
      "+-----------------+\n",
      "| 1092764\\t1000311|\n",
      "| 1095122\\t1000557|\n",
      "| 6708070\\t1007267|\n",
      "|10088054\\t1042317|\n",
      "| 1195917\\t1042317|\n",
      "+-----------------+\n",
      "only showing top 5 rows\n",
      "\n"
     ]
    }
   ],
   "source": [
    "raw_artist_alias.show(5)"
   ]
  },
  {
   "cell_type": "markdown",
   "id": "d10f894b",
   "metadata": {},
   "source": [
    "Now that we have a basic understanding of the datasets:\n",
    "- One that has users, artists and number of times a user has played songs from an artist\n",
    "- Another that has artist IDs and names\n",
    "- Another works to correct wrongly named artists - maps IDs to their real ID (Facts table sort of)\n",
    "\n",
    "**Our Requirements for a Recommender System:**\n",
    "- We need to choose a recommender algorithm that is suitable for our data. Here are our considerations:\n",
    "\n",
    "1. Implicit feedback:\n",
    "Data is comprised entirely of interactions between users and artists' songs. It contains no information about users or about artists. We need an algorithm that learns without access to user or artist attributes. These are called collaborarive filtering algorithms. \n",
    "2. Sparsity:\n",
    "Our dataset looks large - 10s of millions of play counts but - small skimpy and sparse. \n",
    "3. Scalability and real-time predictions: real time predictions\n",
    "\n",
    "\n",
    "A broad class of algorithms that may be suitable is - latent factor models. They try to explain observed interactions between large numbers of users and items through a relatively small number of unobserved underlying reasons. for example, consider a customer who has bought albums by metal bands Megadeth and Pantera but also classical composer Mozart. It may be difficult to explain why these albums were boight.However, its probably a small window on a mich larger set of tastes. Maybe the customer likes a coherent spectrum of music. \n",
    "\n",
    "**Using collaborative filters and Matrix Factorisation:**\n",
    "\n"
   ]
  },
  {
   "cell_type": "markdown",
   "id": "bd472a56",
   "metadata": {},
   "source": [
    "**Alternating Least Squares Algorithm:**\n"
   ]
  },
  {
   "cell_type": "code",
   "execution_count": 10,
   "id": "e834da2a",
   "metadata": {},
   "outputs": [],
   "source": [
    "import pyspark.sql.functions as f \n",
    "from pyspark.sql.types import IntegerType, StringType"
   ]
  },
  {
   "cell_type": "code",
   "execution_count": 11,
   "id": "8fb0270c",
   "metadata": {},
   "outputs": [
    {
     "name": "stdout",
     "output_type": "stream",
     "text": [
      "+-------------------+\n",
      "|              value|\n",
      "+-------------------+\n",
      "|       1000002 1 55|\n",
      "| 1000002 1000006 33|\n",
      "|  1000002 1000007 8|\n",
      "|1000002 1000009 144|\n",
      "|1000002 1000010 314|\n",
      "+-------------------+\n",
      "only showing top 5 rows\n",
      "\n"
     ]
    }
   ],
   "source": [
    "raw_user_artist_data.show(5)"
   ]
  },
  {
   "cell_type": "code",
   "execution_count": 15,
   "id": "2149e171",
   "metadata": {},
   "outputs": [],
   "source": [
    "user_artist_df = raw_user_artist_data\\\n",
    "                            .withColumn('user', f.split(raw_user_artist_data['value'],' ').getItem(0).cast(IntegerType()))\\\n",
    "                            .withColumn('artist',f.split(raw_user_artist_data['value'],' ').getItem(1).cast(IntegerType()))\\\n",
    "                            .withColumn('count',f.split(raw_user_artist_data['value'],' ').getItem(2).cast(IntegerType()))\\\n",
    "                            .drop(\"value\")"
   ]
  },
  {
   "cell_type": "code",
   "execution_count": 17,
   "id": "61f96643",
   "metadata": {},
   "outputs": [
    {
     "name": "stdout",
     "output_type": "stream",
     "text": [
      "+-------+-------+-----+\n",
      "|   user| artist|count|\n",
      "+-------+-------+-----+\n",
      "|1000002|      1|   55|\n",
      "|1000002|1000006|   33|\n",
      "|1000002|1000007|    8|\n",
      "+-------+-------+-----+\n",
      "only showing top 3 rows\n",
      "\n"
     ]
    }
   ],
   "source": [
    "user_artist_df.show(3)"
   ]
  },
  {
   "cell_type": "code",
   "execution_count": 18,
   "id": "caae2390",
   "metadata": {},
   "outputs": [
    {
     "name": "stdout",
     "output_type": "stream",
     "text": [
      "+---------+---------+-----------+-----------+\n",
      "|min(user)|max(user)|min(artist)|max(artist)|\n",
      "+---------+---------+-----------+-----------+\n",
      "|       90|  2443548|          1|   10794401|\n",
      "+---------+---------+-----------+-----------+\n",
      "\n"
     ]
    }
   ],
   "source": [
    "user_artist_df.select(f.min(\"user\"), f.max(\"user\"), f.min(\"artist\"), f.max(\"artist\")).show()"
   ]
  },
  {
   "cell_type": "code",
   "execution_count": 19,
   "id": "a6752dce",
   "metadata": {},
   "outputs": [
    {
     "name": "stdout",
     "output_type": "stream",
     "text": [
      "+--------------------+\n",
      "|               value|\n",
      "+--------------------+\n",
      "|1134999\\t06Crazy ...|\n",
      "|6821360\\tPang Nak...|\n",
      "|10113088\\tTerfel,...|\n",
      "+--------------------+\n",
      "only showing top 3 rows\n",
      "\n"
     ]
    }
   ],
   "source": [
    "raw_artist_data.show(3)"
   ]
  },
  {
   "cell_type": "code",
   "execution_count": 21,
   "id": "bdc92ec9",
   "metadata": {},
   "outputs": [],
   "source": [
    "artist_by_id = raw_artist_data.withColumn('id', f.split(f.col('value'), '\\s+', 2).getItem(0).cast(IntegerType()))\\\n",
    "                              .withColumn('name', f.split(f.col('value'),'\\s+',2).getItem(1).cast(StringType()))\\\n",
    "                              .drop(\"value\")"
   ]
  },
  {
   "cell_type": "code",
   "execution_count": 22,
   "id": "93dcc8ef",
   "metadata": {},
   "outputs": [
    {
     "name": "stdout",
     "output_type": "stream",
     "text": [
      "+--------+--------------------+\n",
      "|      id|                name|\n",
      "+--------+--------------------+\n",
      "| 1134999|        06Crazy Life|\n",
      "| 6821360|        Pang Nakarin|\n",
      "|10113088|Terfel, Bartoli- ...|\n",
      "+--------+--------------------+\n",
      "only showing top 3 rows\n",
      "\n"
     ]
    }
   ],
   "source": [
    "artist_by_id.show(3)"
   ]
  },
  {
   "cell_type": "markdown",
   "id": "f31bedde",
   "metadata": {},
   "source": [
    "Raw artist alias maps artist IDs that may be mispelled or nonstandard to the ID of the artist's canonical name. "
   ]
  },
  {
   "cell_type": "code",
   "execution_count": 23,
   "id": "42bb5e6d",
   "metadata": {},
   "outputs": [
    {
     "name": "stdout",
     "output_type": "stream",
     "text": [
      "+----------------+\n",
      "|           value|\n",
      "+----------------+\n",
      "|1092764\\t1000311|\n",
      "|1095122\\t1000557|\n",
      "|6708070\\t1007267|\n",
      "+----------------+\n",
      "only showing top 3 rows\n",
      "\n"
     ]
    }
   ],
   "source": [
    "raw_artist_alias.show(3)"
   ]
  },
  {
   "cell_type": "code",
   "execution_count": 24,
   "id": "faaa1a90",
   "metadata": {},
   "outputs": [],
   "source": [
    "artist_alias = raw_artist_alias.withColumn('artist', f.split(f.col('value'),'\\s+').getItem(0).cast(IntegerType()))\\\n",
    "                               .withColumn('alias',f.split(f.col('value'),'\\s+').getItem(1).cast(StringType()))\\\n",
    "                               .drop(\"value\")"
   ]
  },
  {
   "cell_type": "code",
   "execution_count": 25,
   "id": "12c87303",
   "metadata": {},
   "outputs": [
    {
     "name": "stdout",
     "output_type": "stream",
     "text": [
      "+--------+-------+\n",
      "|  artist|  alias|\n",
      "+--------+-------+\n",
      "| 1092764|1000311|\n",
      "| 1095122|1000557|\n",
      "| 6708070|1007267|\n",
      "|10088054|1042317|\n",
      "+--------+-------+\n",
      "only showing top 4 rows\n",
      "\n"
     ]
    }
   ],
   "source": [
    "artist_alias.show(4)"
   ]
  },
  {
   "cell_type": "markdown",
   "id": "0348427b",
   "metadata": {},
   "source": [
    "first entry maps ID 1092764 to 1000311. We can look these up from artist_by_id:"
   ]
  },
  {
   "cell_type": "code",
   "execution_count": 28,
   "id": "a7f44408",
   "metadata": {},
   "outputs": [
    {
     "name": "stdout",
     "output_type": "stream",
     "text": [
      "+-------+--------------+\n",
      "|     id|          name|\n",
      "+-------+--------------+\n",
      "|1000311| Steve Winwood|\n",
      "|1092764|Winwood, Steve|\n",
      "+-------+--------------+\n",
      "\n"
     ]
    }
   ],
   "source": [
    "artist_by_id.where(\"id IN (1092764, 1000311)\").show()"
   ]
  },
  {
   "cell_type": "markdown",
   "id": "93d8a823",
   "metadata": {},
   "source": [
    "**Building a First Model:**\n",
    "- Although the dataset is nearly right form for use with spark mllib's als - it requires small, extra transformation. the aliases should be applied to convert alll artist IDs to a canonical ID, if a different canonical ID exists:"
   ]
  },
  {
   "cell_type": "code",
   "execution_count": 30,
   "id": "f09f223b",
   "metadata": {},
   "outputs": [
    {
     "name": "stdout",
     "output_type": "stream",
     "text": [
      "+-------+-------+\n",
      "| artist|  alias|\n",
      "+-------+-------+\n",
      "|1092764|1000311|\n",
      "|1095122|1000557|\n",
      "|6708070|1007267|\n",
      "+-------+-------+\n",
      "only showing top 3 rows\n",
      "\n"
     ]
    }
   ],
   "source": [
    "artist_alias.show(3)"
   ]
  },
  {
   "cell_type": "code",
   "execution_count": 29,
   "id": "c0bba510",
   "metadata": {},
   "outputs": [
    {
     "name": "stdout",
     "output_type": "stream",
     "text": [
      "+-------+-------+-----+\n",
      "|   user| artist|count|\n",
      "+-------+-------+-----+\n",
      "|1000002|      1|   55|\n",
      "|1000002|1000006|   33|\n",
      "|1000002|1000007|    8|\n",
      "+-------+-------+-----+\n",
      "only showing top 3 rows\n",
      "\n"
     ]
    }
   ],
   "source": [
    "user_artist_df.show(3)"
   ]
  },
  {
   "cell_type": "code",
   "execution_count": 31,
   "id": "18e5e018",
   "metadata": {},
   "outputs": [],
   "source": [
    "train_data = user_artist_df.join(f.broadcast(artist_alias), 'artist', how='left')"
   ]
  },
  {
   "cell_type": "code",
   "execution_count": 32,
   "id": "cc1c8c9b",
   "metadata": {},
   "outputs": [
    {
     "name": "stdout",
     "output_type": "stream",
     "text": [
      "+-------+-------+-----+-----+\n",
      "| artist|   user|count|alias|\n",
      "+-------+-------+-----+-----+\n",
      "|      1|1000002|   55| NULL|\n",
      "|1000006|1000002|   33| NULL|\n",
      "|1000007|1000002|    8| NULL|\n",
      "+-------+-------+-----+-----+\n",
      "only showing top 3 rows\n",
      "\n"
     ]
    }
   ],
   "source": [
    "train_data.show(3)"
   ]
  },
  {
   "cell_type": "code",
   "execution_count": 34,
   "id": "fb5e7f19",
   "metadata": {},
   "outputs": [],
   "source": [
    "train_data = train_data.withColumn('artist',\n",
    "                                    f.when(f.col('alias').isNull(),f.col('artist')).otherwise(f.col('alias')))"
   ]
  },
  {
   "cell_type": "code",
   "execution_count": 35,
   "id": "1948289e",
   "metadata": {},
   "outputs": [],
   "source": [
    "train_data = train_data.withColumn('artist',f.col('artist').cast(IntegerType()))\\\n",
    "                       .drop('alias')"
   ]
  },
  {
   "cell_type": "code",
   "execution_count": 36,
   "id": "a85a82a9",
   "metadata": {},
   "outputs": [
    {
     "data": {
      "text/plain": [
       "DataFrame[artist: int, user: int, count: int]"
      ]
     },
     "execution_count": 36,
     "metadata": {},
     "output_type": "execute_result"
    }
   ],
   "source": [
    "train_data.cache()"
   ]
  },
  {
   "cell_type": "code",
   "execution_count": 37,
   "id": "3d83d838",
   "metadata": {},
   "outputs": [
    {
     "data": {
      "text/plain": [
       "24296858"
      ]
     },
     "execution_count": 37,
     "metadata": {},
     "output_type": "execute_result"
    }
   ],
   "source": [
    "train_data.count()"
   ]
  },
  {
   "cell_type": "markdown",
   "id": "6246b74f",
   "metadata": {},
   "source": [
    "with spark, when you use cache or persist - the dataframe is not fully cached until you trigger an action that goes through every record (e.g. count). Using an action like show(1) - only one partition will be cached. "
   ]
  },
  {
   "cell_type": "markdown",
   "id": "aa3b4f3e",
   "metadata": {},
   "source": [
    "Finally - build a model:"
   ]
  },
  {
   "cell_type": "code",
   "execution_count": 38,
   "id": "d497fe3d",
   "metadata": {},
   "outputs": [],
   "source": [
    "from pyspark.ml.recommendation import ALS"
   ]
  },
  {
   "cell_type": "code",
   "execution_count": 40,
   "id": "84ca8207",
   "metadata": {},
   "outputs": [
    {
     "name": "stdout",
     "output_type": "stream",
     "text": [
      "+-------+-------+-----+\n",
      "| artist|   user|count|\n",
      "+-------+-------+-----+\n",
      "|      1|1000002|   55|\n",
      "|1000006|1000002|   33|\n",
      "|1000007|1000002|    8|\n",
      "+-------+-------+-----+\n",
      "only showing top 3 rows\n",
      "\n"
     ]
    }
   ],
   "source": [
    "train_data.show(3)"
   ]
  },
  {
   "cell_type": "code",
   "execution_count": 41,
   "id": "a6da10d8",
   "metadata": {},
   "outputs": [],
   "source": [
    "model = ALS(rank=10, seed=0, maxIter=5, regParam=0.1,\n",
    "            implicitPrefs=True, alpha=1.0, userCol='user',\n",
    "            itemCol='artist', ratingCol='count').fit(train_data)"
   ]
  },
  {
   "cell_type": "markdown",
   "id": "5c6e94da",
   "metadata": {},
   "source": [
    "to see some feature vectors, try the following - which displays just 1 row and does not truncate the wide display of the feature vector."
   ]
  },
  {
   "cell_type": "code",
   "execution_count": 42,
   "id": "374586b5",
   "metadata": {},
   "outputs": [
    {
     "name": "stdout",
     "output_type": "stream",
     "text": [
      "+---+-----------------------------------------------------------------------------------------------------------------------------+\n",
      "|id |features                                                                                                                     |\n",
      "+---+-----------------------------------------------------------------------------------------------------------------------------+\n",
      "|90 |[0.16020626, 0.20717518, -0.17194685, 0.060384676, 0.0627277, 0.54658705, -0.40481892, 0.43657345, -0.10396776, -0.042728294]|\n",
      "+---+-----------------------------------------------------------------------------------------------------------------------------+\n",
      "only showing top 1 row\n",
      "\n"
     ]
    }
   ],
   "source": [
    "model.userFactors.show(1, truncate=False)"
   ]
  },
  {
   "cell_type": "markdown",
   "id": "decab933",
   "metadata": {},
   "source": [
    "**Spot Checking Recommendations:**"
   ]
  },
  {
   "cell_type": "code",
   "execution_count": 43,
   "id": "560fe0ae",
   "metadata": {},
   "outputs": [],
   "source": [
    "user_id = 2093760"
   ]
  },
  {
   "cell_type": "code",
   "execution_count": 44,
   "id": "378212c3",
   "metadata": {},
   "outputs": [],
   "source": [
    "existing_artist_ids = train_data.filter(train_data.user == user_id).select(\"artist\").collect()"
   ]
  },
  {
   "cell_type": "code",
   "execution_count": 45,
   "id": "58480ac1",
   "metadata": {},
   "outputs": [],
   "source": [
    "existing_artist_ids = [i[0] for i in existing_artist_ids]"
   ]
  },
  {
   "cell_type": "code",
   "execution_count": 46,
   "id": "d5d8faa5",
   "metadata": {},
   "outputs": [
    {
     "data": {
      "text/plain": [
       "[1180, 1255340, 378, 813, 942]"
      ]
     },
     "execution_count": 46,
     "metadata": {},
     "output_type": "execute_result"
    }
   ],
   "source": [
    "existing_artist_ids"
   ]
  },
  {
   "cell_type": "code",
   "execution_count": 48,
   "id": "4e410e8b",
   "metadata": {},
   "outputs": [
    {
     "name": "stdout",
     "output_type": "stream",
     "text": [
      "+-------+---------------+\n",
      "|     id|           name|\n",
      "+-------+---------------+\n",
      "|   1180|     David Gray|\n",
      "|    378|  Blackalicious|\n",
      "|    813|     Jurassic 5|\n",
      "|1255340|The Saw Doctors|\n",
      "|    942|         Xzibit|\n",
      "+-------+---------------+\n",
      "\n"
     ]
    }
   ],
   "source": [
    "artist_by_id.filter(f.col('id').isin(existing_artist_ids)).show()"
   ]
  },
  {
   "cell_type": "code",
   "execution_count": 49,
   "id": "e3f8bc68",
   "metadata": {},
   "outputs": [],
   "source": [
    "user_subset = train_data.select('user').where(f.col('user')== user_id).distinct()"
   ]
  },
  {
   "cell_type": "code",
   "execution_count": 50,
   "id": "583947d0",
   "metadata": {},
   "outputs": [
    {
     "name": "stdout",
     "output_type": "stream",
     "text": [
      "+-------+\n",
      "|   user|\n",
      "+-------+\n",
      "|2093760|\n",
      "+-------+\n",
      "\n"
     ]
    }
   ],
   "source": [
    "user_subset.show()"
   ]
  },
  {
   "cell_type": "code",
   "execution_count": 51,
   "id": "40e26df5",
   "metadata": {},
   "outputs": [],
   "source": [
    "top_predictions = model.recommendForUserSubset(user_subset, 5)"
   ]
  },
  {
   "cell_type": "code",
   "execution_count": 52,
   "id": "a40f15cf",
   "metadata": {},
   "outputs": [
    {
     "name": "stdout",
     "output_type": "stream",
     "text": [
      "+-------+--------------------+\n",
      "|   user|     recommendations|\n",
      "+-------+--------------------+\n",
      "|2093760|[{2814, 0.0294106...|\n",
      "+-------+--------------------+\n",
      "\n"
     ]
    }
   ],
   "source": [
    "top_predictions.show()"
   ]
  },
  {
   "cell_type": "code",
   "execution_count": 53,
   "id": "c3248d97",
   "metadata": {},
   "outputs": [],
   "source": [
    "top_predictions_pandas = top_predictions.toPandas()"
   ]
  },
  {
   "cell_type": "code",
   "execution_count": 54,
   "id": "68e47497",
   "metadata": {},
   "outputs": [
    {
     "name": "stdout",
     "output_type": "stream",
     "text": [
      "      user                                    recommendations\n",
      "0  2093760  [(2814, 0.029410677030682564), (1300642, 0.028...\n"
     ]
    }
   ],
   "source": [
    "print(top_predictions_pandas)"
   ]
  },
  {
   "cell_type": "code",
   "execution_count": 55,
   "id": "c1b9dc04",
   "metadata": {},
   "outputs": [],
   "source": [
    "recommended_artist_ids = [i[0] for i in top_predictions_pandas.recommendations[0]]"
   ]
  },
  {
   "cell_type": "code",
   "execution_count": 57,
   "id": "8aad1849",
   "metadata": {},
   "outputs": [
    {
     "name": "stdout",
     "output_type": "stream",
     "text": [
      "+-------+----------+\n",
      "|     id|      name|\n",
      "+-------+----------+\n",
      "|   2814|   50 Cent|\n",
      "|   4605|Snoop Dogg|\n",
      "|1007614|     Jay-Z|\n",
      "|1001819|      2Pac|\n",
      "|1300642|  The Game|\n",
      "+-------+----------+\n",
      "\n"
     ]
    }
   ],
   "source": [
    "artist_by_id.filter(f.col('id').isin(recommended_artist_ids)).show()"
   ]
  },
  {
   "cell_type": "code",
   "execution_count": null,
   "id": "827a7c0d",
   "metadata": {},
   "outputs": [],
   "source": []
  }
 ],
 "metadata": {
  "kernelspec": {
   "display_name": "venv",
   "language": "python",
   "name": "python3"
  },
  "language_info": {
   "codemirror_mode": {
    "name": "ipython",
    "version": 3
   },
   "file_extension": ".py",
   "mimetype": "text/x-python",
   "name": "python",
   "nbconvert_exporter": "python",
   "pygments_lexer": "ipython3",
   "version": "3.10.9"
  }
 },
 "nbformat": 4,
 "nbformat_minor": 5
}
