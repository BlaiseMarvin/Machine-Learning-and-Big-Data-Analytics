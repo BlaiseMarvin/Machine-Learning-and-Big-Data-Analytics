{
 "cells": [
  {
   "cell_type": "markdown",
   "id": "38358bc7",
   "metadata": {},
   "source": [
    "**Building an Image Classifier Using the Sequential API:**\n",
    "- Dataset: FashionMNIST => drop-in replacement of MNIST. Exact same format as MNIST (70,000) grayscale images of 28x28 pixels each with 10 classes. But the images represent fashion items rather than handwritten digits. "
   ]
  },
  {
   "cell_type": "markdown",
   "id": "de646369",
   "metadata": {},
   "source": [
    "**Using keras to load the dataset:**\n",
    "- keras provides some utility functions to fetch and load common  datasets, including MNIST, Fashion MNIST and others. "
   ]
  },
  {
   "cell_type": "code",
   "execution_count": 1,
   "id": "206d8b66",
   "metadata": {},
   "outputs": [],
   "source": [
    "import tensorflow as tf"
   ]
  },
  {
   "cell_type": "code",
   "execution_count": 2,
   "id": "c17f76c9",
   "metadata": {},
   "outputs": [],
   "source": [
    "fashion_mnist = tf.keras.datasets.fashion_mnist.load_data()"
   ]
  },
  {
   "cell_type": "code",
   "execution_count": 3,
   "id": "00659acd",
   "metadata": {},
   "outputs": [],
   "source": [
    "(X_train_full, y_train_full),(X_test, y_test) = fashion_mnist\n",
    "X_train, y_train = X_train_full[:-5000], y_train_full[:-5000]\n",
    "X_valid, y_valid = X_train_full[-5000:], y_train_full[-5000:]"
   ]
  },
  {
   "cell_type": "markdown",
   "id": "2a328b1e",
   "metadata": {},
   "source": [
    "When loading MNIST or FashionMNIST using keras rather than scikit-learn, one important difference is that every image is represented as a 28x28 array rather than a 1D array of size 784. Moreover the pixel intensitities are represented as intefers from 0 to 255, rather than floats. "
   ]
  },
  {
   "cell_type": "code",
   "execution_count": 4,
   "id": "f606ff8a",
   "metadata": {},
   "outputs": [
    {
     "data": {
      "text/plain": [
       "(55000, 28, 28)"
      ]
     },
     "execution_count": 4,
     "metadata": {},
     "output_type": "execute_result"
    }
   ],
   "source": [
    "X_train.shape"
   ]
  },
  {
   "cell_type": "code",
   "execution_count": 5,
   "id": "df00feee",
   "metadata": {},
   "outputs": [
    {
     "data": {
      "text/plain": [
       "dtype('uint8')"
      ]
     },
     "execution_count": 5,
     "metadata": {},
     "output_type": "execute_result"
    }
   ],
   "source": [
    "X_train.dtype"
   ]
  },
  {
   "cell_type": "markdown",
   "id": "8ee442dc",
   "metadata": {},
   "source": [
    "For simplicity - we'll scale the pixel intensities down to the 0-1 range by dividing them by 255.0 (this also converts them to floats):"
   ]
  },
  {
   "cell_type": "code",
   "execution_count": 6,
   "id": "0205d7b9",
   "metadata": {},
   "outputs": [],
   "source": [
    "X_train, X_valid, X_test = X_train/255.0, X_valid/255.0, X_test/255.0"
   ]
  },
  {
   "cell_type": "markdown",
   "id": "1b8e2180",
   "metadata": {},
   "source": [
    "For fashion MNIST - we need the list of class names to know what we're dealing with:"
   ]
  },
  {
   "cell_type": "code",
   "execution_count": 7,
   "id": "17eb85b5",
   "metadata": {},
   "outputs": [],
   "source": [
    "class_names = [\"T-shirt/top\", \"Trouser\", \"Pullover\", \"Dress\", \"Coat\",\"Sandal\", \"Shirt\", \"Sneaker\", \"Bag\", \"Ankle boot\"]"
   ]
  },
  {
   "cell_type": "code",
   "execution_count": 8,
   "id": "056683ca",
   "metadata": {},
   "outputs": [
    {
     "data": {
      "text/plain": [
       "'Ankle boot'"
      ]
     },
     "execution_count": 8,
     "metadata": {},
     "output_type": "execute_result"
    }
   ],
   "source": [
    "class_names[y_train[0]]"
   ]
  },
  {
   "cell_type": "markdown",
   "id": "e66a6ba3",
   "metadata": {},
   "source": [
    "**Creating the model using the sequential API:**\n",
    "- Here's a classification MLP with 2 hidden layers"
   ]
  },
  {
   "cell_type": "code",
   "execution_count": 9,
   "id": "2d92c128",
   "metadata": {},
   "outputs": [],
   "source": [
    "tf.random.set_seed(42) # first, set tf's random seed to make the results reproducible: random weights of the hidden layers and o/p layers will be the same everytime you run the notebook\n",
    "# could also choose to use the tf.keras.utils.set_random_seed() function, which conveniently sets the random seeds for tf\n",
    "# tf.keras.utils.set_random_seed() -> sts the random seed for tf, python and numpy\n",
    "\n",
    "model = tf.keras.Sequential() # next line creates a sequential model - composed of a single stack of layers\n",
    "model.add(tf.keras.layers.Input(shape=[28,28])) # next, build the first layer (input layer) - and add it to the model - specifying the input shape - doesn't include the batch size - only the shape of the instances. keras needs to know the shape of the input - so it can determine the shape of the connection weight matrix of the first hidden layer\n",
    "model.add(tf.keras.layers.Flatten()) # role is to convert each input to a 1D array => \n",
    "model.add(tf.keras.layers.Dense(300, activation=\"relu\"))\n",
    "model.add(tf.keras.layers.Dense(100, activation=\"relu\"))\n",
    "model.add(tf.keras.layers.Dense(10, activation=\"softmax\"))"
   ]
  },
  {
   "cell_type": "markdown",
   "id": "acbc7215",
   "metadata": {},
   "source": [
    "Instead of adding the layers one by one as we just did, its often more convenient to pass a list of layers when creating a Sequential model. You can also drop the input layer and instead specify the input_shape in the first layer:"
   ]
  },
  {
   "cell_type": "code",
   "execution_count": 10,
   "id": "8836a6be",
   "metadata": {},
   "outputs": [
    {
     "name": "stderr",
     "output_type": "stream",
     "text": [
      "c:\\Users\\blais\\Documents\\ML\\venv2\\lib\\site-packages\\keras\\src\\layers\\reshaping\\flatten.py:37: UserWarning: Do not pass an `input_shape`/`input_dim` argument to a layer. When using Sequential models, prefer using an `Input(shape)` object as the first layer in the model instead.\n",
      "  super().__init__(**kwargs)\n"
     ]
    }
   ],
   "source": [
    "model = tf.keras.Sequential([\n",
    "    tf.keras.layers.Flatten(input_shape=[28,28]),\n",
    "    tf.keras.layers.Dense(300, activation=\"relu\"),\n",
    "    tf.keras.layers.Dense(100, activation=\"relu\"),\n",
    "    tf.keras.layers.Dense(10, activation=\"softmax\")\n",
    "])"
   ]
  },
  {
   "cell_type": "code",
   "execution_count": 11,
   "id": "a11e521d",
   "metadata": {},
   "outputs": [],
   "source": [
    "model = tf.keras.Sequential([\n",
    "    tf.keras.layers.Input(shape=[28,28]),\n",
    "    tf.keras.layers.Flatten(),\n",
    "    tf.keras.layers.Dense(300, activation=\"relu\"),\n",
    "    tf.keras.layers.Dense(100, activation=\"relu\"),\n",
    "    tf.keras.layers.Dense(10, activation=\"softmax\")\n",
    "])"
   ]
  },
  {
   "cell_type": "markdown",
   "id": "dd88fc92",
   "metadata": {},
   "source": [
    "Model's summary method displaus all the model's layers - including each layer's name - which it automatically generated unless you set it when creating the layer. Number of parameters - ends with the total number of parameters, including trainable and non-trainable parameters. Here - we only have trainable parameters"
   ]
  },
  {
   "cell_type": "code",
   "execution_count": 12,
   "id": "eb822ce3",
   "metadata": {},
   "outputs": [
    {
     "data": {
      "text/html": [
       "<pre style=\"white-space:pre;overflow-x:auto;line-height:normal;font-family:Menlo,'DejaVu Sans Mono',consolas,'Courier New',monospace\"><span style=\"font-weight: bold\">Model: \"sequential_2\"</span>\n",
       "</pre>\n"
      ],
      "text/plain": [
       "\u001b[1mModel: \"sequential_2\"\u001b[0m\n"
      ]
     },
     "metadata": {},
     "output_type": "display_data"
    },
    {
     "data": {
      "text/html": [
       "<pre style=\"white-space:pre;overflow-x:auto;line-height:normal;font-family:Menlo,'DejaVu Sans Mono',consolas,'Courier New',monospace\">┏━━━━━━━━━━━━━━━━━━━━━━━━━━━━━━━━━┳━━━━━━━━━━━━━━━━━━━━━━━━┳━━━━━━━━━━━━━━━┓\n",
       "┃<span style=\"font-weight: bold\"> Layer (type)                    </span>┃<span style=\"font-weight: bold\"> Output Shape           </span>┃<span style=\"font-weight: bold\">       Param # </span>┃\n",
       "┡━━━━━━━━━━━━━━━━━━━━━━━━━━━━━━━━━╇━━━━━━━━━━━━━━━━━━━━━━━━╇━━━━━━━━━━━━━━━┩\n",
       "│ flatten_2 (<span style=\"color: #0087ff; text-decoration-color: #0087ff\">Flatten</span>)             │ (<span style=\"color: #00d7ff; text-decoration-color: #00d7ff\">None</span>, <span style=\"color: #00af00; text-decoration-color: #00af00\">784</span>)            │             <span style=\"color: #00af00; text-decoration-color: #00af00\">0</span> │\n",
       "├─────────────────────────────────┼────────────────────────┼───────────────┤\n",
       "│ dense_6 (<span style=\"color: #0087ff; text-decoration-color: #0087ff\">Dense</span>)                 │ (<span style=\"color: #00d7ff; text-decoration-color: #00d7ff\">None</span>, <span style=\"color: #00af00; text-decoration-color: #00af00\">300</span>)            │       <span style=\"color: #00af00; text-decoration-color: #00af00\">235,500</span> │\n",
       "├─────────────────────────────────┼────────────────────────┼───────────────┤\n",
       "│ dense_7 (<span style=\"color: #0087ff; text-decoration-color: #0087ff\">Dense</span>)                 │ (<span style=\"color: #00d7ff; text-decoration-color: #00d7ff\">None</span>, <span style=\"color: #00af00; text-decoration-color: #00af00\">100</span>)            │        <span style=\"color: #00af00; text-decoration-color: #00af00\">30,100</span> │\n",
       "├─────────────────────────────────┼────────────────────────┼───────────────┤\n",
       "│ dense_8 (<span style=\"color: #0087ff; text-decoration-color: #0087ff\">Dense</span>)                 │ (<span style=\"color: #00d7ff; text-decoration-color: #00d7ff\">None</span>, <span style=\"color: #00af00; text-decoration-color: #00af00\">10</span>)             │         <span style=\"color: #00af00; text-decoration-color: #00af00\">1,010</span> │\n",
       "└─────────────────────────────────┴────────────────────────┴───────────────┘\n",
       "</pre>\n"
      ],
      "text/plain": [
       "┏━━━━━━━━━━━━━━━━━━━━━━━━━━━━━━━━━┳━━━━━━━━━━━━━━━━━━━━━━━━┳━━━━━━━━━━━━━━━┓\n",
       "┃\u001b[1m \u001b[0m\u001b[1mLayer (type)                   \u001b[0m\u001b[1m \u001b[0m┃\u001b[1m \u001b[0m\u001b[1mOutput Shape          \u001b[0m\u001b[1m \u001b[0m┃\u001b[1m \u001b[0m\u001b[1m      Param #\u001b[0m\u001b[1m \u001b[0m┃\n",
       "┡━━━━━━━━━━━━━━━━━━━━━━━━━━━━━━━━━╇━━━━━━━━━━━━━━━━━━━━━━━━╇━━━━━━━━━━━━━━━┩\n",
       "│ flatten_2 (\u001b[38;5;33mFlatten\u001b[0m)             │ (\u001b[38;5;45mNone\u001b[0m, \u001b[38;5;34m784\u001b[0m)            │             \u001b[38;5;34m0\u001b[0m │\n",
       "├─────────────────────────────────┼────────────────────────┼───────────────┤\n",
       "│ dense_6 (\u001b[38;5;33mDense\u001b[0m)                 │ (\u001b[38;5;45mNone\u001b[0m, \u001b[38;5;34m300\u001b[0m)            │       \u001b[38;5;34m235,500\u001b[0m │\n",
       "├─────────────────────────────────┼────────────────────────┼───────────────┤\n",
       "│ dense_7 (\u001b[38;5;33mDense\u001b[0m)                 │ (\u001b[38;5;45mNone\u001b[0m, \u001b[38;5;34m100\u001b[0m)            │        \u001b[38;5;34m30,100\u001b[0m │\n",
       "├─────────────────────────────────┼────────────────────────┼───────────────┤\n",
       "│ dense_8 (\u001b[38;5;33mDense\u001b[0m)                 │ (\u001b[38;5;45mNone\u001b[0m, \u001b[38;5;34m10\u001b[0m)             │         \u001b[38;5;34m1,010\u001b[0m │\n",
       "└─────────────────────────────────┴────────────────────────┴───────────────┘\n"
      ]
     },
     "metadata": {},
     "output_type": "display_data"
    },
    {
     "data": {
      "text/html": [
       "<pre style=\"white-space:pre;overflow-x:auto;line-height:normal;font-family:Menlo,'DejaVu Sans Mono',consolas,'Courier New',monospace\"><span style=\"font-weight: bold\"> Total params: </span><span style=\"color: #00af00; text-decoration-color: #00af00\">266,610</span> (1.02 MB)\n",
       "</pre>\n"
      ],
      "text/plain": [
       "\u001b[1m Total params: \u001b[0m\u001b[38;5;34m266,610\u001b[0m (1.02 MB)\n"
      ]
     },
     "metadata": {},
     "output_type": "display_data"
    },
    {
     "data": {
      "text/html": [
       "<pre style=\"white-space:pre;overflow-x:auto;line-height:normal;font-family:Menlo,'DejaVu Sans Mono',consolas,'Courier New',monospace\"><span style=\"font-weight: bold\"> Trainable params: </span><span style=\"color: #00af00; text-decoration-color: #00af00\">266,610</span> (1.02 MB)\n",
       "</pre>\n"
      ],
      "text/plain": [
       "\u001b[1m Trainable params: \u001b[0m\u001b[38;5;34m266,610\u001b[0m (1.02 MB)\n"
      ]
     },
     "metadata": {},
     "output_type": "display_data"
    },
    {
     "data": {
      "text/html": [
       "<pre style=\"white-space:pre;overflow-x:auto;line-height:normal;font-family:Menlo,'DejaVu Sans Mono',consolas,'Courier New',monospace\"><span style=\"font-weight: bold\"> Non-trainable params: </span><span style=\"color: #00af00; text-decoration-color: #00af00\">0</span> (0.00 B)\n",
       "</pre>\n"
      ],
      "text/plain": [
       "\u001b[1m Non-trainable params: \u001b[0m\u001b[38;5;34m0\u001b[0m (0.00 B)\n"
      ]
     },
     "metadata": {},
     "output_type": "display_data"
    }
   ],
   "source": [
    "model.summary()"
   ]
  },
  {
   "cell_type": "markdown",
   "id": "745310a0",
   "metadata": {},
   "source": [
    "All global state managed by keras is stored in a keras session, which you can clear using tf.keras.backend.clear_session()"
   ]
  },
  {
   "cell_type": "markdown",
   "id": "46702a55",
   "metadata": {},
   "source": [
    "Can easily get a model's list of layers - using the layers atttribute, or using the get_layer() method to access a layer by name:"
   ]
  },
  {
   "cell_type": "code",
   "execution_count": 13,
   "id": "36279490",
   "metadata": {},
   "outputs": [
    {
     "data": {
      "text/plain": [
       "[<Flatten name=flatten_2, built=True>,\n",
       " <Dense name=dense_6, built=True>,\n",
       " <Dense name=dense_7, built=True>,\n",
       " <Dense name=dense_8, built=True>]"
      ]
     },
     "execution_count": 13,
     "metadata": {},
     "output_type": "execute_result"
    }
   ],
   "source": [
    "model.layers"
   ]
  },
  {
   "cell_type": "code",
   "execution_count": 14,
   "id": "19c30e4c",
   "metadata": {},
   "outputs": [],
   "source": [
    "hidden1 = model.layers[1]"
   ]
  },
  {
   "cell_type": "code",
   "execution_count": 15,
   "id": "cc255266",
   "metadata": {},
   "outputs": [
    {
     "data": {
      "text/plain": [
       "'dense_6'"
      ]
     },
     "execution_count": 15,
     "metadata": {},
     "output_type": "execute_result"
    }
   ],
   "source": [
    "hidden1.name"
   ]
  },
  {
   "cell_type": "code",
   "execution_count": 16,
   "id": "7b70b19c",
   "metadata": {},
   "outputs": [
    {
     "data": {
      "text/plain": [
       "True"
      ]
     },
     "execution_count": 16,
     "metadata": {},
     "output_type": "execute_result"
    }
   ],
   "source": [
    "model.get_layer('dense_6') is hidden1"
   ]
  },
  {
   "cell_type": "markdown",
   "id": "75f1264f",
   "metadata": {},
   "source": [
    "All the parameters of a layer can be accessed using its get_weights() and set_weights() methods. For a dense layer - this includes both the connection weights and the bias terms:"
   ]
  },
  {
   "cell_type": "code",
   "execution_count": 17,
   "id": "72a6b59f",
   "metadata": {},
   "outputs": [],
   "source": [
    "weights, biases = hidden1.get_weights()"
   ]
  },
  {
   "cell_type": "code",
   "execution_count": 18,
   "id": "4261eeff",
   "metadata": {},
   "outputs": [
    {
     "data": {
      "text/plain": [
       "array([[ 0.05697916, -0.03109416, -0.05413588, ..., -0.02860607,\n",
       "         0.03672876,  0.02964687],\n",
       "       [-0.00835378, -0.05752237,  0.06692348, ...,  0.01205775,\n",
       "         0.07113178, -0.02995721],\n",
       "       [ 0.07249828, -0.05195233,  0.01521773, ...,  0.01297971,\n",
       "        -0.03013679,  0.02562171],\n",
       "       ...,\n",
       "       [-0.0018477 , -0.05809021, -0.02504392, ..., -0.04254233,\n",
       "        -0.06706635, -0.0157763 ],\n",
       "       [ 0.04577769,  0.01119986,  0.02923285, ..., -0.04008202,\n",
       "         0.02540468,  0.01099901],\n",
       "       [ 0.02738038, -0.04252856, -0.01091717, ...,  0.02881914,\n",
       "        -0.02092068, -0.02483546]], dtype=float32)"
      ]
     },
     "execution_count": 18,
     "metadata": {},
     "output_type": "execute_result"
    }
   ],
   "source": [
    "weights"
   ]
  },
  {
   "cell_type": "code",
   "execution_count": 19,
   "id": "1cc6d32b",
   "metadata": {},
   "outputs": [
    {
     "data": {
      "text/plain": [
       "(784, 300)"
      ]
     },
     "execution_count": 19,
     "metadata": {},
     "output_type": "execute_result"
    }
   ],
   "source": [
    "weights.shape"
   ]
  },
  {
   "cell_type": "code",
   "execution_count": 20,
   "id": "0f52743f",
   "metadata": {},
   "outputs": [
    {
     "data": {
      "text/plain": [
       "array([0., 0., 0., 0., 0., 0., 0., 0., 0., 0., 0., 0., 0., 0., 0., 0., 0.,\n",
       "       0., 0., 0., 0., 0., 0., 0., 0., 0., 0., 0., 0., 0., 0., 0., 0., 0.,\n",
       "       0., 0., 0., 0., 0., 0., 0., 0., 0., 0., 0., 0., 0., 0., 0., 0., 0.,\n",
       "       0., 0., 0., 0., 0., 0., 0., 0., 0., 0., 0., 0., 0., 0., 0., 0., 0.,\n",
       "       0., 0., 0., 0., 0., 0., 0., 0., 0., 0., 0., 0., 0., 0., 0., 0., 0.,\n",
       "       0., 0., 0., 0., 0., 0., 0., 0., 0., 0., 0., 0., 0., 0., 0., 0., 0.,\n",
       "       0., 0., 0., 0., 0., 0., 0., 0., 0., 0., 0., 0., 0., 0., 0., 0., 0.,\n",
       "       0., 0., 0., 0., 0., 0., 0., 0., 0., 0., 0., 0., 0., 0., 0., 0., 0.,\n",
       "       0., 0., 0., 0., 0., 0., 0., 0., 0., 0., 0., 0., 0., 0., 0., 0., 0.,\n",
       "       0., 0., 0., 0., 0., 0., 0., 0., 0., 0., 0., 0., 0., 0., 0., 0., 0.,\n",
       "       0., 0., 0., 0., 0., 0., 0., 0., 0., 0., 0., 0., 0., 0., 0., 0., 0.,\n",
       "       0., 0., 0., 0., 0., 0., 0., 0., 0., 0., 0., 0., 0., 0., 0., 0., 0.,\n",
       "       0., 0., 0., 0., 0., 0., 0., 0., 0., 0., 0., 0., 0., 0., 0., 0., 0.,\n",
       "       0., 0., 0., 0., 0., 0., 0., 0., 0., 0., 0., 0., 0., 0., 0., 0., 0.,\n",
       "       0., 0., 0., 0., 0., 0., 0., 0., 0., 0., 0., 0., 0., 0., 0., 0., 0.,\n",
       "       0., 0., 0., 0., 0., 0., 0., 0., 0., 0., 0., 0., 0., 0., 0., 0., 0.,\n",
       "       0., 0., 0., 0., 0., 0., 0., 0., 0., 0., 0., 0., 0., 0., 0., 0., 0.,\n",
       "       0., 0., 0., 0., 0., 0., 0., 0., 0., 0., 0.], dtype=float32)"
      ]
     },
     "execution_count": 20,
     "metadata": {},
     "output_type": "execute_result"
    }
   ],
   "source": [
    "biases"
   ]
  },
  {
   "cell_type": "code",
   "execution_count": 21,
   "id": "62ed1f5a",
   "metadata": {},
   "outputs": [
    {
     "data": {
      "text/plain": [
       "(300,)"
      ]
     },
     "execution_count": 21,
     "metadata": {},
     "output_type": "execute_result"
    }
   ],
   "source": [
    "biases.shape"
   ]
  },
  {
   "cell_type": "markdown",
   "id": "4090f81f",
   "metadata": {},
   "source": [
    "Notice:\n",
    "- The dense layer initialized the connection weights randomly - which is needed to break symmetry. Biases are initialized as zero. To use a different initialization method - set kernel_initializer (kernel is another name for the matrix of connection weights), or bias_initializer when creating the layer.\n",
    "- The shape of the weight matrix depends on the number of inputs - which is why we specified the input_shape when creating the model. "
   ]
  },
  {
   "cell_type": "markdown",
   "id": "2b6dc8cf",
   "metadata": {},
   "source": [
    "**Compiling the model:**\n",
    "- After a model is created - you must call its compile() method - to specify the loss function and the optimizer to use. Optionally - you can specify a list of extra metrics to compute during training and evaluation:"
   ]
  },
  {
   "cell_type": "code",
   "execution_count": 22,
   "id": "624ae759",
   "metadata": {},
   "outputs": [],
   "source": [
    "model.compile(loss=\"sparse_categorical_crossentropy\", optimizer=\"sgd\", metrics=[\"accuracy\"])"
   ]
  },
  {
   "cell_type": "markdown",
   "id": "5e0c5491",
   "metadata": {},
   "source": [
    "Using loss = \"sparse_categorical_crossentropy\" - is the equivalent of using loss = tf.keras.losses.sparse_categorical_crossentropy. Similary - using SGD - equivalent of using optimizer = tf.keras.optimizers.SGD(), and metrics=[\"accuracy\"] - equivalent of using metrics = [tf.keras.metrics.sparse_categorical_accuracy]"
   ]
  },
  {
   "cell_type": "markdown",
   "id": "50748c1c",
   "metadata": {},
   "source": [
    "**Training and evaluating the model:**\n",
    "- Now the model is ready to be trained - for this we simply call its fit() method:"
   ]
  },
  {
   "cell_type": "code",
   "execution_count": 23,
   "id": "2c747f8b",
   "metadata": {},
   "outputs": [
    {
     "name": "stdout",
     "output_type": "stream",
     "text": [
      "Epoch 1/10\n",
      "\u001b[1m1719/1719\u001b[0m \u001b[32m━━━━━━━━━━━━━━━━━━━━\u001b[0m\u001b[37m\u001b[0m \u001b[1m8s\u001b[0m 5ms/step - accuracy: 0.6885 - loss: 0.9915 - val_accuracy: 0.8272 - val_loss: 0.4966\n",
      "Epoch 2/10\n",
      "\u001b[1m1719/1719\u001b[0m \u001b[32m━━━━━━━━━━━━━━━━━━━━\u001b[0m\u001b[37m\u001b[0m \u001b[1m8s\u001b[0m 4ms/step - accuracy: 0.8263 - loss: 0.5022 - val_accuracy: 0.8384 - val_loss: 0.4481\n",
      "Epoch 3/10\n",
      "\u001b[1m1719/1719\u001b[0m \u001b[32m━━━━━━━━━━━━━━━━━━━━\u001b[0m\u001b[37m\u001b[0m \u001b[1m8s\u001b[0m 5ms/step - accuracy: 0.8448 - loss: 0.4505 - val_accuracy: 0.8482 - val_loss: 0.4238\n",
      "Epoch 4/10\n",
      "\u001b[1m1719/1719\u001b[0m \u001b[32m━━━━━━━━━━━━━━━━━━━━\u001b[0m\u001b[37m\u001b[0m \u001b[1m7s\u001b[0m 4ms/step - accuracy: 0.8548 - loss: 0.4211 - val_accuracy: 0.8538 - val_loss: 0.4081\n",
      "Epoch 5/10\n",
      "\u001b[1m1719/1719\u001b[0m \u001b[32m━━━━━━━━━━━━━━━━━━━━\u001b[0m\u001b[37m\u001b[0m \u001b[1m7s\u001b[0m 4ms/step - accuracy: 0.8616 - loss: 0.4004 - val_accuracy: 0.8562 - val_loss: 0.3970\n",
      "Epoch 6/10\n",
      "\u001b[1m1719/1719\u001b[0m \u001b[32m━━━━━━━━━━━━━━━━━━━━\u001b[0m\u001b[37m\u001b[0m \u001b[1m6s\u001b[0m 4ms/step - accuracy: 0.8678 - loss: 0.3838 - val_accuracy: 0.8590 - val_loss: 0.3873\n",
      "Epoch 7/10\n",
      "\u001b[1m1719/1719\u001b[0m \u001b[32m━━━━━━━━━━━━━━━━━━━━\u001b[0m\u001b[37m\u001b[0m \u001b[1m4s\u001b[0m 2ms/step - accuracy: 0.8724 - loss: 0.3697 - val_accuracy: 0.8626 - val_loss: 0.3795\n",
      "Epoch 8/10\n",
      "\u001b[1m1719/1719\u001b[0m \u001b[32m━━━━━━━━━━━━━━━━━━━━\u001b[0m\u001b[37m\u001b[0m \u001b[1m6s\u001b[0m 3ms/step - accuracy: 0.8757 - loss: 0.3573 - val_accuracy: 0.8658 - val_loss: 0.3734\n",
      "Epoch 9/10\n",
      "\u001b[1m1719/1719\u001b[0m \u001b[32m━━━━━━━━━━━━━━━━━━━━\u001b[0m\u001b[37m\u001b[0m \u001b[1m6s\u001b[0m 4ms/step - accuracy: 0.8788 - loss: 0.3463 - val_accuracy: 0.8670 - val_loss: 0.3694\n",
      "Epoch 10/10\n",
      "\u001b[1m1719/1719\u001b[0m \u001b[32m━━━━━━━━━━━━━━━━━━━━\u001b[0m\u001b[37m\u001b[0m \u001b[1m5s\u001b[0m 3ms/step - accuracy: 0.8810 - loss: 0.3365 - val_accuracy: 0.8696 - val_loss: 0.3655\n"
     ]
    }
   ],
   "source": [
    "history = model.fit(X_train, y_train, epochs=10, validation_data=(X_valid, y_valid))"
   ]
  },
  {
   "cell_type": "code",
   "execution_count": 24,
   "id": "023664ba",
   "metadata": {},
   "outputs": [
    {
     "data": {
      "text/plain": [
       "(55000, 28, 28)"
      ]
     },
     "execution_count": 24,
     "metadata": {},
     "output_type": "execute_result"
    }
   ],
   "source": [
    "X_train.shape"
   ]
  },
  {
   "cell_type": "code",
   "execution_count": 25,
   "id": "934f78bf",
   "metadata": {},
   "outputs": [
    {
     "data": {
      "text/plain": [
       "1718.75"
      ]
     },
     "execution_count": 25,
     "metadata": {},
     "output_type": "execute_result"
    }
   ],
   "source": [
    "55000/32"
   ]
  },
  {
   "cell_type": "markdown",
   "id": "0da754b5",
   "metadata": {},
   "source": [
    "The history object:"
   ]
  },
  {
   "cell_type": "markdown",
   "id": "873a6e77",
   "metadata": {},
   "source": [
    "The fit() method returns a history object containing the training parameters (history.params) - the list of epochs it went through - history.epoch, and most importantly, a dictionary (history.history) containing the loss and extra metrics it measured at the end of each epoch on the training set and validation set if any. "
   ]
  },
  {
   "cell_type": "code",
   "execution_count": 26,
   "id": "367b2454",
   "metadata": {},
   "outputs": [
    {
     "data": {
      "text/plain": [
       "{'verbose': 'auto', 'epochs': 10, 'steps': 1719}"
      ]
     },
     "execution_count": 26,
     "metadata": {},
     "output_type": "execute_result"
    }
   ],
   "source": [
    "history.params"
   ]
  },
  {
   "cell_type": "code",
   "execution_count": 27,
   "id": "4888c15d",
   "metadata": {},
   "outputs": [
    {
     "data": {
      "text/plain": [
       "[0, 1, 2, 3, 4, 5, 6, 7, 8, 9]"
      ]
     },
     "execution_count": 27,
     "metadata": {},
     "output_type": "execute_result"
    }
   ],
   "source": [
    "history.epoch"
   ]
  },
  {
   "cell_type": "code",
   "execution_count": 28,
   "id": "31de0a7b",
   "metadata": {},
   "outputs": [
    {
     "data": {
      "text/plain": [
       "{'accuracy': [0.7703818082809448,\n",
       "  0.8320181965827942,\n",
       "  0.847527265548706,\n",
       "  0.8563454747200012,\n",
       "  0.8624908924102783,\n",
       "  0.8684545159339905,\n",
       "  0.8726181983947754,\n",
       "  0.8756726980209351,\n",
       "  0.8788545727729797,\n",
       "  0.8815818428993225],\n",
       " 'loss': [0.7063289284706116,\n",
       "  0.48308178782463074,\n",
       "  0.4392867088317871,\n",
       "  0.4127710461616516,\n",
       "  0.39357292652130127,\n",
       "  0.37792283296585083,\n",
       "  0.3646865785121918,\n",
       "  0.35307368636131287,\n",
       "  0.34273040294647217,\n",
       "  0.3332776725292206],\n",
       " 'val_accuracy': [0.8271999955177307,\n",
       "  0.8384000062942505,\n",
       "  0.8482000231742859,\n",
       "  0.8537999987602234,\n",
       "  0.8561999797821045,\n",
       "  0.859000027179718,\n",
       "  0.8626000285148621,\n",
       "  0.8658000230789185,\n",
       "  0.8669999837875366,\n",
       "  0.8695999979972839],\n",
       " 'val_loss': [0.4966459572315216,\n",
       "  0.4480586051940918,\n",
       "  0.4238429069519043,\n",
       "  0.40809983015060425,\n",
       "  0.39702552556991577,\n",
       "  0.3873197138309479,\n",
       "  0.37950170040130615,\n",
       "  0.37341785430908203,\n",
       "  0.3694138824939728,\n",
       "  0.3654537498950958]}"
      ]
     },
     "execution_count": 28,
     "metadata": {},
     "output_type": "execute_result"
    }
   ],
   "source": [
    "history.history"
   ]
  },
  {
   "cell_type": "code",
   "execution_count": 29,
   "id": "0d91c1ec",
   "metadata": {},
   "outputs": [],
   "source": [
    "import matplotlib.pyplot as plt\n",
    "import pandas as pd"
   ]
  },
  {
   "cell_type": "code",
   "execution_count": 31,
   "id": "fefe142e",
   "metadata": {},
   "outputs": [
    {
     "data": {
      "image/png": "[encoded data removed]",
      "text/plain": [
       "<Figure size 800x500 with 1 Axes>"
      ]
     },
     "metadata": {},
     "output_type": "display_data"
    }
   ],
   "source": [
    "pd.DataFrame(history.history).plot(\n",
    "    figsize=(8,5), xlim = [0, 9], ylim=[0,1], grid=True, xlabel=\"Epoch\", \n",
    "    style = [\"r--\",\"r--\",\"b-\",\"b-*\"]\n",
    ")\n",
    "plt.show()"
   ]
  },
  {
   "cell_type": "markdown",
   "id": "cfa12249",
   "metadata": {},
   "source": [
    "To continue training - call the fit method again - as keras just continues training where it left off.\n",
    "Try Hyperparameter tuning if not satisfied with the training results:\n",
    "- learning rate\n",
    "- optimizer\n",
    "- number of layers\n",
    "- neurons per layer and the types of activation functions to use for each hidden layer\n",
    "- other hyperparameters - such as the batch_size - defaults to 32. \n",
    "- Evaluate on the test set once satisfied: using the evaluate() method. "
   ]
  },
  {
   "cell_type": "code",
   "execution_count": 32,
   "id": "912b03ed",
   "metadata": {},
   "outputs": [
    {
     "name": "stdout",
     "output_type": "stream",
     "text": [
      "\u001b[1m313/313\u001b[0m \u001b[32m━━━━━━━━━━━━━━━━━━━━\u001b[0m\u001b[37m\u001b[0m \u001b[1m0s\u001b[0m 1ms/step - accuracy: 0.8674 - loss: 0.3880\n"
     ]
    },
    {
     "data": {
      "text/plain": [
       "[0.39376628398895264, 0.8615999817848206]"
      ]
     },
     "execution_count": 32,
     "metadata": {},
     "output_type": "execute_result"
    }
   ],
   "source": [
    "model.evaluate(X_test, y_test)"
   ]
  },
  {
   "cell_type": "markdown",
   "id": "da499108",
   "metadata": {},
   "source": [
    "**Using the model to make predictions:**"
   ]
  },
  {
   "cell_type": "markdown",
   "id": "f6c57d70",
   "metadata": {},
   "source": [
    "Use the model's predict method to make predictions on new instances. Since we don't have actual new instances, we'll just use the first three instances of the test set:"
   ]
  },
  {
   "cell_type": "code",
   "execution_count": 33,
   "id": "e493ac3d",
   "metadata": {},
   "outputs": [],
   "source": [
    "X_new = X_test[:3]"
   ]
  },
  {
   "cell_type": "code",
   "execution_count": 34,
   "id": "c841aafd",
   "metadata": {},
   "outputs": [
    {
     "name": "stdout",
     "output_type": "stream",
     "text": [
      "\u001b[1m1/1\u001b[0m \u001b[32m━━━━━━━━━━━━━━━━━━━━\u001b[0m\u001b[37m\u001b[0m \u001b[1m0s\u001b[0m 57ms/step\n"
     ]
    }
   ],
   "source": [
    "y_proba = model.predict(X_new)"
   ]
  },
  {
   "cell_type": "code",
   "execution_count": 36,
   "id": "8635384a",
   "metadata": {},
   "outputs": [
    {
     "data": {
      "text/plain": [
       "array([[0.  , 0.  , 0.  , 0.  , 0.  , 0.22, 0.  , 0.1 , 0.  , 0.68],\n",
       "       [0.  , 0.  , 1.  , 0.  , 0.  , 0.  , 0.  , 0.  , 0.  , 0.  ],\n",
       "       [0.  , 1.  , 0.  , 0.  , 0.  , 0.  , 0.  , 0.  , 0.  , 0.  ]],\n",
       "      dtype=float32)"
      ]
     },
     "execution_count": 36,
     "metadata": {},
     "output_type": "execute_result"
    }
   ],
   "source": [
    "y_proba.round(2)"
   ]
  },
  {
   "cell_type": "markdown",
   "id": "6f027748",
   "metadata": {},
   "source": [
    "For each instance, the model estimates one probability per class, from class 0 to class 9. This is similar to the output of the predict_proba() method in scikit lern classifiers. If you only care about the class with the highest estimated probability - use the argmax method to get the highest probability class index for each instance."
   ]
  },
  {
   "cell_type": "code",
   "execution_count": 37,
   "id": "2b81ae99",
   "metadata": {},
   "outputs": [],
   "source": [
    "import numpy as np"
   ]
  },
  {
   "cell_type": "code",
   "execution_count": 38,
   "id": "c0104e20",
   "metadata": {},
   "outputs": [],
   "source": [
    "y_pred = y_proba.argmax(axis=-1)"
   ]
  },
  {
   "cell_type": "code",
   "execution_count": 39,
   "id": "cf5aef9f",
   "metadata": {},
   "outputs": [
    {
     "data": {
      "text/plain": [
       "array([9, 2, 1], dtype=int64)"
      ]
     },
     "execution_count": 39,
     "metadata": {},
     "output_type": "execute_result"
    }
   ],
   "source": [
    "y_pred"
   ]
  },
  {
   "cell_type": "code",
   "execution_count": 40,
   "id": "190dbbf2",
   "metadata": {},
   "outputs": [
    {
     "data": {
      "text/plain": [
       "array(['Ankle boot', 'Pullover', 'Trouser'], dtype='<U11')"
      ]
     },
     "execution_count": 40,
     "metadata": {},
     "output_type": "execute_result"
    }
   ],
   "source": [
    "np.array(class_names)[y_pred]"
   ]
  },
  {
   "cell_type": "markdown",
   "id": "abc7d92f",
   "metadata": {},
   "source": [
    "Here - the classifier actually classified all 3 images correctly"
   ]
  },
  {
   "cell_type": "code",
   "execution_count": 41,
   "id": "95c08b07",
   "metadata": {},
   "outputs": [
    {
     "data": {
      "text/plain": [
       "array([9, 2, 1], dtype=uint8)"
      ]
     },
     "execution_count": 41,
     "metadata": {},
     "output_type": "execute_result"
    }
   ],
   "source": [
    "y_new = y_test[:3]\n",
    "y_new"
   ]
  },
  {
   "cell_type": "markdown",
   "id": "08b7cc12",
   "metadata": {},
   "source": [
    "**Building a Regression MLP using the Sequential API:**\n",
    "- Let's switch back to the california housing problem - and tackle it usin gthe sam MLP as earlier - with 3 hidden layers composed of 50 neurons each, but this time building it with keras.\n",
    "- Using the sequential API to build, train, and evaluate, and use a regression MLP is quite similar to classification. \n",
    "- Main differences - single output layer has a single neuron - with no activation function and the loss function is the mean squared error - the metric is the RMSE - and we're using an adam optimizer. No flatten layer - and a normalization layer is used instead as the first layer - does the same thing as scikit learn's standardscaler - but it must be fit to the training data using its adapt method before calling the model's fit() method. (Keras has other preprocessing layers)"
   ]
  },
  {
   "cell_type": "code",
   "execution_count": 42,
   "id": "c9c4800e",
   "metadata": {},
   "outputs": [],
   "source": [
    "tf.keras.utils.set_random_seed(42)"
   ]
  },
  {
   "cell_type": "code",
   "execution_count": 135,
   "id": "67a43791",
   "metadata": {},
   "outputs": [],
   "source": [
    "X = pd.read_csv(r\"C:\\Users\\blais\\Documents\\ML\\deep_learning\\housing_x.csv\")\n",
    "Y = pd.read_csv(r\"C:\\Users\\blais\\Documents\\ML\\deep_learning\\housing_y.csv\")"
   ]
  },
  {
   "cell_type": "code",
   "execution_count": 139,
   "id": "57716332",
   "metadata": {},
   "outputs": [],
   "source": [
    "X = X.iloc[:, 1:]"
   ]
  },
  {
   "cell_type": "code",
   "execution_count": 140,
   "id": "7f8f66f0",
   "metadata": {},
   "outputs": [
    {
     "data": {
      "text/html": [
       "<div>\n",
       "<style scoped>\n",
       "    .dataframe tbody tr th:only-of-type {\n",
       "        vertical-align: middle;\n",
       "    }\n",
       "\n",
       "    .dataframe tbody tr th {\n",
       "        vertical-align: top;\n",
       "    }\n",
       "\n",
       "    .dataframe thead th {\n",
       "        text-align: right;\n",
       "    }\n",
       "</style>\n",
       "<table border=\"1\" class=\"dataframe\">\n",
       "  <thead>\n",
       "    <tr style=\"text-align: right;\">\n",
       "      <th></th>\n",
       "      <th>bedrooms__ratio</th>\n",
       "      <th>rooms_per_house__ratio</th>\n",
       "      <th>people_per_house__ratio</th>\n",
       "      <th>log__total_bedrooms</th>\n",
       "      <th>log__total_rooms</th>\n",
       "      <th>log__population</th>\n",
       "      <th>log__households</th>\n",
       "      <th>log__median_income</th>\n",
       "      <th>geo__Cluster 0 similarity</th>\n",
       "      <th>geo__Cluster 1 similarity</th>\n",
       "      <th>...</th>\n",
       "      <th>geo__Cluster 6 similarity</th>\n",
       "      <th>geo__Cluster 7 similarity</th>\n",
       "      <th>geo__Cluster 8 similarity</th>\n",
       "      <th>geo__Cluster 9 similarity</th>\n",
       "      <th>cat__ocean_proximity_&lt;1H OCEAN</th>\n",
       "      <th>cat__ocean_proximity_INLAND</th>\n",
       "      <th>cat__ocean_proximity_ISLAND</th>\n",
       "      <th>cat__ocean_proximity_NEAR BAY</th>\n",
       "      <th>cat__ocean_proximity_NEAR OCEAN</th>\n",
       "      <th>remainder__housing_median_age</th>\n",
       "    </tr>\n",
       "  </thead>\n",
       "  <tbody>\n",
       "    <tr>\n",
       "      <th>0</th>\n",
       "      <td>1.846624</td>\n",
       "      <td>-0.866027</td>\n",
       "      <td>-0.330204</td>\n",
       "      <td>1.324114</td>\n",
       "      <td>0.637892</td>\n",
       "      <td>0.456906</td>\n",
       "      <td>1.310369</td>\n",
       "      <td>-1.071522</td>\n",
       "      <td>4.581829e-01</td>\n",
       "      <td>1.241847e-14</td>\n",
       "      <td>...</td>\n",
       "      <td>8.489216e-04</td>\n",
       "      <td>9.770322e-01</td>\n",
       "      <td>2.382191e-08</td>\n",
       "      <td>3.819126e-18</td>\n",
       "      <td>0.0</td>\n",
       "      <td>0.0</td>\n",
       "      <td>0.0</td>\n",
       "      <td>1.0</td>\n",
       "      <td>0.0</td>\n",
       "      <td>1.861119</td>\n",
       "    </tr>\n",
       "    <tr>\n",
       "      <th>1</th>\n",
       "      <td>-0.508121</td>\n",
       "      <td>0.024550</td>\n",
       "      <td>-0.253616</td>\n",
       "      <td>-0.252671</td>\n",
       "      <td>-0.063576</td>\n",
       "      <td>-0.711654</td>\n",
       "      <td>-0.142030</td>\n",
       "      <td>1.194712</td>\n",
       "      <td>6.511495e-10</td>\n",
       "      <td>9.579596e-01</td>\n",
       "      <td>...</td>\n",
       "      <td>5.614049e-27</td>\n",
       "      <td>1.260964e-13</td>\n",
       "      <td>1.103491e-01</td>\n",
       "      <td>3.547610e-01</td>\n",
       "      <td>1.0</td>\n",
       "      <td>0.0</td>\n",
       "      <td>0.0</td>\n",
       "      <td>0.0</td>\n",
       "      <td>0.0</td>\n",
       "      <td>0.907630</td>\n",
       "    </tr>\n",
       "    <tr>\n",
       "      <th>2</th>\n",
       "      <td>-0.202155</td>\n",
       "      <td>-0.041193</td>\n",
       "      <td>-0.051041</td>\n",
       "      <td>-0.925266</td>\n",
       "      <td>-0.859927</td>\n",
       "      <td>-0.941997</td>\n",
       "      <td>-0.913030</td>\n",
       "      <td>-0.756981</td>\n",
       "      <td>3.432506e-01</td>\n",
       "      <td>4.261141e-15</td>\n",
       "      <td>...</td>\n",
       "      <td>5.641131e-03</td>\n",
       "      <td>7.303265e-01</td>\n",
       "      <td>2.508224e-08</td>\n",
       "      <td>2.669659e-18</td>\n",
       "      <td>0.0</td>\n",
       "      <td>1.0</td>\n",
       "      <td>0.0</td>\n",
       "      <td>0.0</td>\n",
       "      <td>0.0</td>\n",
       "      <td>0.351428</td>\n",
       "    </tr>\n",
       "    <tr>\n",
       "      <th>3</th>\n",
       "      <td>-0.149006</td>\n",
       "      <td>-0.034858</td>\n",
       "      <td>-0.141475</td>\n",
       "      <td>0.952773</td>\n",
       "      <td>0.943475</td>\n",
       "      <td>0.670700</td>\n",
       "      <td>0.925373</td>\n",
       "      <td>-0.912253</td>\n",
       "      <td>2.244844e-15</td>\n",
       "      <td>2.704823e-01</td>\n",
       "      <td>...</td>\n",
       "      <td>5.913326e-35</td>\n",
       "      <td>5.201263e-20</td>\n",
       "      <td>1.712982e-03</td>\n",
       "      <td>8.874598e-01</td>\n",
       "      <td>0.0</td>\n",
       "      <td>1.0</td>\n",
       "      <td>0.0</td>\n",
       "      <td>0.0</td>\n",
       "      <td>0.0</td>\n",
       "      <td>-0.919891</td>\n",
       "    </tr>\n",
       "    <tr>\n",
       "      <th>4</th>\n",
       "      <td>0.963208</td>\n",
       "      <td>-0.666554</td>\n",
       "      <td>-0.306148</td>\n",
       "      <td>1.437622</td>\n",
       "      <td>1.003590</td>\n",
       "      <td>0.719093</td>\n",
       "      <td>1.481464</td>\n",
       "      <td>0.034537</td>\n",
       "      <td>1.090228e-11</td>\n",
       "      <td>9.422206e-01</td>\n",
       "      <td>...</td>\n",
       "      <td>5.421817e-30</td>\n",
       "      <td>1.048030e-15</td>\n",
       "      <td>2.568824e-02</td>\n",
       "      <td>5.279506e-01</td>\n",
       "      <td>0.0</td>\n",
       "      <td>0.0</td>\n",
       "      <td>0.0</td>\n",
       "      <td>0.0</td>\n",
       "      <td>1.0</td>\n",
       "      <td>0.589800</td>\n",
       "    </tr>\n",
       "    <tr>\n",
       "      <th>...</th>\n",
       "      <td>...</td>\n",
       "      <td>...</td>\n",
       "      <td>...</td>\n",
       "      <td>...</td>\n",
       "      <td>...</td>\n",
       "      <td>...</td>\n",
       "      <td>...</td>\n",
       "      <td>...</td>\n",
       "      <td>...</td>\n",
       "      <td>...</td>\n",
       "      <td>...</td>\n",
       "      <td>...</td>\n",
       "      <td>...</td>\n",
       "      <td>...</td>\n",
       "      <td>...</td>\n",
       "      <td>...</td>\n",
       "      <td>...</td>\n",
       "      <td>...</td>\n",
       "      <td>...</td>\n",
       "      <td>...</td>\n",
       "      <td>...</td>\n",
       "    </tr>\n",
       "    <tr>\n",
       "      <th>16507</th>\n",
       "      <td>0.804368</td>\n",
       "      <td>-0.452111</td>\n",
       "      <td>-0.269780</td>\n",
       "      <td>0.465581</td>\n",
       "      <td>0.109720</td>\n",
       "      <td>-0.247054</td>\n",
       "      <td>0.379471</td>\n",
       "      <td>0.648953</td>\n",
       "      <td>1.115293e-10</td>\n",
       "      <td>9.505920e-01</td>\n",
       "      <td>...</td>\n",
       "      <td>1.878046e-28</td>\n",
       "      <td>1.651285e-14</td>\n",
       "      <td>4.776856e-02</td>\n",
       "      <td>3.463930e-01</td>\n",
       "      <td>1.0</td>\n",
       "      <td>0.0</td>\n",
       "      <td>0.0</td>\n",
       "      <td>0.0</td>\n",
       "      <td>0.0</td>\n",
       "      <td>0.987087</td>\n",
       "    </tr>\n",
       "    <tr>\n",
       "      <th>16508</th>\n",
       "      <td>-0.192328</td>\n",
       "      <td>0.036792</td>\n",
       "      <td>-0.073741</td>\n",
       "      <td>0.454022</td>\n",
       "      <td>0.477277</td>\n",
       "      <td>0.314542</td>\n",
       "      <td>0.402773</td>\n",
       "      <td>-0.637675</td>\n",
       "      <td>1.409886e-03</td>\n",
       "      <td>1.430917e-03</td>\n",
       "      <td>...</td>\n",
       "      <td>7.663746e-14</td>\n",
       "      <td>9.538119e-06</td>\n",
       "      <td>4.530237e-01</td>\n",
       "      <td>9.507766e-05</td>\n",
       "      <td>0.0</td>\n",
       "      <td>1.0</td>\n",
       "      <td>0.0</td>\n",
       "      <td>0.0</td>\n",
       "      <td>0.0</td>\n",
       "      <td>-0.443146</td>\n",
       "    </tr>\n",
       "    <tr>\n",
       "      <th>16509</th>\n",
       "      <td>-0.242492</td>\n",
       "      <td>-0.109987</td>\n",
       "      <td>0.158542</td>\n",
       "      <td>0.824206</td>\n",
       "      <td>0.859552</td>\n",
       "      <td>1.243381</td>\n",
       "      <td>0.889897</td>\n",
       "      <td>0.333540</td>\n",
       "      <td>8.098794e-20</td>\n",
       "      <td>3.501819e-02</td>\n",
       "      <td>...</td>\n",
       "      <td>1.715187e-42</td>\n",
       "      <td>5.158970e-25</td>\n",
       "      <td>5.966953e-06</td>\n",
       "      <td>1.346576e-01</td>\n",
       "      <td>0.0</td>\n",
       "      <td>0.0</td>\n",
       "      <td>0.0</td>\n",
       "      <td>0.0</td>\n",
       "      <td>1.0</td>\n",
       "      <td>-1.237721</td>\n",
       "    </tr>\n",
       "    <tr>\n",
       "      <th>16510</th>\n",
       "      <td>0.259775</td>\n",
       "      <td>-0.360937</td>\n",
       "      <td>-0.210332</td>\n",
       "      <td>0.987851</td>\n",
       "      <td>0.811293</td>\n",
       "      <td>0.579462</td>\n",
       "      <td>1.023329</td>\n",
       "      <td>0.377051</td>\n",
       "      <td>4.385614e-10</td>\n",
       "      <td>9.667073e-01</td>\n",
       "      <td>...</td>\n",
       "      <td>2.464809e-27</td>\n",
       "      <td>8.018690e-14</td>\n",
       "      <td>8.956217e-02</td>\n",
       "      <td>3.478114e-01</td>\n",
       "      <td>1.0</td>\n",
       "      <td>0.0</td>\n",
       "      <td>0.0</td>\n",
       "      <td>0.0</td>\n",
       "      <td>0.0</td>\n",
       "      <td>0.669257</td>\n",
       "    </tr>\n",
       "    <tr>\n",
       "      <th>16511</th>\n",
       "      <td>3.612710</td>\n",
       "      <td>-1.323972</td>\n",
       "      <td>0.049584</td>\n",
       "      <td>-1.072179</td>\n",
       "      <td>-2.091543</td>\n",
       "      <td>-0.679447</td>\n",
       "      <td>-0.853784</td>\n",
       "      <td>-0.119155</td>\n",
       "      <td>5.128057e-01</td>\n",
       "      <td>3.835213e-14</td>\n",
       "      <td>...</td>\n",
       "      <td>3.977507e-04</td>\n",
       "      <td>9.307247e-01</td>\n",
       "      <td>4.730211e-08</td>\n",
       "      <td>1.210400e-17</td>\n",
       "      <td>0.0</td>\n",
       "      <td>0.0</td>\n",
       "      <td>0.0</td>\n",
       "      <td>0.0</td>\n",
       "      <td>1.0</td>\n",
       "      <td>1.225459</td>\n",
       "    </tr>\n",
       "  </tbody>\n",
       "</table>\n",
       "<p>16512 rows × 24 columns</p>\n",
       "</div>"
      ],
      "text/plain": [
       "       bedrooms__ratio  rooms_per_house__ratio  people_per_house__ratio  \\\n",
       "0             1.846624               -0.866027                -0.330204   \n",
       "1            -0.508121                0.024550                -0.253616   \n",
       "2            -0.202155               -0.041193                -0.051041   \n",
       "3            -0.149006               -0.034858                -0.141475   \n",
       "4             0.963208               -0.666554                -0.306148   \n",
       "...                ...                     ...                      ...   \n",
       "16507         0.804368               -0.452111                -0.269780   \n",
       "16508        -0.192328                0.036792                -0.073741   \n",
       "16509        -0.242492               -0.109987                 0.158542   \n",
       "16510         0.259775               -0.360937                -0.210332   \n",
       "16511         3.612710               -1.323972                 0.049584   \n",
       "\n",
       "       log__total_bedrooms  log__total_rooms  log__population  \\\n",
       "0                 1.324114          0.637892         0.456906   \n",
       "1                -0.252671         -0.063576        -0.711654   \n",
       "2                -0.925266         -0.859927        -0.941997   \n",
       "3                 0.952773          0.943475         0.670700   \n",
       "4                 1.437622          1.003590         0.719093   \n",
       "...                    ...               ...              ...   \n",
       "16507             0.465581          0.109720        -0.247054   \n",
       "16508             0.454022          0.477277         0.314542   \n",
       "16509             0.824206          0.859552         1.243381   \n",
       "16510             0.987851          0.811293         0.579462   \n",
       "16511            -1.072179         -2.091543        -0.679447   \n",
       "\n",
       "       log__households  log__median_income  geo__Cluster 0 similarity  \\\n",
       "0             1.310369           -1.071522               4.581829e-01   \n",
       "1            -0.142030            1.194712               6.511495e-10   \n",
       "2            -0.913030           -0.756981               3.432506e-01   \n",
       "3             0.925373           -0.912253               2.244844e-15   \n",
       "4             1.481464            0.034537               1.090228e-11   \n",
       "...                ...                 ...                        ...   \n",
       "16507         0.379471            0.648953               1.115293e-10   \n",
       "16508         0.402773           -0.637675               1.409886e-03   \n",
       "16509         0.889897            0.333540               8.098794e-20   \n",
       "16510         1.023329            0.377051               4.385614e-10   \n",
       "16511        -0.853784           -0.119155               5.128057e-01   \n",
       "\n",
       "       geo__Cluster 1 similarity  ...  geo__Cluster 6 similarity  \\\n",
       "0                   1.241847e-14  ...               8.489216e-04   \n",
       "1                   9.579596e-01  ...               5.614049e-27   \n",
       "2                   4.261141e-15  ...               5.641131e-03   \n",
       "3                   2.704823e-01  ...               5.913326e-35   \n",
       "4                   9.422206e-01  ...               5.421817e-30   \n",
       "...                          ...  ...                        ...   \n",
       "16507               9.505920e-01  ...               1.878046e-28   \n",
       "16508               1.430917e-03  ...               7.663746e-14   \n",
       "16509               3.501819e-02  ...               1.715187e-42   \n",
       "16510               9.667073e-01  ...               2.464809e-27   \n",
       "16511               3.835213e-14  ...               3.977507e-04   \n",
       "\n",
       "       geo__Cluster 7 similarity  geo__Cluster 8 similarity  \\\n",
       "0                   9.770322e-01               2.382191e-08   \n",
       "1                   1.260964e-13               1.103491e-01   \n",
       "2                   7.303265e-01               2.508224e-08   \n",
       "3                   5.201263e-20               1.712982e-03   \n",
       "4                   1.048030e-15               2.568824e-02   \n",
       "...                          ...                        ...   \n",
       "16507               1.651285e-14               4.776856e-02   \n",
       "16508               9.538119e-06               4.530237e-01   \n",
       "16509               5.158970e-25               5.966953e-06   \n",
       "16510               8.018690e-14               8.956217e-02   \n",
       "16511               9.307247e-01               4.730211e-08   \n",
       "\n",
       "       geo__Cluster 9 similarity  cat__ocean_proximity_<1H OCEAN  \\\n",
       "0                   3.819126e-18                             0.0   \n",
       "1                   3.547610e-01                             1.0   \n",
       "2                   2.669659e-18                             0.0   \n",
       "3                   8.874598e-01                             0.0   \n",
       "4                   5.279506e-01                             0.0   \n",
       "...                          ...                             ...   \n",
       "16507               3.463930e-01                             1.0   \n",
       "16508               9.507766e-05                             0.0   \n",
       "16509               1.346576e-01                             0.0   \n",
       "16510               3.478114e-01                             1.0   \n",
       "16511               1.210400e-17                             0.0   \n",
       "\n",
       "       cat__ocean_proximity_INLAND  cat__ocean_proximity_ISLAND  \\\n",
       "0                              0.0                          0.0   \n",
       "1                              0.0                          0.0   \n",
       "2                              1.0                          0.0   \n",
       "3                              1.0                          0.0   \n",
       "4                              0.0                          0.0   \n",
       "...                            ...                          ...   \n",
       "16507                          0.0                          0.0   \n",
       "16508                          1.0                          0.0   \n",
       "16509                          0.0                          0.0   \n",
       "16510                          0.0                          0.0   \n",
       "16511                          0.0                          0.0   \n",
       "\n",
       "       cat__ocean_proximity_NEAR BAY  cat__ocean_proximity_NEAR OCEAN  \\\n",
       "0                                1.0                              0.0   \n",
       "1                                0.0                              0.0   \n",
       "2                                0.0                              0.0   \n",
       "3                                0.0                              0.0   \n",
       "4                                0.0                              1.0   \n",
       "...                              ...                              ...   \n",
       "16507                            0.0                              0.0   \n",
       "16508                            0.0                              0.0   \n",
       "16509                            0.0                              1.0   \n",
       "16510                            0.0                              0.0   \n",
       "16511                            0.0                              1.0   \n",
       "\n",
       "       remainder__housing_median_age  \n",
       "0                           1.861119  \n",
       "1                           0.907630  \n",
       "2                           0.351428  \n",
       "3                          -0.919891  \n",
       "4                           0.589800  \n",
       "...                              ...  \n",
       "16507                       0.987087  \n",
       "16508                      -0.443146  \n",
       "16509                      -1.237721  \n",
       "16510                       0.669257  \n",
       "16511                       1.225459  \n",
       "\n",
       "[16512 rows x 24 columns]"
      ]
     },
     "execution_count": 140,
     "metadata": {},
     "output_type": "execute_result"
    }
   ],
   "source": [
    "X"
   ]
  },
  {
   "cell_type": "code",
   "execution_count": 142,
   "id": "bc95afc2",
   "metadata": {},
   "outputs": [],
   "source": [
    "Y = Y.iloc[:,1:]"
   ]
  },
  {
   "cell_type": "code",
   "execution_count": 143,
   "id": "b820c4dd",
   "metadata": {},
   "outputs": [
    {
     "data": {
      "text/html": [
       "<div>\n",
       "<style scoped>\n",
       "    .dataframe tbody tr th:only-of-type {\n",
       "        vertical-align: middle;\n",
       "    }\n",
       "\n",
       "    .dataframe tbody tr th {\n",
       "        vertical-align: top;\n",
       "    }\n",
       "\n",
       "    .dataframe thead th {\n",
       "        text-align: right;\n",
       "    }\n",
       "</style>\n",
       "<table border=\"1\" class=\"dataframe\">\n",
       "  <thead>\n",
       "    <tr style=\"text-align: right;\">\n",
       "      <th></th>\n",
       "      <th>median_house_value</th>\n",
       "    </tr>\n",
       "  </thead>\n",
       "  <tbody>\n",
       "    <tr>\n",
       "      <th>0</th>\n",
       "      <td>458300.0</td>\n",
       "    </tr>\n",
       "    <tr>\n",
       "      <th>1</th>\n",
       "      <td>483800.0</td>\n",
       "    </tr>\n",
       "    <tr>\n",
       "      <th>2</th>\n",
       "      <td>101700.0</td>\n",
       "    </tr>\n",
       "    <tr>\n",
       "      <th>3</th>\n",
       "      <td>96100.0</td>\n",
       "    </tr>\n",
       "    <tr>\n",
       "      <th>4</th>\n",
       "      <td>361800.0</td>\n",
       "    </tr>\n",
       "    <tr>\n",
       "      <th>...</th>\n",
       "      <td>...</td>\n",
       "    </tr>\n",
       "    <tr>\n",
       "      <th>16507</th>\n",
       "      <td>500001.0</td>\n",
       "    </tr>\n",
       "    <tr>\n",
       "      <th>16508</th>\n",
       "      <td>88800.0</td>\n",
       "    </tr>\n",
       "    <tr>\n",
       "      <th>16509</th>\n",
       "      <td>148800.0</td>\n",
       "    </tr>\n",
       "    <tr>\n",
       "      <th>16510</th>\n",
       "      <td>500001.0</td>\n",
       "    </tr>\n",
       "    <tr>\n",
       "      <th>16511</th>\n",
       "      <td>233300.0</td>\n",
       "    </tr>\n",
       "  </tbody>\n",
       "</table>\n",
       "<p>16512 rows × 1 columns</p>\n",
       "</div>"
      ],
      "text/plain": [
       "       median_house_value\n",
       "0                458300.0\n",
       "1                483800.0\n",
       "2                101700.0\n",
       "3                 96100.0\n",
       "4                361800.0\n",
       "...                   ...\n",
       "16507            500001.0\n",
       "16508             88800.0\n",
       "16509            148800.0\n",
       "16510            500001.0\n",
       "16511            233300.0\n",
       "\n",
       "[16512 rows x 1 columns]"
      ]
     },
     "execution_count": 143,
     "metadata": {},
     "output_type": "execute_result"
    }
   ],
   "source": [
    "Y"
   ]
  },
  {
   "cell_type": "code",
   "execution_count": 144,
   "id": "7ccb18b7",
   "metadata": {},
   "outputs": [],
   "source": [
    "from sklearn.model_selection import train_test_split"
   ]
  },
  {
   "cell_type": "code",
   "execution_count": 145,
   "id": "b99b8f22",
   "metadata": {},
   "outputs": [],
   "source": [
    "X_train,X_test,y_train,y_test = train_test_split(X,Y,test_size=0.2)"
   ]
  },
  {
   "cell_type": "code",
   "execution_count": 146,
   "id": "af394e00",
   "metadata": {},
   "outputs": [],
   "source": [
    "X_train,X_valid,y_train,y_valid = train_test_split(X_train, y_train, test_size = 0.1)"
   ]
  },
  {
   "cell_type": "code",
   "execution_count": 147,
   "id": "fe6054b5",
   "metadata": {},
   "outputs": [],
   "source": [
    "from sklearn.preprocessing import StandardScaler"
   ]
  },
  {
   "cell_type": "code",
   "execution_count": 148,
   "id": "83ecf8ea",
   "metadata": {},
   "outputs": [],
   "source": [
    "scaler = StandardScaler()\n",
    "y_train_scaled = scaler.fit_transform(y_train)"
   ]
  },
  {
   "cell_type": "code",
   "execution_count": 149,
   "id": "f6381017",
   "metadata": {},
   "outputs": [],
   "source": [
    "y_valid_scaled, y_test_scaled = scaler.transform(y_valid), scaler.transform(y_test)"
   ]
  },
  {
   "cell_type": "code",
   "execution_count": 153,
   "id": "9c1148e4",
   "metadata": {},
   "outputs": [
    {
     "data": {
      "text/plain": [
       "(11888, 1)"
      ]
     },
     "execution_count": 153,
     "metadata": {},
     "output_type": "execute_result"
    }
   ],
   "source": [
    "y_train_scaled.shape"
   ]
  },
  {
   "cell_type": "code",
   "execution_count": 154,
   "id": "5cb6d8fc",
   "metadata": {},
   "outputs": [],
   "source": [
    "X_train, X_valid, y_train, y_valid = X_train.values, X_valid.values, y_train_scaled.reshape(y_train_scaled.shape[0],), y_valid_scaled.reshape(y_valid_scaled.shape[0],)"
   ]
  },
  {
   "cell_type": "code",
   "execution_count": 155,
   "id": "e813c8a5",
   "metadata": {},
   "outputs": [],
   "source": [
    "X_test, y_test = X_test.values, y_test_scaled.reshape(y_test_scaled.shape[0],)"
   ]
  },
  {
   "cell_type": "code",
   "execution_count": 156,
   "id": "3e862556",
   "metadata": {},
   "outputs": [],
   "source": [
    "tf.keras.utils.set_random_seed(42)"
   ]
  },
  {
   "cell_type": "code",
   "execution_count": 157,
   "id": "026671b1",
   "metadata": {},
   "outputs": [
    {
     "name": "stderr",
     "output_type": "stream",
     "text": [
      "c:\\Users\\blais\\Documents\\ML\\venv2\\lib\\site-packages\\keras\\src\\layers\\preprocessing\\tf_data_layer.py:19: UserWarning: Do not pass an `input_shape`/`input_dim` argument to a layer. When using Sequential models, prefer using an `Input(shape)` object as the first layer in the model instead.\n",
      "  super().__init__(**kwargs)\n"
     ]
    }
   ],
   "source": [
    "norm_layer = tf.keras.layers.Normalization(input_shape=X_train.shape[1:])"
   ]
  },
  {
   "cell_type": "code",
   "execution_count": 158,
   "id": "c058671b",
   "metadata": {},
   "outputs": [],
   "source": [
    "model = tf.keras.Sequential([\n",
    " norm_layer,\n",
    " tf.keras.layers.Dense(50, activation=\"relu\"),\n",
    " tf.keras.layers.Dense(50, activation=\"relu\"),\n",
    " tf.keras.layers.Dense(50, activation=\"relu\"),\n",
    " tf.keras.layers.Dense(1)\n",
    "])\n",
    "optimizer = tf.keras.optimizers.Adam(learning_rate=1e-3)\n",
    "model.compile(loss=\"mse\", optimizer=optimizer, metrics=[\"RootMeanSquaredError\"])\n",
    "norm_layer.adapt(X_train)"
   ]
  },
  {
   "cell_type": "code",
   "execution_count": 159,
   "id": "5fb46e4a",
   "metadata": {},
   "outputs": [
    {
     "name": "stdout",
     "output_type": "stream",
     "text": [
      "Epoch 1/20\n",
      "\u001b[1m372/372\u001b[0m \u001b[32m━━━━━━━━━━━━━━━━━━━━\u001b[0m\u001b[37m\u001b[0m \u001b[1m2s\u001b[0m 2ms/step - RootMeanSquaredError: 0.7269 - loss: 0.5377 - val_RootMeanSquaredError: 0.5124 - val_loss: 0.2625\n",
      "Epoch 2/20\n",
      "\u001b[1m372/372\u001b[0m \u001b[32m━━━━━━━━━━━━━━━━━━━━\u001b[0m\u001b[37m\u001b[0m \u001b[1m1s\u001b[0m 1ms/step - RootMeanSquaredError: 0.5109 - loss: 0.2614 - val_RootMeanSquaredError: 0.4993 - val_loss: 0.2493\n",
      "Epoch 3/20\n",
      "\u001b[1m372/372\u001b[0m \u001b[32m━━━━━━━━━━━━━━━━━━━━\u001b[0m\u001b[37m\u001b[0m \u001b[1m0s\u001b[0m 1ms/step - RootMeanSquaredError: 0.5901 - loss: 0.3531 - val_RootMeanSquaredError: 0.4720 - val_loss: 0.2227\n",
      "Epoch 4/20\n",
      "\u001b[1m372/372\u001b[0m \u001b[32m━━━━━━━━━━━━━━━━━━━━\u001b[0m\u001b[37m\u001b[0m \u001b[1m1s\u001b[0m 1ms/step - RootMeanSquaredError: 0.4955 - loss: 0.2460 - val_RootMeanSquaredError: 0.4718 - val_loss: 0.2226\n",
      "Epoch 5/20\n",
      "\u001b[1m372/372\u001b[0m \u001b[32m━━━━━━━━━━━━━━━━━━━━\u001b[0m\u001b[37m\u001b[0m \u001b[1m1s\u001b[0m 2ms/step - RootMeanSquaredError: 0.4606 - loss: 0.2126 - val_RootMeanSquaredError: 0.4562 - val_loss: 0.2081\n",
      "Epoch 6/20\n",
      "\u001b[1m372/372\u001b[0m \u001b[32m━━━━━━━━━━━━━━━━━━━━\u001b[0m\u001b[37m\u001b[0m \u001b[1m1s\u001b[0m 2ms/step - RootMeanSquaredError: 0.4499 - loss: 0.2028 - val_RootMeanSquaredError: 0.4478 - val_loss: 0.2006\n",
      "Epoch 7/20\n",
      "\u001b[1m372/372\u001b[0m \u001b[32m━━━━━━━━━━━━━━━━━━━━\u001b[0m\u001b[37m\u001b[0m \u001b[1m1s\u001b[0m 2ms/step - RootMeanSquaredError: 0.4444 - loss: 0.1978 - val_RootMeanSquaredError: 0.4429 - val_loss: 0.1962\n",
      "Epoch 8/20\n",
      "\u001b[1m372/372\u001b[0m \u001b[32m━━━━━━━━━━━━━━━━━━━━\u001b[0m\u001b[37m\u001b[0m \u001b[1m1s\u001b[0m 2ms/step - RootMeanSquaredError: 0.4412 - loss: 0.1950 - val_RootMeanSquaredError: 0.4420 - val_loss: 0.1954\n",
      "Epoch 9/20\n",
      "\u001b[1m372/372\u001b[0m \u001b[32m━━━━━━━━━━━━━━━━━━━━\u001b[0m\u001b[37m\u001b[0m \u001b[1m1s\u001b[0m 1ms/step - RootMeanSquaredError: 0.4385 - loss: 0.1926 - val_RootMeanSquaredError: 0.4424 - val_loss: 0.1957\n",
      "Epoch 10/20\n",
      "\u001b[1m372/372\u001b[0m \u001b[32m━━━━━━━━━━━━━━━━━━━━\u001b[0m\u001b[37m\u001b[0m \u001b[1m0s\u001b[0m 1ms/step - RootMeanSquaredError: 0.4356 - loss: 0.1902 - val_RootMeanSquaredError: 0.4429 - val_loss: 0.1961\n",
      "Epoch 11/20\n",
      "\u001b[1m372/372\u001b[0m \u001b[32m━━━━━━━━━━━━━━━━━━━━\u001b[0m\u001b[37m\u001b[0m \u001b[1m1s\u001b[0m 1ms/step - RootMeanSquaredError: 0.4344 - loss: 0.1891 - val_RootMeanSquaredError: 0.4366 - val_loss: 0.1907\n",
      "Epoch 12/20\n",
      "\u001b[1m372/372\u001b[0m \u001b[32m━━━━━━━━━━━━━━━━━━━━\u001b[0m\u001b[37m\u001b[0m \u001b[1m1s\u001b[0m 2ms/step - RootMeanSquaredError: 0.4319 - loss: 0.1869 - val_RootMeanSquaredError: 0.4373 - val_loss: 0.1913\n",
      "Epoch 13/20\n",
      "\u001b[1m372/372\u001b[0m \u001b[32m━━━━━━━━━━━━━━━━━━━━\u001b[0m\u001b[37m\u001b[0m \u001b[1m1s\u001b[0m 1ms/step - RootMeanSquaredError: 0.4306 - loss: 0.1857 - val_RootMeanSquaredError: 0.4338 - val_loss: 0.1882\n",
      "Epoch 14/20\n",
      "\u001b[1m372/372\u001b[0m \u001b[32m━━━━━━━━━━━━━━━━━━━━\u001b[0m\u001b[37m\u001b[0m \u001b[1m1s\u001b[0m 1ms/step - RootMeanSquaredError: 0.4233 - loss: 0.1796 - val_RootMeanSquaredError: 0.4313 - val_loss: 0.1860\n",
      "Epoch 15/20\n",
      "\u001b[1m372/372\u001b[0m \u001b[32m━━━━━━━━━━━━━━━━━━━━\u001b[0m\u001b[37m\u001b[0m \u001b[1m1s\u001b[0m 1ms/step - RootMeanSquaredError: 0.4212 - loss: 0.1778 - val_RootMeanSquaredError: 0.4278 - val_loss: 0.1830\n",
      "Epoch 16/20\n",
      "\u001b[1m372/372\u001b[0m \u001b[32m━━━━━━━━━━━━━━━━━━━━\u001b[0m\u001b[37m\u001b[0m \u001b[1m1s\u001b[0m 1ms/step - RootMeanSquaredError: 0.4173 - loss: 0.1745 - val_RootMeanSquaredError: 0.4268 - val_loss: 0.1821\n",
      "Epoch 17/20\n",
      "\u001b[1m372/372\u001b[0m \u001b[32m━━━━━━━━━━━━━━━━━━━━\u001b[0m\u001b[37m\u001b[0m \u001b[1m1s\u001b[0m 2ms/step - RootMeanSquaredError: 0.4143 - loss: 0.1720 - val_RootMeanSquaredError: 0.4282 - val_loss: 0.1833\n",
      "Epoch 18/20\n",
      "\u001b[1m372/372\u001b[0m \u001b[32m━━━━━━━━━━━━━━━━━━━━\u001b[0m\u001b[37m\u001b[0m \u001b[1m1s\u001b[0m 2ms/step - RootMeanSquaredError: 0.4112 - loss: 0.1694 - val_RootMeanSquaredError: 0.4256 - val_loss: 0.1812\n",
      "Epoch 19/20\n",
      "\u001b[1m372/372\u001b[0m \u001b[32m━━━━━━━━━━━━━━━━━━━━\u001b[0m\u001b[37m\u001b[0m \u001b[1m1s\u001b[0m 2ms/step - RootMeanSquaredError: 0.4087 - loss: 0.1673 - val_RootMeanSquaredError: 0.4257 - val_loss: 0.1812\n",
      "Epoch 20/20\n",
      "\u001b[1m372/372\u001b[0m \u001b[32m━━━━━━━━━━━━━━━━━━━━\u001b[0m\u001b[37m\u001b[0m \u001b[1m1s\u001b[0m 1ms/step - RootMeanSquaredError: 0.4067 - loss: 0.1657 - val_RootMeanSquaredError: 0.4268 - val_loss: 0.1821\n"
     ]
    }
   ],
   "source": [
    "history = model.fit(X_train, y_train_scaled, epochs=20, validation_data=(X_valid, y_valid_scaled))"
   ]
  },
  {
   "cell_type": "markdown",
   "id": "0c0890e7",
   "metadata": {},
   "source": [
    "Issues - Initial features were shit, had to go back to get the good features. \n",
    "Scaled the output y-values as well. Feature engineering is definitely important."
   ]
  },
  {
   "cell_type": "code",
   "execution_count": 160,
   "id": "8cff6452",
   "metadata": {},
   "outputs": [
    {
     "name": "stdout",
     "output_type": "stream",
     "text": [
      "\u001b[1m104/104\u001b[0m \u001b[32m━━━━━━━━━━━━━━━━━━━━\u001b[0m\u001b[37m\u001b[0m \u001b[1m0s\u001b[0m 1ms/step - RootMeanSquaredError: 0.4304 - loss: 0.1857\n"
     ]
    },
    {
     "data": {
      "text/plain": [
       "[0.20019546151161194, 0.4474320709705353]"
      ]
     },
     "execution_count": 160,
     "metadata": {},
     "output_type": "execute_result"
    }
   ],
   "source": [
    "model.evaluate(X_test, y_test_scaled)"
   ]
  },
  {
   "cell_type": "code",
   "execution_count": 161,
   "id": "5148c262",
   "metadata": {},
   "outputs": [],
   "source": [
    "X_new = X_test[:3]"
   ]
  },
  {
   "cell_type": "code",
   "execution_count": 162,
   "id": "e1efc05a",
   "metadata": {},
   "outputs": [
    {
     "name": "stdout",
     "output_type": "stream",
     "text": [
      "\u001b[1m1/1\u001b[0m \u001b[32m━━━━━━━━━━━━━━━━━━━━\u001b[0m\u001b[37m\u001b[0m \u001b[1m0s\u001b[0m 57ms/step\n"
     ]
    },
    {
     "data": {
      "text/plain": [
       "array([[-0.5563381 ],\n",
       "       [-0.25116068],\n",
       "       [-0.11687538]], dtype=float32)"
      ]
     },
     "execution_count": 162,
     "metadata": {},
     "output_type": "execute_result"
    }
   ],
   "source": [
    "model.predict(X_new)"
   ]
  },
  {
   "cell_type": "code",
   "execution_count": 164,
   "id": "97472862",
   "metadata": {},
   "outputs": [
    {
     "data": {
      "text/plain": [
       "array([[-0.50373491],\n",
       "       [-0.34388067],\n",
       "       [ 0.08210931]])"
      ]
     },
     "execution_count": 164,
     "metadata": {},
     "output_type": "execute_result"
    }
   ],
   "source": [
    "y_test_scaled[:3]"
   ]
  },
  {
   "cell_type": "code",
   "execution_count": 165,
   "id": "705a5f7e",
   "metadata": {},
   "outputs": [
    {
     "data": {
      "text/plain": [
       "array([-0.50373491, -0.34388067,  0.08210931])"
      ]
     },
     "execution_count": 165,
     "metadata": {},
     "output_type": "execute_result"
    }
   ],
   "source": [
    "y_test[:3]"
   ]
  },
  {
   "cell_type": "code",
   "execution_count": 167,
   "id": "c7d859a2",
   "metadata": {},
   "outputs": [
    {
     "data": {
      "text/plain": [
       "array([[147900.],\n",
       "       [166400.],\n",
       "       [215700.]])"
      ]
     },
     "execution_count": 167,
     "metadata": {},
     "output_type": "execute_result"
    }
   ],
   "source": [
    "scaler.inverse_transform(y_test[:3].reshape(-1,1))"
   ]
  },
  {
   "cell_type": "code",
   "execution_count": 168,
   "id": "021f2414",
   "metadata": {},
   "outputs": [
    {
     "data": {
      "text/plain": [
       "array([[147900.],\n",
       "       [166400.],\n",
       "       [215700.]])"
      ]
     },
     "execution_count": 168,
     "metadata": {},
     "output_type": "execute_result"
    }
   ],
   "source": [
    "scaler.inverse_transform(y_test_scaled[:3].reshape(-1,1))"
   ]
  },
  {
   "cell_type": "code",
   "execution_count": 169,
   "id": "342496f1",
   "metadata": {},
   "outputs": [
    {
     "name": "stdout",
     "output_type": "stream",
     "text": [
      "\u001b[1m1/1\u001b[0m \u001b[32m━━━━━━━━━━━━━━━━━━━━\u001b[0m\u001b[37m\u001b[0m \u001b[1m0s\u001b[0m 32ms/step\n"
     ]
    },
    {
     "data": {
      "text/plain": [
       "array([[141812.22],\n",
       "       [177130.53],\n",
       "       [192671.42]], dtype=float32)"
      ]
     },
     "execution_count": 169,
     "metadata": {},
     "output_type": "execute_result"
    }
   ],
   "source": [
    "scaler.inverse_transform(model.predict(X_new).reshape(-1,1))"
   ]
  },
  {
   "cell_type": "markdown",
   "id": "3b565f61",
   "metadata": {},
   "source": [
    "Feature engineering- really important\n",
    "- important to normalize/standardize\n",
    "- explore r/os to targets\n",
    "- log_transformation - avoid skewness\n",
    "- onehot encoding\n",
    "- also important to normalize targets - if they're numeric"
   ]
  },
  {
   "cell_type": "code",
   "execution_count": null,
   "id": "d2d31116",
   "metadata": {},
   "outputs": [],
   "source": []
  }
 ],
 "metadata": {
  "kernelspec": {
   "display_name": "venv2",
   "language": "python",
   "name": "python3"
  },
  "language_info": {
   "codemirror_mode": {
    "name": "ipython",
    "version": 3
   },
   "file_extension": ".py",
   "mimetype": "text/x-python",
   "name": "python",
   "nbconvert_exporter": "python",
   "pygments_lexer": "ipython3",
   "version": "3.10.9"
  }
 },
 "nbformat": 4,
 "nbformat_minor": 5
}
