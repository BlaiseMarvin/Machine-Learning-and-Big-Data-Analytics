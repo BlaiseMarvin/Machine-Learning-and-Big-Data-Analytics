{
 "cells": [
  {
   "cell_type": "markdown",
   "id": "84547bd7",
   "metadata": {},
   "source": [
    "**Synthetic Data:**"
   ]
  },
  {
   "cell_type": "code",
   "execution_count": null,
   "id": "f7090582",
   "metadata": {},
   "outputs": [],
   "source": [
    "import drawdata\n",
    "\n",
    "widget = drawdata.ScatterWidget()\n",
    "widget"
   ]
  },
  {
   "cell_type": "code",
   "execution_count": null,
   "id": "22b4f5f1",
   "metadata": {},
   "outputs": [],
   "source": [
    "widget = drawdata.ScatterWidget()\n",
    "widget"
   ]
  },
  {
   "cell_type": "code",
   "execution_count": null,
   "id": "43475097",
   "metadata": {},
   "outputs": [],
   "source": []
  }
 ],
 "metadata": {
  "kernelspec": {
   "display_name": "venv2",
   "language": "python",
   "name": "python3"
  },
  "language_info": {
   "codemirror_mode": {
    "name": "ipython",
    "version": 3
   },
   "file_extension": ".py",
   "mimetype": "text/x-python",
   "name": "python",
   "nbconvert_exporter": "python",
   "pygments_lexer": "ipython3",
   "version": "3.10.9"
  }
 },
 "nbformat": 4,
 "nbformat_minor": 5
}
