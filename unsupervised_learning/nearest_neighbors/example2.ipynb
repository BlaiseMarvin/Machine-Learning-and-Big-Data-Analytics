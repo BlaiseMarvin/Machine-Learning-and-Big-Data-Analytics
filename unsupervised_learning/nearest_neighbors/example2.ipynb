{
 "cells": [
  {
   "cell_type": "markdown",
   "id": "2ecfafda",
   "metadata": {},
   "source": [
    "**Time series clustering:**"
   ]
  },
  {
   "cell_type": "code",
   "execution_count": 1,
   "id": "50f33673",
   "metadata": {},
   "outputs": [],
   "source": [
    "from sklearn.model_selection import train_test_split\n",
    "from sktime.clustering.k_means import TimeSeriesKMeans\n",
    "from sktime.clustering.utils.plotting._plot_partitions import plot_cluster_algorithm\n",
    "from sktime.datasets import load_arrow_head"
   ]
  },
  {
   "cell_type": "code",
   "execution_count": 2,
   "id": "125621c6",
   "metadata": {},
   "outputs": [],
   "source": [
    "X, y = load_arrow_head()"
   ]
  },
  {
   "cell_type": "code",
   "execution_count": 3,
   "id": "beae58ec",
   "metadata": {},
   "outputs": [
    {
     "data": {
      "text/html": [
       "<div>\n",
       "<style scoped>\n",
       "    .dataframe tbody tr th:only-of-type {\n",
       "        vertical-align: middle;\n",
       "    }\n",
       "\n",
       "    .dataframe tbody tr th {\n",
       "        vertical-align: top;\n",
       "    }\n",
       "\n",
       "    .dataframe thead th {\n",
       "        text-align: right;\n",
       "    }\n",
       "</style>\n",
       "<table border=\"1\" class=\"dataframe\">\n",
       "  <thead>\n",
       "    <tr style=\"text-align: right;\">\n",
       "      <th></th>\n",
       "      <th>dim_0</th>\n",
       "    </tr>\n",
       "  </thead>\n",
       "  <tbody>\n",
       "    <tr>\n",
       "      <th>0</th>\n",
       "      <td>0     -1.963009\n",
       "1     -1.957825\n",
       "2     -1.95614...</td>\n",
       "    </tr>\n",
       "    <tr>\n",
       "      <th>1</th>\n",
       "      <td>0     -1.774571\n",
       "1     -1.774036\n",
       "2     -1.77658...</td>\n",
       "    </tr>\n",
       "    <tr>\n",
       "      <th>2</th>\n",
       "      <td>0     -1.866021\n",
       "1     -1.841991\n",
       "2     -1.83502...</td>\n",
       "    </tr>\n",
       "    <tr>\n",
       "      <th>3</th>\n",
       "      <td>0     -2.073758\n",
       "1     -2.073301\n",
       "2     -2.04460...</td>\n",
       "    </tr>\n",
       "    <tr>\n",
       "      <th>4</th>\n",
       "      <td>0     -1.746255\n",
       "1     -1.741263\n",
       "2     -1.72274...</td>\n",
       "    </tr>\n",
       "    <tr>\n",
       "      <th>...</th>\n",
       "      <td>...</td>\n",
       "    </tr>\n",
       "    <tr>\n",
       "      <th>206</th>\n",
       "      <td>0     -1.625142\n",
       "1     -1.622988\n",
       "2     -1.62606...</td>\n",
       "    </tr>\n",
       "    <tr>\n",
       "      <th>207</th>\n",
       "      <td>0     -1.657757\n",
       "1     -1.664673\n",
       "2     -1.63264...</td>\n",
       "    </tr>\n",
       "    <tr>\n",
       "      <th>208</th>\n",
       "      <td>0     -1.603279\n",
       "1     -1.587365\n",
       "2     -1.57740...</td>\n",
       "    </tr>\n",
       "    <tr>\n",
       "      <th>209</th>\n",
       "      <td>0     -1.739020\n",
       "1     -1.741534\n",
       "2     -1.73286...</td>\n",
       "    </tr>\n",
       "    <tr>\n",
       "      <th>210</th>\n",
       "      <td>0     -1.630727\n",
       "1     -1.629918\n",
       "2     -1.62055...</td>\n",
       "    </tr>\n",
       "  </tbody>\n",
       "</table>\n",
       "<p>211 rows × 1 columns</p>\n",
       "</div>"
      ],
      "text/plain": [
       "                                                 dim_0\n",
       "0    0     -1.963009\n",
       "1     -1.957825\n",
       "2     -1.95614...\n",
       "1    0     -1.774571\n",
       "1     -1.774036\n",
       "2     -1.77658...\n",
       "2    0     -1.866021\n",
       "1     -1.841991\n",
       "2     -1.83502...\n",
       "3    0     -2.073758\n",
       "1     -2.073301\n",
       "2     -2.04460...\n",
       "4    0     -1.746255\n",
       "1     -1.741263\n",
       "2     -1.72274...\n",
       "..                                                 ...\n",
       "206  0     -1.625142\n",
       "1     -1.622988\n",
       "2     -1.62606...\n",
       "207  0     -1.657757\n",
       "1     -1.664673\n",
       "2     -1.63264...\n",
       "208  0     -1.603279\n",
       "1     -1.587365\n",
       "2     -1.57740...\n",
       "209  0     -1.739020\n",
       "1     -1.741534\n",
       "2     -1.73286...\n",
       "210  0     -1.630727\n",
       "1     -1.629918\n",
       "2     -1.62055...\n",
       "\n",
       "[211 rows x 1 columns]"
      ]
     },
     "execution_count": 3,
     "metadata": {},
     "output_type": "execute_result"
    }
   ],
   "source": [
    "X"
   ]
  },
  {
   "cell_type": "code",
   "execution_count": 4,
   "id": "3f52f881",
   "metadata": {},
   "outputs": [
    {
     "data": {
      "text/plain": [
       "(211, 1)"
      ]
     },
     "execution_count": 4,
     "metadata": {},
     "output_type": "execute_result"
    }
   ],
   "source": [
    "X.shape"
   ]
  },
  {
   "cell_type": "code",
   "execution_count": 5,
   "id": "a7857d7f",
   "metadata": {},
   "outputs": [],
   "source": [
    "X_train, X_test, y_train, y_test = train_test_split(X, y)"
   ]
  },
  {
   "cell_type": "code",
   "execution_count": null,
   "id": "55dc6991",
   "metadata": {},
   "outputs": [],
   "source": []
  }
 ],
 "metadata": {
  "kernelspec": {
   "display_name": "venv2",
   "language": "python",
   "name": "python3"
  },
  "language_info": {
   "codemirror_mode": {
    "name": "ipython",
    "version": 3
   },
   "file_extension": ".py",
   "mimetype": "text/x-python",
   "name": "python",
   "nbconvert_exporter": "python",
   "pygments_lexer": "ipython3",
   "version": "3.10.9"
  }
 },
 "nbformat": 4,
 "nbformat_minor": 5
}
