{
 "cells": [
  {
   "cell_type": "markdown",
   "id": "12b96217",
   "metadata": {},
   "source": [
    "**Unsupervised Nearest Neighbors:**\n",
    "- Nearest neighbors implements unsupervised nearest neighbors learning. It acts as a uniform interface to three different nearest neighbors algorithms: BallTree, KDTree, and bruteforece/ The choice of neighbors search algorithm is controlled through keyword 'algorithm', which must be one of ['auto', 'ball_tree', 'kd_tree', 'brute']. When default 'auto' is passed the algo attempts to determine the best approach from the training data. "
   ]
  },
  {
   "cell_type": "markdown",
   "id": "5180753d",
   "metadata": {},
   "source": [
    "**Finding the Nearest neighbors:**\n",
    "- for the simple task of finding the nearest neighbors between 2 sets of data, the unsupervised algorithms with sklearn.neighbors can be used"
   ]
  },
  {
   "cell_type": "code",
   "execution_count": 1,
   "id": "748afa78",
   "metadata": {},
   "outputs": [],
   "source": [
    "from sklearn.neighbors import NearestNeighbors\n",
    "import numpy as np"
   ]
  },
  {
   "cell_type": "code",
   "execution_count": 2,
   "id": "355b972d",
   "metadata": {},
   "outputs": [],
   "source": [
    "X = np.array([[-1, -1], [-2, -1], [-3, -2], [1, 1], [2, 1], [3, 2]])"
   ]
  },
  {
   "cell_type": "code",
   "execution_count": 3,
   "id": "60e88720",
   "metadata": {},
   "outputs": [
    {
     "data": {
      "text/plain": [
       "(6, 2)"
      ]
     },
     "execution_count": 3,
     "metadata": {},
     "output_type": "execute_result"
    }
   ],
   "source": [
    "X.shape"
   ]
  },
  {
   "cell_type": "code",
   "execution_count": 4,
   "id": "bec27f5f",
   "metadata": {},
   "outputs": [],
   "source": [
    "nbrs = NearestNeighbors(n_neighbors=2, algorithm='ball_tree').fit(X)"
   ]
  },
  {
   "cell_type": "code",
   "execution_count": 5,
   "id": "2d1d20b9",
   "metadata": {},
   "outputs": [],
   "source": [
    "distances, indices = nbrs.kneighbors(X)"
   ]
  },
  {
   "cell_type": "code",
   "execution_count": 6,
   "id": "305b2920",
   "metadata": {},
   "outputs": [
    {
     "data": {
      "text/plain": [
       "array([[0, 1],\n",
       "       [1, 0],\n",
       "       [2, 1],\n",
       "       [3, 4],\n",
       "       [4, 3],\n",
       "       [5, 4]], dtype=int64)"
      ]
     },
     "execution_count": 6,
     "metadata": {},
     "output_type": "execute_result"
    }
   ],
   "source": [
    "indices"
   ]
  },
  {
   "cell_type": "code",
   "execution_count": 7,
   "id": "8f1f0e9d",
   "metadata": {},
   "outputs": [
    {
     "data": {
      "text/plain": [
       "array([[0.        , 1.        ],\n",
       "       [0.        , 1.        ],\n",
       "       [0.        , 1.41421356],\n",
       "       [0.        , 1.        ],\n",
       "       [0.        , 1.        ],\n",
       "       [0.        , 1.41421356]])"
      ]
     },
     "execution_count": 7,
     "metadata": {},
     "output_type": "execute_result"
    }
   ],
   "source": [
    "distances"
   ]
  },
  {
   "cell_type": "markdown",
   "id": "e77aafde",
   "metadata": {},
   "source": [
    "Because the query set matches the training set, the nearest neighbor of each point is the point itself, at a distance of zero. It is also possible to produce a sparse graph showing the connections between neighborng points"
   ]
  },
  {
   "cell_type": "code",
   "execution_count": 8,
   "id": "2910a809",
   "metadata": {},
   "outputs": [
    {
     "data": {
      "text/plain": [
       "array([[1., 1., 0., 0., 0., 0.],\n",
       "       [1., 1., 0., 0., 0., 0.],\n",
       "       [0., 1., 1., 0., 0., 0.],\n",
       "       [0., 0., 0., 1., 1., 0.],\n",
       "       [0., 0., 0., 1., 1., 0.],\n",
       "       [0., 0., 0., 0., 1., 1.]])"
      ]
     },
     "execution_count": 8,
     "metadata": {},
     "output_type": "execute_result"
    }
   ],
   "source": [
    "nbrs.kneighbors_graph(X).toarray()"
   ]
  },
  {
   "cell_type": "markdown",
   "id": "dc189cf4",
   "metadata": {},
   "source": [
    "**KDTree and BallTree Classes:**\n",
    "- Alternatively - one can use the KDTree or BallTree to find nearest neighbors.\n",
    "- This is functionality wrapped by the NearestNeighbors class above. BallTree and KDTree have the same interface.\n",
    "- Functionality wrapped by NearestNeighbors class "
   ]
  },
  {
   "cell_type": "markdown",
   "id": "a892a4c2",
   "metadata": {},
   "source": [
    "**Nearest Neighbors Classification:**"
   ]
  },
  {
   "cell_type": "code",
   "execution_count": 10,
   "id": "00dd770c",
   "metadata": {},
   "outputs": [],
   "source": [
    "from sklearn.datasets import load_iris\n",
    "from sklearn.model_selection import train_test_split"
   ]
  },
  {
   "cell_type": "code",
   "execution_count": 11,
   "id": "cd07e33f",
   "metadata": {},
   "outputs": [],
   "source": [
    "iris = load_iris(as_frame=True)\n",
    "X = iris.data[[\"sepal length (cm)\", \"sepal width (cm)\"]]\n",
    "y = iris.target\n",
    "X_train, X_test, y_train, y_test = train_test_split(X, y, stratify=y, random_state=0)"
   ]
  },
  {
   "cell_type": "markdown",
   "id": "32c58fb8",
   "metadata": {},
   "source": [
    "**K-Nearest Neighbors Classifier:**\n",
    "- K-Nearest Neighbors classifier considering a neighborhood of 11 data points. Since our nearest neighbors method relies on distances its important to scale the data beforehand. "
   ]
  },
  {
   "cell_type": "markdown",
   "id": "25ae6a28",
   "metadata": {},
   "source": [
    "**Nearest Centroid Classifier:**\n",
    "- simple algo that represents each class by the centroid of its members. "
   ]
  },
  {
   "cell_type": "code",
   "execution_count": null,
   "id": "c1391c32",
   "metadata": {},
   "outputs": [],
   "source": []
  }
 ],
 "metadata": {
  "kernelspec": {
   "display_name": "venv2",
   "language": "python",
   "name": "python3"
  },
  "language_info": {
   "codemirror_mode": {
    "name": "ipython",
    "version": 3
   },
   "file_extension": ".py",
   "mimetype": "text/x-python",
   "name": "python",
   "nbconvert_exporter": "python",
   "pygments_lexer": "ipython3",
   "version": "3.10.9"
  }
 },
 "nbformat": 4,
 "nbformat_minor": 5
}
