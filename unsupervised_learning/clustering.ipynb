{
 "cells": [
  {
   "cell_type": "markdown",
   "id": "ef167de3",
   "metadata": {},
   "source": [
    "**Clustering:**\n",
    "- Clustering performed with the module => sklearn.cluster\n"
   ]
  },
  {
   "cell_type": "markdown",
   "id": "87164829",
   "metadata": {},
   "source": [
    "KMeans limitations:\n",
    "- Inertia makes the assumption that clusters are convex and isotropic, which is not always the case. It responds poorly to elongated clusters, or manifolds with irregular shapes.\n",
    "- Inertia isn't a normalized metric: we just know that lower values are better and zero is optimal. But in very high dimensional spaces, Euclidean distances tend to become inflated. Running a dimensionality reduction algorithm such as PCA prior to k-means can alleviate this problem."
   ]
  },
  {
   "cell_type": "markdown",
   "id": "375b39d9",
   "metadata": {},
   "source": [
    "![KMeans_Limitations](https://scikit-learn.org/stable/_images/sphx_glr_plot_kmeans_assumptions_002.png)"
   ]
  },
  {
   "cell_type": "markdown",
   "id": "fb566aa9",
   "metadata": {},
   "source": [
    "Solutions:\n",
    " - For the first problem => Non optimal number of clusters : find the right number of clusters in the dataset using silhouette scores\n",
    " - Second problem: Unevenly sized blobs - simply implies the algo failed to find the right cluster centers consider using a more extensive initialization strategy. In sklearn's implementation of k_means - this translates to increasing the n_init parameter\n",
    " - Then lastly - anisotropic and unequal variances are real limitations of the k-means algorithm. Could try using GaussianMixture Models. \n",
    "\n",
    " - Also important to note: In high dimensional spaces, Euclidean distances tend to become inflated and running a dimensionality reduction algorithm prior to k-means clsutering can alleviate this problem. In cases where the clusters are known to be isotropic (similar spread or variance), and are not too sparse, the k-means algo is quite effective and is one of the fastest available. "
   ]
  },
  {
   "cell_type": "markdown",
   "id": "7b63b700",
   "metadata": {},
   "source": [
    "Also a mini-batch k-means version.\n",
    "Mini Batch KMeans:\n",
    "- Variant of KMeans minimizes the objective function on a mini batch basis, one mini batch at a time but results in slightly worse results"
   ]
  },
  {
   "cell_type": "markdown",
   "id": "55f0ce98",
   "metadata": {},
   "source": [
    "**Affinity Propagation:**\n",
    "- Creates clusters by sending messages between pairs of samples until convergence. A dataset is then described using a small number of exemplers, which are identified as those most representative of other samplees."
   ]
  },
  {
   "cell_type": "markdown",
   "id": "75cdcd00",
   "metadata": {},
   "source": [
    "**Spectral Clustering:**\n"
   ]
  },
  {
   "cell_type": "code",
   "execution_count": 2,
   "id": "1a00a372",
   "metadata": {},
   "outputs": [],
   "source": [
    "import numpy as np"
   ]
  },
  {
   "cell_type": "code",
   "execution_count": 3,
   "id": "41be6b84",
   "metadata": {},
   "outputs": [],
   "source": [
    "A = np.array([\n",
    "    [1, -0.8],\n",
    "    [0, 1],\n",
    "    [1, 0]\n",
    "])"
   ]
  },
  {
   "cell_type": "code",
   "execution_count": 5,
   "id": "96f6008a",
   "metadata": {},
   "outputs": [],
   "source": [
    "U, S, VT = np.linalg.svd(A, full_matrices=True)"
   ]
  },
  {
   "cell_type": "code",
   "execution_count": 7,
   "id": "2e13ebcf",
   "metadata": {},
   "outputs": [
    {
     "data": {
      "text/plain": [
       "(array([[-7.88170109e-01,  1.87057766e-16, -6.15457455e-01],\n",
       "        [ 3.84473224e-01, -7.80868809e-01, -4.92365964e-01],\n",
       "        [-4.80591530e-01, -6.24695048e-01,  6.15457455e-01]]),\n",
       " array([1.62480768, 1.        ]),\n",
       " array([[-0.78086881,  0.62469505],\n",
       "        [-0.62469505, -0.78086881]]))"
      ]
     },
     "execution_count": 7,
     "metadata": {},
     "output_type": "execute_result"
    }
   ],
   "source": [
    "U, S, VT"
   ]
  },
  {
   "cell_type": "code",
   "execution_count": 8,
   "id": "25891d4d",
   "metadata": {},
   "outputs": [
    {
     "data": {
      "text/plain": [
       "array([[-0.78086881, -0.62469505],\n",
       "       [ 0.62469505, -0.78086881]])"
      ]
     },
     "execution_count": 8,
     "metadata": {},
     "output_type": "execute_result"
    }
   ],
   "source": [
    "np.transpose(VT)"
   ]
  },
  {
   "cell_type": "code",
   "execution_count": 9,
   "id": "ea45336a",
   "metadata": {},
   "outputs": [
    {
     "name": "stdout",
     "output_type": "stream",
     "text": [
      "Left Singular Vectors:\n",
      "[[-7.88170109e-01  1.87057766e-16 -6.15457455e-01]\n",
      " [ 3.84473224e-01 -7.80868809e-01 -4.92365964e-01]\n",
      " [-4.80591530e-01 -6.24695048e-01  6.15457455e-01]]\n",
      "Singular Values:\n",
      "[1.62480768 1.        ]\n",
      "Right Singular Vectors:\n",
      "[[-0.78086881 -0.62469505]\n",
      " [ 0.62469505 -0.78086881]]\n"
     ]
    }
   ],
   "source": [
    "print(\"Left Singular Vectors:\")\n",
    "print(U)\n",
    "print(\"Singular Values:\")\n",
    "print(S)\n",
    "print(\"Right Singular Vectors:\")\n",
    "print(np.transpose(VT))"
   ]
  },
  {
   "cell_type": "markdown",
   "id": "db940232",
   "metadata": {},
   "source": [
    "Reconstruct original matrix using right and left singular values"
   ]
  },
  {
   "cell_type": "code",
   "execution_count": 10,
   "id": "4ff502bb",
   "metadata": {},
   "outputs": [
    {
     "name": "stdout",
     "output_type": "stream",
     "text": [
      "[[1.62480768 0.        ]\n",
      " [0.         1.        ]\n",
      " [0.         0.        ]]\n"
     ]
    }
   ],
   "source": [
    "smat = np.zeros((3,2))\n",
    "smat[:2,:2] = np.diag(S)\n",
    "print(smat)"
   ]
  },
  {
   "cell_type": "code",
   "execution_count": 11,
   "id": "cc5912f3",
   "metadata": {},
   "outputs": [
    {
     "data": {
      "text/plain": [
       "array([1.62480768, 1.        ])"
      ]
     },
     "execution_count": 11,
     "metadata": {},
     "output_type": "execute_result"
    }
   ],
   "source": [
    "S"
   ]
  },
  {
   "cell_type": "code",
   "execution_count": 12,
   "id": "ea376972",
   "metadata": {},
   "outputs": [
    {
     "data": {
      "text/plain": [
       "array([[1.62480768, 0.        ],\n",
       "       [0.        , 1.        ]])"
      ]
     },
     "execution_count": 12,
     "metadata": {},
     "output_type": "execute_result"
    }
   ],
   "source": [
    "np.diag(S)"
   ]
  },
  {
   "cell_type": "code",
   "execution_count": 13,
   "id": "e4b70998",
   "metadata": {},
   "outputs": [],
   "source": [
    "from numpy.linalg import multi_dot"
   ]
  },
  {
   "cell_type": "code",
   "execution_count": 14,
   "id": "310e7fbf",
   "metadata": {},
   "outputs": [
    {
     "name": "stdout",
     "output_type": "stream",
     "text": [
      "[[ 1.00000000e+00 -8.00000000e-01]\n",
      " [ 8.93385967e-18  1.00000000e+00]\n",
      " [ 1.00000000e+00  1.23451001e-16]] \n",
      " [[ 1.  -0.8]\n",
      " [ 0.   1. ]\n",
      " [ 1.   0. ]]\n"
     ]
    }
   ],
   "source": [
    "print(multi_dot([U,smat,VT]),'\\n',A)"
   ]
  },
  {
   "cell_type": "code",
   "execution_count": 15,
   "id": "8b05f7d6",
   "metadata": {},
   "outputs": [],
   "source": [
    "from numpy.linalg import norm"
   ]
  },
  {
   "cell_type": "code",
   "execution_count": 17,
   "id": "9269d7a5",
   "metadata": {},
   "outputs": [
    {
     "name": "stdout",
     "output_type": "stream",
     "text": [
      "4.741952567914139e-16\n"
     ]
    }
   ],
   "source": [
    "print(norm(A - multi_dot([U, smat, VT])))"
   ]
  },
  {
   "cell_type": "markdown",
   "id": "159b4ba2",
   "metadata": {},
   "source": [
    "So shows svd components can be converted back to the original matrix when multiplied back"
   ]
  },
  {
   "cell_type": "code",
   "execution_count": 18,
   "id": "9c886b7f",
   "metadata": {},
   "outputs": [
    {
     "data": {
      "text/plain": [
       "array([[-7.88170109e-01,  1.87057766e-16, -6.15457455e-01],\n",
       "       [ 3.84473224e-01, -7.80868809e-01, -4.92365964e-01],\n",
       "       [-4.80591530e-01, -6.24695048e-01,  6.15457455e-01]])"
      ]
     },
     "execution_count": 18,
     "metadata": {},
     "output_type": "execute_result"
    }
   ],
   "source": [
    "U"
   ]
  },
  {
   "cell_type": "code",
   "execution_count": 19,
   "id": "4391091f",
   "metadata": {},
   "outputs": [
    {
     "data": {
      "text/plain": [
       "array([[-0.78086881,  0.62469505],\n",
       "       [-0.62469505, -0.78086881]])"
      ]
     },
     "execution_count": 19,
     "metadata": {},
     "output_type": "execute_result"
    }
   ],
   "source": [
    "VT"
   ]
  },
  {
   "cell_type": "markdown",
   "id": "3ab481af",
   "metadata": {},
   "source": [
    "Low-rank approximation:"
   ]
  },
  {
   "cell_type": "code",
   "execution_count": 20,
   "id": "cfe1cc96",
   "metadata": {},
   "outputs": [],
   "source": [
    "A = np.array([\n",
    "    [1, -.8],\n",
    "    [0, 1],\n",
    "    [1, 0]\n",
    "])"
   ]
  },
  {
   "cell_type": "code",
   "execution_count": 21,
   "id": "0df807b9",
   "metadata": {},
   "outputs": [
    {
     "name": "stdout",
     "output_type": "stream",
     "text": [
      "[[ 1.  -0.8]\n",
      " [ 0.   1. ]\n",
      " [ 1.   0. ]]\n"
     ]
    }
   ],
   "source": [
    "print(A)"
   ]
  },
  {
   "cell_type": "code",
   "execution_count": 22,
   "id": "9b7e47d5",
   "metadata": {},
   "outputs": [
    {
     "name": "stdout",
     "output_type": "stream",
     "text": [
      "\u001b[1;31mSignature:\u001b[0m       \u001b[0mnp\u001b[0m\u001b[1;33m.\u001b[0m\u001b[0mlinalg\u001b[0m\u001b[1;33m.\u001b[0m\u001b[0msvd\u001b[0m\u001b[1;33m(\u001b[0m\u001b[0ma\u001b[0m\u001b[1;33m,\u001b[0m \u001b[0mfull_matrices\u001b[0m\u001b[1;33m=\u001b[0m\u001b[1;32mTrue\u001b[0m\u001b[1;33m,\u001b[0m \u001b[0mcompute_uv\u001b[0m\u001b[1;33m=\u001b[0m\u001b[1;32mTrue\u001b[0m\u001b[1;33m,\u001b[0m \u001b[0mhermitian\u001b[0m\u001b[1;33m=\u001b[0m\u001b[1;32mFalse\u001b[0m\u001b[1;33m)\u001b[0m\u001b[1;33m\u001b[0m\u001b[1;33m\u001b[0m\u001b[0m\n",
      "\u001b[1;31mCall signature:\u001b[0m  \u001b[0mnp\u001b[0m\u001b[1;33m.\u001b[0m\u001b[0mlinalg\u001b[0m\u001b[1;33m.\u001b[0m\u001b[0msvd\u001b[0m\u001b[1;33m(\u001b[0m\u001b[1;33m*\u001b[0m\u001b[0margs\u001b[0m\u001b[1;33m,\u001b[0m \u001b[1;33m**\u001b[0m\u001b[0mkwargs\u001b[0m\u001b[1;33m)\u001b[0m\u001b[1;33m\u001b[0m\u001b[1;33m\u001b[0m\u001b[0m\n",
      "\u001b[1;31mType:\u001b[0m            _ArrayFunctionDispatcher\n",
      "\u001b[1;31mString form:\u001b[0m     <function svd at 0x000001AACC242440>\n",
      "\u001b[1;31mFile:\u001b[0m            c:\\users\\blais\\documents\\ml\\venv2\\lib\\site-packages\\numpy\\linalg\\linalg.py\n",
      "\u001b[1;31mDocstring:\u001b[0m      \n",
      "Singular Value Decomposition.\n",
      "\n",
      "When `a` is a 2D array, and ``full_matrices=False``, then it is\n",
      "factorized as ``u @ np.diag(s) @ vh = (u * s) @ vh``, where\n",
      "`u` and the Hermitian transpose of `vh` are 2D arrays with\n",
      "orthonormal columns and `s` is a 1D array of `a`'s singular\n",
      "values. When `a` is higher-dimensional, SVD is applied in\n",
      "stacked mode as explained below.\n",
      "\n",
      "Parameters\n",
      "----------\n",
      "a : (..., M, N) array_like\n",
      "    A real or complex array with ``a.ndim >= 2``.\n",
      "full_matrices : bool, optional\n",
      "    If True (default), `u` and `vh` have the shapes ``(..., M, M)`` and\n",
      "    ``(..., N, N)``, respectively.  Otherwise, the shapes are\n",
      "    ``(..., M, K)`` and ``(..., K, N)``, respectively, where\n",
      "    ``K = min(M, N)``.\n",
      "compute_uv : bool, optional\n",
      "    Whether or not to compute `u` and `vh` in addition to `s`.  True\n",
      "    by default.\n",
      "hermitian : bool, optional\n",
      "    If True, `a` is assumed to be Hermitian (symmetric if real-valued),\n",
      "    enabling a more efficient method for finding singular values.\n",
      "    Defaults to False.\n",
      "\n",
      "    .. versionadded:: 1.17.0\n",
      "\n",
      "Returns\n",
      "-------\n",
      "When `compute_uv` is True, the result is a namedtuple with the following\n",
      "attribute names:\n",
      "\n",
      "U : { (..., M, M), (..., M, K) } array\n",
      "    Unitary array(s). The first ``a.ndim - 2`` dimensions have the same\n",
      "    size as those of the input `a`. The size of the last two dimensions\n",
      "    depends on the value of `full_matrices`. Only returned when\n",
      "    `compute_uv` is True.\n",
      "S : (..., K) array\n",
      "    Vector(s) with the singular values, within each vector sorted in\n",
      "    descending order. The first ``a.ndim - 2`` dimensions have the same\n",
      "    size as those of the input `a`.\n",
      "Vh : { (..., N, N), (..., K, N) } array\n",
      "    Unitary array(s). The first ``a.ndim - 2`` dimensions have the same\n",
      "    size as those of the input `a`. The size of the last two dimensions\n",
      "    depends on the value of `full_matrices`. Only returned when\n",
      "    `compute_uv` is True.\n",
      "\n",
      "Raises\n",
      "------\n",
      "LinAlgError\n",
      "    If SVD computation does not converge.\n",
      "\n",
      "See Also\n",
      "--------\n",
      "scipy.linalg.svd : Similar function in SciPy.\n",
      "scipy.linalg.svdvals : Compute singular values of a matrix.\n",
      "\n",
      "Notes\n",
      "-----\n",
      "\n",
      ".. versionchanged:: 1.8.0\n",
      "   Broadcasting rules apply, see the `numpy.linalg` documentation for\n",
      "   details.\n",
      "\n",
      "The decomposition is performed using LAPACK routine ``_gesdd``.\n",
      "\n",
      "SVD is usually described for the factorization of a 2D matrix :math:`A`.\n",
      "The higher-dimensional case will be discussed below. In the 2D case, SVD is\n",
      "written as :math:`A = U S V^H`, where :math:`A = a`, :math:`U= u`,\n",
      ":math:`S= \\mathtt{np.diag}(s)` and :math:`V^H = vh`. The 1D array `s`\n",
      "contains the singular values of `a` and `u` and `vh` are unitary. The rows\n",
      "of `vh` are the eigenvectors of :math:`A^H A` and the columns of `u` are\n",
      "the eigenvectors of :math:`A A^H`. In both cases the corresponding\n",
      "(possibly non-zero) eigenvalues are given by ``s**2``.\n",
      "\n",
      "If `a` has more than two dimensions, then broadcasting rules apply, as\n",
      "explained in :ref:`routines.linalg-broadcasting`. This means that SVD is\n",
      "working in \"stacked\" mode: it iterates over all indices of the first\n",
      "``a.ndim - 2`` dimensions and for each combination SVD is applied to the\n",
      "last two indices. The matrix `a` can be reconstructed from the\n",
      "decomposition with either ``(u * s[..., None, :]) @ vh`` or\n",
      "``u @ (s[..., None] * vh)``. (The ``@`` operator can be replaced by the\n",
      "function ``np.matmul`` for python versions below 3.5.)\n",
      "\n",
      "If `a` is a ``matrix`` object (as opposed to an ``ndarray``), then so are\n",
      "all the return values.\n",
      "\n",
      "Examples\n",
      "--------\n",
      ">>> a = np.random.randn(9, 6) + 1j*np.random.randn(9, 6)\n",
      ">>> b = np.random.randn(2, 7, 8, 3) + 1j*np.random.randn(2, 7, 8, 3)\n",
      "\n",
      "Reconstruction based on full SVD, 2D case:\n",
      "\n",
      ">>> U, S, Vh = np.linalg.svd(a, full_matrices=True)\n",
      ">>> U.shape, S.shape, Vh.shape\n",
      "((9, 9), (6,), (6, 6))\n",
      ">>> np.allclose(a, np.dot(U[:, :6] * S, Vh))\n",
      "True\n",
      ">>> smat = np.zeros((9, 6), dtype=complex)\n",
      ">>> smat[:6, :6] = np.diag(S)\n",
      ">>> np.allclose(a, np.dot(U, np.dot(smat, Vh)))\n",
      "True\n",
      "\n",
      "Reconstruction based on reduced SVD, 2D case:\n",
      "\n",
      ">>> U, S, Vh = np.linalg.svd(a, full_matrices=False)\n",
      ">>> U.shape, S.shape, Vh.shape\n",
      "((9, 6), (6,), (6, 6))\n",
      ">>> np.allclose(a, np.dot(U * S, Vh))\n",
      "True\n",
      ">>> smat = np.diag(S)\n",
      ">>> np.allclose(a, np.dot(U, np.dot(smat, Vh)))\n",
      "True\n",
      "\n",
      "Reconstruction based on full SVD, 4D case:\n",
      "\n",
      ">>> U, S, Vh = np.linalg.svd(b, full_matrices=True)\n",
      ">>> U.shape, S.shape, Vh.shape\n",
      "((2, 7, 8, 8), (2, 7, 3), (2, 7, 3, 3))\n",
      ">>> np.allclose(b, np.matmul(U[..., :3] * S[..., None, :], Vh))\n",
      "True\n",
      ">>> np.allclose(b, np.matmul(U[..., :3], S[..., None] * Vh))\n",
      "True\n",
      "\n",
      "Reconstruction based on reduced SVD, 4D case:\n",
      "\n",
      ">>> U, S, Vh = np.linalg.svd(b, full_matrices=False)\n",
      ">>> U.shape, S.shape, Vh.shape\n",
      "((2, 7, 8, 3), (2, 7, 3), (2, 7, 3, 3))\n",
      ">>> np.allclose(b, np.matmul(U * S[..., None, :], Vh))\n",
      "True\n",
      ">>> np.allclose(b, np.matmul(U, S[..., None] * Vh))\n",
      "True\n",
      "\u001b[1;31mClass docstring:\u001b[0m\n",
      "Class to wrap functions with checks for __array_function__ overrides.\n",
      "\n",
      "All arguments are required, and can only be passed by position.\n",
      "\n",
      "Parameters\n",
      "----------\n",
      "dispatcher : function or None\n",
      "    The dispatcher function that returns a single sequence-like object\n",
      "    of all arguments relevant.  It must have the same signature (except\n",
      "    the default values) as the actual implementation.\n",
      "    If ``None``, this is a ``like=`` dispatcher and the\n",
      "    ``_ArrayFunctionDispatcher`` must be called with ``like`` as the\n",
      "    first (additional and positional) argument.\n",
      "implementation : function\n",
      "    Function that implements the operation on NumPy arrays without\n",
      "    overrides.  Arguments passed calling the ``_ArrayFunctionDispatcher``\n",
      "    will be forwarded to this (and the ``dispatcher``) as if using\n",
      "    ``*args, **kwargs``.\n",
      "\n",
      "Attributes\n",
      "----------\n",
      "_implementation : function\n",
      "    The original implementation passed in."
     ]
    }
   ],
   "source": [
    "np.linalg.svd?"
   ]
  },
  {
   "cell_type": "code",
   "execution_count": 23,
   "id": "585676cd",
   "metadata": {},
   "outputs": [],
   "source": [
    "U, S, VT = np.linalg.svd(A, full_matrices=True)"
   ]
  },
  {
   "cell_type": "code",
   "execution_count": 24,
   "id": "2e92b1c0",
   "metadata": {},
   "outputs": [
    {
     "name": "stdout",
     "output_type": "stream",
     "text": [
      "(3, 3) (2,) (2, 2)\n"
     ]
    }
   ],
   "source": [
    "print(U.shape, S.shape, VT.shape)"
   ]
  },
  {
   "cell_type": "code",
   "execution_count": null,
   "id": "0d60bb30",
   "metadata": {},
   "outputs": [],
   "source": []
  }
 ],
 "metadata": {
  "kernelspec": {
   "display_name": "venv2",
   "language": "python",
   "name": "python3"
  },
  "language_info": {
   "codemirror_mode": {
    "name": "ipython",
    "version": 3
   },
   "file_extension": ".py",
   "mimetype": "text/x-python",
   "name": "python",
   "nbconvert_exporter": "python",
   "pygments_lexer": "ipython3",
   "version": "3.10.9"
  }
 },
 "nbformat": 4,
 "nbformat_minor": 5
}
