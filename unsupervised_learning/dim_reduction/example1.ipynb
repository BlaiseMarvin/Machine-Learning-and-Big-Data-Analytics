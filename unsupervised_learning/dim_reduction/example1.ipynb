{
 "cells": [
  {
   "cell_type": "markdown",
   "id": "3f358973",
   "metadata": {},
   "source": [
    "**Random Projection:**\n",
    "\n",
    "- **Manifold Learning:**\n",
    "    - Locally Linear Embedding (lle) - nonlinear dimensionality reduction technique. Its a manifold learning technique - that doesn't rely on projections - unlike PCA and random projection. LLE works by first measuring how each training instance linearly relates to its nearest neighbors, and then looking for a low-dimensional representation of the training instance where these local relationships are best preserved. This approach makes it particularly good at unrolling twisted manifolds, especially when there's not too much noise. \n",
    "    - "
   ]
  },
  {
   "cell_type": "code",
   "execution_count": 1,
   "id": "8cc25271",
   "metadata": {},
   "outputs": [],
   "source": [
    "from sklearn.datasets import make_swiss_roll\n",
    "from sklearn.manifold import LocallyLinearEmbedding"
   ]
  },
  {
   "cell_type": "code",
   "execution_count": 2,
   "id": "f7e80cef",
   "metadata": {},
   "outputs": [],
   "source": [
    "X_swiss, t = make_swiss_roll(n_samples=1000, noise=0.2, random_state=42)"
   ]
  },
  {
   "cell_type": "code",
   "execution_count": 3,
   "id": "d46ef722",
   "metadata": {},
   "outputs": [
    {
     "data": {
      "text/plain": [
       "(1000, 3)"
      ]
     },
     "execution_count": 3,
     "metadata": {},
     "output_type": "execute_result"
    }
   ],
   "source": [
    "X_swiss.shape"
   ]
  },
  {
   "cell_type": "code",
   "execution_count": 4,
   "id": "76855d0f",
   "metadata": {},
   "outputs": [],
   "source": [
    "lle = LocallyLinearEmbedding(n_components=2, n_neighbors=10, random_state=42)\n",
    "X_unrolled = lle.fit_transform(X_swiss)"
   ]
  },
  {
   "cell_type": "code",
   "execution_count": 5,
   "id": "416a1b80",
   "metadata": {},
   "outputs": [
    {
     "data": {
      "text/plain": [
       "(1000, 2)"
      ]
     },
     "execution_count": 5,
     "metadata": {},
     "output_type": "execute_result"
    }
   ],
   "source": [
    "X_unrolled.shape"
   ]
  },
  {
   "cell_type": "code",
   "execution_count": null,
   "id": "58d49aa7",
   "metadata": {},
   "outputs": [],
   "source": []
  }
 ],
 "metadata": {
  "kernelspec": {
   "display_name": "venv2",
   "language": "python",
   "name": "python3"
  },
  "language_info": {
   "codemirror_mode": {
    "name": "ipython",
    "version": 3
   },
   "file_extension": ".py",
   "mimetype": "text/x-python",
   "name": "python",
   "nbconvert_exporter": "python",
   "pygments_lexer": "ipython3",
   "version": "3.10.9"
  }
 },
 "nbformat": 4,
 "nbformat_minor": 5
}
