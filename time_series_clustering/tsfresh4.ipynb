{
 "cells": [
  {
   "cell_type": "markdown",
   "id": "30dcdf89",
   "metadata": {},
   "source": [
    "**Feature Filtering:**\n",
    "\n",
    "- The all-relevant problem of feature selection is the identification of all strongly and weakly relevant attributes. Problem is especially hard to solve for all time series classification and regression in industrial applications such as predictive maintenance or production line optimization, for which each label or regression target is associated with several time series and meta-information simultaneuosly. \n",
    "\n",
    "- to limit irrelevant features - tsfresh deploys the fresh algorithm (fresh stands for FeatuRe Extraction based on Scalable Hypothesis tests)\n",
    "\n",
    "- The algorithm - is called by tsfresh.feature_selection.relevance.calculate_relevance_table(). Its an efficient and scalable feature extraction algorithm "
   ]
  },
  {
   "cell_type": "markdown",
   "id": "67587cb6",
   "metadata": {},
   "source": [
    "**How to add a custom feature:**\n",
    "- To add custom made features from your time series, tsfresh allows you to do so in a few simple steps:\n",
    "\n",
    "  - Step 1: Decide which type of feature you want to implement\n",
    "    tsfresh supports 2 types of feature calculation methods:\n",
    "    1. Simple\n",
    "    2. Combiner\n",
    "    The difference lays in the numbrt of features calculated for a singular time series. The feature_calculator is simple if it returns one (1) feature, and it is a combiner if it returns multiple features. \n",
    "  \n",
    "  - Step 2: Write the feature calculator:\n",
    "    - Depending on which type of feature calculator you're implementing, you can use the following feature calculator skeletons:"
   ]
  },
  {
   "cell_type": "markdown",
   "id": "f71121a8",
   "metadata": {},
   "source": [
    "**1: simple features:**\n",
    "- You can write a simple feature calculator that returns exactly one feature, without parameters as follows:"
   ]
  },
  {
   "cell_type": "code",
   "execution_count": 1,
   "id": "b94bceea",
   "metadata": {},
   "outputs": [],
   "source": [
    "from tsfresh.feature_extraction.feature_calculators import set_property"
   ]
  },
  {
   "cell_type": "code",
   "execution_count": 2,
   "id": "a2de4167",
   "metadata": {},
   "outputs": [],
   "source": [
    "@set_property(\"fctype\",\"simple\")\n",
    "def your_feature_calculator(x):\n",
    "    \"\"\"\n",
    "        The description of the feature\n",
    "\n",
    "        :param x: The time series to calculate the feature of\n",
    "        :type x: pandas.series\n",
    "        : return: the value of this feature\n",
    "        : return type: bool, int, or float\n",
    "    \"\"\"\n",
    "\n",
    "    # calculation of feature as float, int, or bool\n",
    "    result = f(x)\n",
    "    return result"
   ]
  },
  {
   "cell_type": "markdown",
   "id": "dc799117",
   "metadata": {},
   "source": [
    "or with parameters:"
   ]
  },
  {
   "cell_type": "code",
   "execution_count": 4,
   "id": "ff61c98f",
   "metadata": {},
   "outputs": [],
   "source": [
    "@set_property(\"fctype\",\"simple\")\n",
    "def your_feature_calculator(x, p1, p2):\n",
    "    \"\"\"\n",
    "        Description of your feature\n",
    "        : param x: the time series to calculate the feature of\n",
    "        : type x: pandas.Series\n",
    "        : param p1: Description of your parameter p1\n",
    "        : type p1: type of your parameter p1\n",
    "        : param p2: description of your parameter p2\n",
    "        : type p2: type of your parameter p2\n",
    "        ..................\n",
    "        : return: the value of this feature\n",
    "        : return type: bool, int, or float\n",
    "    \"\"\"\n",
    "    # calculation of feature as float, int, or bool\n",
    "    f = f(x)\n",
    "    return f"
   ]
  },
  {
   "cell_type": "markdown",
   "id": "3e7db1e5",
   "metadata": {},
   "source": [
    "**2. Combiner Features:**\n",
    "- Alternatively, you can write a combiner feature calculator that returns multiple features as follows:"
   ]
  },
  {
   "cell_type": "code",
   "execution_count": 5,
   "id": "7f810e01",
   "metadata": {},
   "outputs": [],
   "source": [
    "from tsfresh.utilities.string_manipulation import convert_to_output_format"
   ]
  },
  {
   "cell_type": "code",
   "execution_count": 6,
   "id": "4540c580",
   "metadata": {},
   "outputs": [],
   "source": [
    "@set_property(\"fctype\", \"combiner\")\n",
    "def your_feature_calculator(x, param):\n",
    "    \"\"\"\n",
    "        Short description of your feature (should be a one liner as we parse the first line of the description)\n",
    "\n",
    "    Long detailed description, add somme equations, add some references, what kind of statistics is the feature\n",
    "    capturing? When should you use it? When not?\n",
    "\n",
    "    :param x: the time series to calculate the feature of\n",
    "    :type x: pandas.Series\n",
    "    :param c: the time series name\n",
    "    :type c: str\n",
    "    :param param: contains dictionaries {\"p1\": x, \"p2\": y, ...} with p1 float, p2 int ...\n",
    "    :type param: list\n",
    "    :return: list of tuples (s, f) where s are the parameters, serialized as a string,\n",
    "             and f the respective feature value as bool, int or float\n",
    "    :return type: pandas.Series\n",
    "    \"\"\"\n",
    "    return [(convert_to_output_format(config), f(x, config)) for config in param]\n"
   ]
  },
  {
   "cell_type": "markdown",
   "id": "634ca703",
   "metadata": {},
   "source": [
    "**Your own time-based feature calculators:**\n",
    "- Writing your own time-based featire calculators is no different than usual. \n"
   ]
  },
  {
   "cell_type": "markdown",
   "id": "e55487bd",
   "metadata": {},
   "source": [
    "**Parallelization:**\n",
    "- The feature extraction, the feature selection, as well as the rolling, offer the possibility of parallelization. By default, all of those tasks are parallelized by tsfresh. Here, we discuss the different settings to control the parallelization. To achieve the best results for your use case - experiment with the parameters.\n",
    "\n",
    "- For large amounts of data that doesn't fit into memory - consider using spark or dask's convenience bindings.\n",
    "\n",
    "**Parallelization of Feature Selection:**\n",
    "- We use a multiprocessing.Pool to parallelize the calculation of the p-values for each feature. On instantiation we set the Pool's number of worker processes to n_jobs. This field defaults to the number of processors on the current system. Its recommended to set it to the maximum number of available and otherwise idle processors.\n",
    "\n",
    "- The chunksize of the pool's map function is another important param to consider. can be set via the chunksize field. "
   ]
  },
  {
   "cell_type": "markdown",
   "id": "adef415e",
   "metadata": {},
   "source": []
  }
 ],
 "metadata": {
  "kernelspec": {
   "display_name": "venv2",
   "language": "python",
   "name": "python3"
  },
  "language_info": {
   "codemirror_mode": {
    "name": "ipython",
    "version": 3
   },
   "file_extension": ".py",
   "mimetype": "text/x-python",
   "name": "python",
   "nbconvert_exporter": "python",
   "pygments_lexer": "ipython3",
   "version": "3.10.9"
  }
 },
 "nbformat": 4,
 "nbformat_minor": 5
}
