{
 "cells": [
  {
   "cell_type": "markdown",
   "id": "f3470d2a",
   "metadata": {},
   "source": [
    "**Feature Extraction Settings:**\n",
    "- New DS project - start by extracting a comprehensive set of features. then maybe later you can identify which features are relevant for the task at hand. In the final stages - then maybe finetune the parameter of the features to fine tune your model. \n",
    "- Can do all those things with tsfresh. What you need to know is - how to control which features are calculated by tsfresh and how can one adjsut the parameters."
   ]
  },
  {
   "cell_type": "markdown",
   "id": "f29ff8d1",
   "metadata": {},
   "source": [
    "Need to know how to control which features are calculated by tsfresh and how one can adjust the parameters of the features."
   ]
  },
  {
   "cell_type": "markdown",
   "id": "81ec1f0e",
   "metadata": {},
   "source": [
    "**For the lazy: Just calculate some features**\n",
    "- To calculate a comprehensive set of features - call the tsfresh.extract_features() method without passing a default_fc_parameters or kind_to_fc_parameters object. this way you'll be using the default options which will use all the feature calculators in this package. "
   ]
  },
  {
   "cell_type": "markdown",
   "id": "c44a7472",
   "metadata": {},
   "source": [
    "**For the advanced: How to set the parameters for all kind of time series?**\n",
    "- After digging deep into your data - you maybe want to calculate more of a certain type of feature and less of another type. So - need to use custom settings for feature extractors. To do that with tsfresh - you have to use a custom settings object:"
   ]
  },
  {
   "cell_type": "code",
   "execution_count": null,
   "id": "ee5ef929",
   "metadata": {},
   "outputs": [],
   "source": [
    "from tsfresh.feature_extraction import ComprehensiveFCParameters, extract_features\n",
    "\n",
    "settings = ComprehensiveFCParameters()\n",
    "# set the options of the settings object as shown in the paragraphs below.\n",
    "\n",
    "extract_features(df, default_fc_parameters=settings)"
   ]
  },
  {
   "cell_type": "markdown",
   "id": "c09094d0",
   "metadata": {},
   "source": [
    "The default_fc_parameters is expected to be a dictionary which maps feature calculator names (the function names you can find in the tsfresh.feature_extraction.feature_calculators file) to a list of dictionaries - which are the parameters with which the function will be called as key value pairs. Each function-parameter combination that is in this dictionary will be called during extraction and will produce a feature. If the function does not take any parameters, the value should be set to None."
   ]
  },
  {
   "cell_type": "code",
   "execution_count": null,
   "id": "8db36652",
   "metadata": {},
   "outputs": [],
   "source": [
    "fc_parameters = {\n",
    "    \"length\": None, \n",
    "    \"large_standard_deviation\": [{\"r\": 0.05}, {\"r\": 0.1}]\n",
    "}"
   ]
  },
  {
   "cell_type": "markdown",
   "id": "5e9163c1",
   "metadata": {},
   "source": [
    "The above code will produce 3 features: one by calling the tsfresh.feature_extraction.feature_calculators.length() function without any parameters and two by calling tsfresh.feature_extraction.feature_calculators.large_standard_deviation() with r = 0.05 and r = 0.1.\n",
    "\n",
    "- So, we can control which features will be extracted, by adding or removing either keys or parameters from this dictionary. If you decide not to calculate the length feature here, you can just delete it from the dictionary:"
   ]
  },
  {
   "cell_type": "code",
   "execution_count": null,
   "id": "266f0f4e",
   "metadata": {},
   "outputs": [],
   "source": [
    "del fc_parameters['length']"
   ]
  },
  {
   "cell_type": "markdown",
   "id": "83856159",
   "metadata": {},
   "source": [
    "And now - only two features are calculated."
   ]
  },
  {
   "cell_type": "code",
   "execution_count": 2,
   "id": "795b3307",
   "metadata": {},
   "outputs": [],
   "source": [
    "from tsfresh.feature_extraction.settings import ComprehensiveFCParameters"
   ]
  },
  {
   "cell_type": "markdown",
   "id": "60014cef",
   "metadata": {},
   "source": [
    "For convenience, three dictionaries are predefined and can be used right away:\n",
    "- tsfresh.feature_extraction.settings.ComprehensiveFCParameters: includes all features without parameters and all features with parameters, each with different parameter combinations. This is the default for tsfresh.extract_features() - if you do not hand in a default_fc_parameters at all. \n",
    "- tsfresh.feature_extraction.settings.MinimalFCParameters: includes only a handful of features and can be used for quick tests. The features which have the minimal attribute are used here\n",
    "- tsfresh.feature_extraction.settings.EfficientFCParameters: Mostly the same features as in ComprehensiveFCParameters, but without features which are marked with the \"high_comp_cost\" attribute. Can be used if runtime performance plays a major role."
   ]
  },
  {
   "cell_type": "markdown",
   "id": "9ead8a6b",
   "metadata": {},
   "source": [
    "Theoretically - you could calculate an unlimited number of features with tsfresh by adding entry adter entry to the dictionary."
   ]
  },
  {
   "cell_type": "markdown",
   "id": "481829e6",
   "metadata": {},
   "source": [
    "**For the ambitious: How do I set the parameters for different type of time series?**\n",
    "- It is also possible to control the features to be extracted for the different kinds of time series individually. Can do so by passing a kind_to_fc_parameters to the tsfresh.extract_features() function. It should be a dict mapping from kind names (as strings) to fc_parameters ibjects, which you'd normally pass as arguments to the default_fc_parameters parameter."
   ]
  },
  {
   "cell_type": "code",
   "execution_count": null,
   "id": "8ef24044",
   "metadata": {},
   "outputs": [],
   "source": [
    "kind_to_fc_parameters = {\n",
    "    \"temperature\": {\"mean\": None},\n",
    "    \"pressure\": {\"maximum\": None, \"minimum\": None}\n",
    "}"
   ]
  },
  {
   "cell_type": "markdown",
   "id": "f3754ed6",
   "metadata": {},
   "source": [
    "The above will extract the \"mean\" of the \"temperature\" time series and the \"minimum\" and \"maximum\" of the \"pressure\" time series. \n",
    "- The kind_to_fc_parameters argument will partly override the default_fc_parameters. So, if you include a kind name in the kind_to_fc_parameters parameter, its value will be used for that kid. Other kinds will still still use the default_fc_parameters."
   ]
  },
  {
   "cell_type": "markdown",
   "id": "af3a2921",
   "metadata": {},
   "source": [
    "**Handy Trick: Do I really have to create the dictionary by hand?**\n",
    "- Not necessarily. Assuming you have a DataFrame of tsfresh features. By using feature selection algorithms you find out only a subset is relevant. \n",
    "\n",
    "- Then there is the tsfresh.feature_extraction.settings.from_columns() method that constructs the kind_to_fc_parameters dictionary from the column names of this filtered feature matrix to make sure that only relevant features are extracted. \n",
    "\n",
    "- This can save a huge amount of time because you prevent the calculation of unndecessary features"
   ]
  },
  {
   "cell_type": "code",
   "execution_count": null,
   "id": "ec1e6f55",
   "metadata": {},
   "outputs": [],
   "source": [
    "# X_tsfresh contains the extracted tsfresh features\n",
    "X_tsfresh = extract_features()\n",
    "\n",
    "# which are bow filtered to only contain relevant features\n",
    "X_tsfresh_filtered = some_feature_selection(X_tsfresh, y,...)\n",
    "\n",
    "# we can easily construct the corresponding settings object\n",
    "kind_to_fc_parameters = tsfresh.feature_extraction.settings.from_columns(X_tsfresh_filtered)"
   ]
  },
  {
   "cell_type": "markdown",
   "id": "33b7bb8a",
   "metadata": {},
   "source": [
    "Above code snippet will construct the kind_to_fc_parameters dictionary that corresponds to the features and parameters from the tsfresh features that were filtered by the some_feature_selection feature selection algo"
   ]
  },
  {
   "cell_type": "markdown",
   "id": "91bb8101",
   "metadata": {},
   "source": []
  }
 ],
 "metadata": {
  "kernelspec": {
   "display_name": "venv2",
   "language": "python",
   "name": "python3"
  },
  "language_info": {
   "codemirror_mode": {
    "name": "ipython",
    "version": 3
   },
   "file_extension": ".py",
   "mimetype": "text/x-python",
   "name": "python",
   "nbconvert_exporter": "python",
   "pygments_lexer": "ipython3",
   "version": "3.10.9"
  }
 },
 "nbformat": 4,
 "nbformat_minor": 5
}
