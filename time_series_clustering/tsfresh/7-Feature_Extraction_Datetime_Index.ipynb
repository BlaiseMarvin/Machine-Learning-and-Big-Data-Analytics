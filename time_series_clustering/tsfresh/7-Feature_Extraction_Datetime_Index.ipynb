{
 "cells": [
  {
   "cell_type": "markdown",
   "id": "4bf0832e",
   "metadata": {},
   "source": [
    "**Example of Extracting Features from dataframes with Datetime indices:**\n",
    "- Assuming that time-varying measurements are taken at regular intervals can be sufficient for many situations. However, for a large number of takss it is important to take into account when a measurement is made. An example can be healthcare, where the interval between ,easurement of vital signs contains crucial info\n",
    "\n",
    "- Tsfresh now supports calculator functions that use the index of the timeseries container to calculate the features. The only requirement for these functions is that the index of the input dataframe is of type pd.DatetumeIndex. These functions are contained in the new class TimeBasedFCParameters"
   ]
  },
  {
   "cell_type": "code",
   "execution_count": 1,
   "id": "74cf8ac1",
   "metadata": {},
   "outputs": [],
   "source": [
    "import pandas as pd\n",
    "from tsfresh.feature_extraction import extract_features\n",
    "# Time Based FC Parameters - contains all functions that use the datetime index of the timeseries container.\n",
    "\n",
    "from tsfresh.feature_extraction.settings import TimeBasedFCParameters"
   ]
  },
  {
   "cell_type": "markdown",
   "id": "865c780c",
   "metadata": {},
   "source": [
    "Build a time series container with datetime indices:\n",
    "- Build a dataframe with a datetime index. the format must be with a value and a kind column, since each measurement has its own timestamp - i.e. measurements are not assumed to be simultaneous."
   ]
  },
  {
   "cell_type": "code",
   "execution_count": 2,
   "id": "2d253a8c",
   "metadata": {},
   "outputs": [
    {
     "data": {
      "text/html": [
       "<div>\n",
       "<style scoped>\n",
       "    .dataframe tbody tr th:only-of-type {\n",
       "        vertical-align: middle;\n",
       "    }\n",
       "\n",
       "    .dataframe tbody tr th {\n",
       "        vertical-align: top;\n",
       "    }\n",
       "\n",
       "    .dataframe thead th {\n",
       "        text-align: right;\n",
       "    }\n",
       "</style>\n",
       "<table border=\"1\" class=\"dataframe\">\n",
       "  <thead>\n",
       "    <tr style=\"text-align: right;\">\n",
       "      <th></th>\n",
       "      <th>id</th>\n",
       "      <th>value</th>\n",
       "      <th>kind</th>\n",
       "    </tr>\n",
       "  </thead>\n",
       "  <tbody>\n",
       "    <tr>\n",
       "      <th>2019-03-01 10:04:00</th>\n",
       "      <td>a</td>\n",
       "      <td>1</td>\n",
       "      <td>temperature</td>\n",
       "    </tr>\n",
       "    <tr>\n",
       "      <th>2019-03-01 10:50:00</th>\n",
       "      <td>a</td>\n",
       "      <td>2</td>\n",
       "      <td>temperature</td>\n",
       "    </tr>\n",
       "    <tr>\n",
       "      <th>2019-03-02 00:00:00</th>\n",
       "      <td>a</td>\n",
       "      <td>3</td>\n",
       "      <td>pressure</td>\n",
       "    </tr>\n",
       "    <tr>\n",
       "      <th>2019-03-02 09:04:59</th>\n",
       "      <td>a</td>\n",
       "      <td>1</td>\n",
       "      <td>pressure</td>\n",
       "    </tr>\n",
       "    <tr>\n",
       "      <th>2019-03-02 23:54:12</th>\n",
       "      <td>b</td>\n",
       "      <td>3</td>\n",
       "      <td>temperature</td>\n",
       "    </tr>\n",
       "    <tr>\n",
       "      <th>2019-03-03 08:13:04</th>\n",
       "      <td>b</td>\n",
       "      <td>1</td>\n",
       "      <td>temperature</td>\n",
       "    </tr>\n",
       "    <tr>\n",
       "      <th>2019-03-04 08:00:00</th>\n",
       "      <td>b</td>\n",
       "      <td>0</td>\n",
       "      <td>pressure</td>\n",
       "    </tr>\n",
       "    <tr>\n",
       "      <th>2019-03-04 08:01:00</th>\n",
       "      <td>b</td>\n",
       "      <td>8</td>\n",
       "      <td>pressure</td>\n",
       "    </tr>\n",
       "  </tbody>\n",
       "</table>\n",
       "</div>"
      ],
      "text/plain": [
       "                    id  value         kind\n",
       "2019-03-01 10:04:00  a      1  temperature\n",
       "2019-03-01 10:50:00  a      2  temperature\n",
       "2019-03-02 00:00:00  a      3     pressure\n",
       "2019-03-02 09:04:59  a      1     pressure\n",
       "2019-03-02 23:54:12  b      3  temperature\n",
       "2019-03-03 08:13:04  b      1  temperature\n",
       "2019-03-04 08:00:00  b      0     pressure\n",
       "2019-03-04 08:01:00  b      8     pressure"
      ]
     },
     "execution_count": 2,
     "metadata": {},
     "output_type": "execute_result"
    }
   ],
   "source": [
    "df = pd.DataFrame({\"id\": [\"a\", \"a\", \"a\", \"a\", \"b\", \"b\", \"b\", \"b\"], \n",
    "                   \"value\": [1, 2, 3, 1, 3, 1, 0, 8],\n",
    "                   \"kind\": [\"temperature\", \"temperature\", \"pressure\", \"pressure\",\n",
    "                            \"temperature\", \"temperature\", \"pressure\", \"pressure\"]},\n",
    "                   index=pd.DatetimeIndex(\n",
    "                       ['2019-03-01 10:04:00', '2019-03-01 10:50:00', '2019-03-02 00:00:00', '2019-03-02 09:04:59',\n",
    "                        '2019-03-02 23:54:12', '2019-03-03 08:13:04', '2019-03-04 08:00:00', '2019-03-04 08:01:00']\n",
    "                   ))\n",
    "df = df.sort_index()\n",
    "df"
   ]
  },
  {
   "cell_type": "markdown",
   "id": "42cad9a6",
   "metadata": {},
   "source": [
    "Right now - TimeBasedFCParameters only contains linear_trend_timewise - which performs a calculation of a linear trend, but using the time difference in hours between measurements in order to perform regression"
   ]
  },
  {
   "cell_type": "code",
   "execution_count": 3,
   "id": "6b8e0737",
   "metadata": {},
   "outputs": [
    {
     "data": {
      "text/plain": [
       "{'linear_trend_timewise': [{'attr': 'pvalue'}, {'attr': 'rvalue'}, {'attr': 'intercept'}, {'attr': 'slope'}, {'attr': 'stderr'}]}"
      ]
     },
     "execution_count": 3,
     "metadata": {},
     "output_type": "execute_result"
    }
   ],
   "source": [
    "settings_time = TimeBasedFCParameters()\n",
    "settings_time"
   ]
  },
  {
   "cell_type": "code",
   "execution_count": 4,
   "id": "29e9a400",
   "metadata": {},
   "outputs": [],
   "source": [
    "from tsfresh.feature_extraction.settings import ComprehensiveFCParameters\n",
    "\n",
    "settings_compreh = ComprehensiveFCParameters()"
   ]
  },
  {
   "cell_type": "code",
   "execution_count": 5,
   "id": "97c2ed71",
   "metadata": {},
   "outputs": [
    {
     "data": {
      "text/plain": [
       "True"
      ]
     },
     "execution_count": 5,
     "metadata": {},
     "output_type": "execute_result"
    }
   ],
   "source": [
    "'linear_trend_timewise' in settings_compreh.keys()"
   ]
  },
  {
   "cell_type": "code",
   "execution_count": 6,
   "id": "7e264a4b",
   "metadata": {},
   "outputs": [
    {
     "data": {
      "text/plain": [
       "[{'attr': 'pvalue'},\n",
       " {'attr': 'rvalue'},\n",
       " {'attr': 'intercept'},\n",
       " {'attr': 'slope'},\n",
       " {'attr': 'stderr'}]"
      ]
     },
     "execution_count": 6,
     "metadata": {},
     "output_type": "execute_result"
    }
   ],
   "source": [
    "settings_compreh['linear_trend_timewise']"
   ]
  },
  {
   "cell_type": "code",
   "execution_count": 7,
   "id": "55c0dc63",
   "metadata": {},
   "outputs": [
    {
     "name": "stderr",
     "output_type": "stream",
     "text": [
      "Feature Extraction: 100%|██████████| 4/4 [00:02<00:00,  1.85it/s]\n"
     ]
    },
    {
     "data": {
      "text/html": [
       "<div>\n",
       "<style scoped>\n",
       "    .dataframe tbody tr th:only-of-type {\n",
       "        vertical-align: middle;\n",
       "    }\n",
       "\n",
       "    .dataframe tbody tr th {\n",
       "        vertical-align: top;\n",
       "    }\n",
       "\n",
       "    .dataframe thead th {\n",
       "        text-align: right;\n",
       "    }\n",
       "</style>\n",
       "<table border=\"1\" class=\"dataframe\">\n",
       "  <thead>\n",
       "    <tr style=\"text-align: right;\">\n",
       "      <th></th>\n",
       "      <th>pressure__linear_trend_timewise__attr_\"pvalue\"</th>\n",
       "      <th>pressure__linear_trend_timewise__attr_\"rvalue\"</th>\n",
       "      <th>pressure__linear_trend_timewise__attr_\"intercept\"</th>\n",
       "      <th>pressure__linear_trend_timewise__attr_\"slope\"</th>\n",
       "      <th>pressure__linear_trend_timewise__attr_\"stderr\"</th>\n",
       "      <th>temperature__linear_trend_timewise__attr_\"pvalue\"</th>\n",
       "      <th>temperature__linear_trend_timewise__attr_\"rvalue\"</th>\n",
       "      <th>temperature__linear_trend_timewise__attr_\"intercept\"</th>\n",
       "      <th>temperature__linear_trend_timewise__attr_\"slope\"</th>\n",
       "      <th>temperature__linear_trend_timewise__attr_\"stderr\"</th>\n",
       "    </tr>\n",
       "  </thead>\n",
       "  <tbody>\n",
       "    <tr>\n",
       "      <th>a</th>\n",
       "      <td>0.0</td>\n",
       "      <td>-1.0</td>\n",
       "      <td>3.0</td>\n",
       "      <td>-0.22019</td>\n",
       "      <td>0.0</td>\n",
       "      <td>0.0</td>\n",
       "      <td>1.0</td>\n",
       "      <td>1.0</td>\n",
       "      <td>1.304348</td>\n",
       "      <td>0.0</td>\n",
       "    </tr>\n",
       "    <tr>\n",
       "      <th>b</th>\n",
       "      <td>0.0</td>\n",
       "      <td>1.0</td>\n",
       "      <td>0.0</td>\n",
       "      <td>480.00000</td>\n",
       "      <td>0.0</td>\n",
       "      <td>0.0</td>\n",
       "      <td>-1.0</td>\n",
       "      <td>3.0</td>\n",
       "      <td>-0.240545</td>\n",
       "      <td>0.0</td>\n",
       "    </tr>\n",
       "  </tbody>\n",
       "</table>\n",
       "</div>"
      ],
      "text/plain": [
       "   pressure__linear_trend_timewise__attr_\"pvalue\"  ...  temperature__linear_trend_timewise__attr_\"stderr\"\n",
       "a                                             0.0  ...                                                0.0\n",
       "b                                             0.0  ...                                                0.0\n",
       "\n",
       "[2 rows x 10 columns]"
      ]
     },
     "execution_count": 7,
     "metadata": {},
     "output_type": "execute_result"
    }
   ],
   "source": [
    "X_tsfresh = extract_features(df, column_id = \"id\", column_value = \"value\", column_kind = \"kind\", default_fc_parameters= settings_time)\n",
    "X_tsfresh.head()"
   ]
  },
  {
   "cell_type": "markdown",
   "id": "175dbfe3",
   "metadata": {},
   "source": [
    "The output looks exactly, like usual - if we compare it with the 'regular' linear_trend feature calc we can see that the intercept, p and R values are the same, as we'd expect. "
   ]
  },
  {
   "cell_type": "code",
   "execution_count": null,
   "id": "a49886bb",
   "metadata": {},
   "outputs": [],
   "source": []
  }
 ],
 "metadata": {
  "kernelspec": {
   "display_name": "venv2",
   "language": "python",
   "name": "python3"
  },
  "language_info": {
   "codemirror_mode": {
    "name": "ipython",
    "version": 3
   },
   "file_extension": ".py",
   "mimetype": "text/x-python",
   "name": "python",
   "nbconvert_exporter": "python",
   "pygments_lexer": "ipython3",
   "version": "3.10.9"
  }
 },
 "nbformat": 4,
 "nbformat_minor": 5
}
