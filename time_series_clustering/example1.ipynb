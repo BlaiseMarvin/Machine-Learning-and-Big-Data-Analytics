{
 "cells": [
  {
   "cell_type": "markdown",
   "id": "c99d0f4d",
   "metadata": {},
   "source": [
    "Time series data:\n",
    "- sequences of data points collected or recoreded at specific time intervals. Clustering this data involves grouping sequences that exhibit similar patterns or behaviours over time\n",
    "- Unlike traditional clustering, time series clustering must account for temporal dependencies and potential shifts in time. \n",
    "\n",
    "Key Concepts in Time Series Clustering: Similarity Measures\n",
    "- A crucial aspect of time series clustering is the similarity measure used to compare different time series. Common similarity measures include:\n",
    "  - Euclidean Distance => Measures the straight line distance between 2 points in multidimensional space. While its simple, it is not invariant to time shifts\n",
    "  - Dynamic Time Warping (DTW) => Aligns sequences by warping the time axis to minimize the distance between them. DTW is robust to time shifts and varying speeds. \n",
    "  - Correlation-based measures => Evaluate the correlation between timeseries, focusing on the similarity of their shapes rather than their exact values\n",
    "\n",
    "Time Series Clustering Techniques:\n",
    " - Shape-Based clustering\n",
    "   - Focus on the shape of the time series, using features like autocorrelation, partial autocorrelation, and cepstral coefficients\n",
    "   - Clustering algos like k-means or hierarchical clustering can be applied to these features\n",
    "- Feature-Based Cluserting:\n",
    "   - Extracts features from the time series, such as trend, seasonality and frequency components\n",
    "   - Common feature extraction techniques include Fourier transforms, wavelets and svd\n",
    "   - Clustering algos are then applied to extracted features\n",
    "- Model Based Clusering:\n",
    "  - Time series are generated from a mixture of underlying probability distributions\n",
    "  - Gaussian Mixture Models (GMMs) commonly used to model these\n",
    "  - The EM algo is used to estimate the parameters of the GMMs"
   ]
  },
  {
   "cell_type": "markdown",
   "id": "569408d8",
   "metadata": {},
   "source": [
    "Examples:\n",
    " - Whole Time Series Clustering with K-Means:"
   ]
  },
  {
   "cell_type": "code",
   "execution_count": 3,
   "id": "167ba055",
   "metadata": {},
   "outputs": [],
   "source": [
    "import numpy as np\n",
    "import pandas as pd\n",
    "from sklearn.preprocessing import StandardScaler\n",
    "from sklearn.cluster import KMeans"
   ]
  },
  {
   "cell_type": "code",
   "execution_count": 2,
   "id": "5994aa8b",
   "metadata": {},
   "outputs": [],
   "source": [
    "from sklearn.metrics import silhouette_score"
   ]
  },
  {
   "cell_type": "code",
   "execution_count": 1,
   "id": "493facae",
   "metadata": {},
   "outputs": [
    {
     "name": "stderr",
     "output_type": "stream",
     "text": [
      "c:\\Users\\blais\\Documents\\ML\\venv2\\lib\\site-packages\\tslearn\\bases\\bases.py:15: UserWarning: h5py not installed, hdf5 features will not be supported.\n",
      "Install h5py to use hdf5 features: http://docs.h5py.org/\n",
      "  warn(h5py_msg)\n"
     ]
    }
   ],
   "source": [
    "from tslearn.utils import to_time_series_dataset\n",
    "from tslearn.clustering import TimeSeriesKMeans"
   ]
  },
  {
   "cell_type": "code",
   "execution_count": 15,
   "id": "f9ca7a94",
   "metadata": {},
   "outputs": [],
   "source": [
    "from tslearn.preprocessing import TimeSeriesScalerMeanVariance"
   ]
  },
  {
   "cell_type": "code",
   "execution_count": 2,
   "id": "563044a3",
   "metadata": {},
   "outputs": [],
   "source": [
    "# Generating synthetic time series data\n",
    "np.random.seed(0)\n",
    "time_series_data = np.random.randn(100,50) # 100 time series, each of length 50"
   ]
  },
  {
   "cell_type": "code",
   "execution_count": 4,
   "id": "dfa61487",
   "metadata": {},
   "outputs": [],
   "source": [
    "# Standardizing the data\n",
    "scaler = StandardScaler()\n",
    "time_series_data_scaled = scaler.fit_transform(time_series_data)"
   ]
  },
  {
   "cell_type": "code",
   "execution_count": 5,
   "id": "cd8cdd77",
   "metadata": {},
   "outputs": [],
   "source": [
    "# clustering using k-means\n",
    "kmeans = KMeans(n_clusters=3, random_state=0)\n",
    "labels = kmeans.fit_predict(time_series_data_scaled)"
   ]
  },
  {
   "cell_type": "code",
   "execution_count": 6,
   "id": "b266ce5f",
   "metadata": {},
   "outputs": [
    {
     "name": "stdout",
     "output_type": "stream",
     "text": [
      "[2 1 1 2 2 1 2 0 2 0 2 1 2 0 1 2 0 1 2 2 2 0 0 1 2 0 2 0 1 1 1 1 1 1 1 1 2\n",
      " 2 1 1 1 0 1 2 1 2 2 1 0 2 2 1 1 2 2 1 1 2 1 1 2 0 2 1 1 2 1 1 2 1 2 2 2 2\n",
      " 0 1 2 2 1 2 0 2 1 1 1 2 0 0 1 0 1 1 1 2 0 0 1 2 2 0]\n"
     ]
    }
   ],
   "source": [
    "print(labels)"
   ]
  },
  {
   "cell_type": "code",
   "execution_count": 8,
   "id": "fb53656c",
   "metadata": {},
   "outputs": [
    {
     "data": {
      "text/plain": [
       "0.022768212978088172"
      ]
     },
     "execution_count": 8,
     "metadata": {},
     "output_type": "execute_result"
    }
   ],
   "source": [
    "silhouette_score(time_series_data_scaled, labels)"
   ]
  },
  {
   "cell_type": "markdown",
   "id": "77937844",
   "metadata": {},
   "source": [
    "Example 2 - Subsequence Clustering with K-Means:\n",
    "- Method involves extracting subsequences from the time series data and then applying k-means clustering to these subsequences. This approach captures local patterns within the time series."
   ]
  },
  {
   "cell_type": "code",
   "execution_count": 4,
   "id": "4458059e",
   "metadata": {},
   "outputs": [],
   "source": [
    "# Generating synthetic time series data\n",
    "np.random.seed(0)\n",
    "time_series_data = np.random.randn(10,100)"
   ]
  },
  {
   "cell_type": "code",
   "execution_count": 5,
   "id": "4752d685",
   "metadata": {},
   "outputs": [],
   "source": [
    "# extracting subsequences\n",
    "window_size = 20\n",
    "subsequences = [time_series_data[i,j:j+window_size]\n",
    "                for i in range(time_series_data.shape[0])\n",
    "                for j in range(time_series_data.shape[1] - window_size + 1)]\n",
    "subsequences = np.array(subsequences)"
   ]
  },
  {
   "cell_type": "code",
   "execution_count": 6,
   "id": "1a5bc341",
   "metadata": {},
   "outputs": [
    {
     "data": {
      "text/plain": [
       "(810, 20)"
      ]
     },
     "execution_count": 6,
     "metadata": {},
     "output_type": "execute_result"
    }
   ],
   "source": [
    "subsequences.shape"
   ]
  },
  {
   "cell_type": "code",
   "execution_count": 7,
   "id": "9dece67a",
   "metadata": {},
   "outputs": [],
   "source": [
    "# standardising the subsequences\n",
    "scaler = StandardScaler()\n",
    "subsequences_scaled = scaler.fit_transform(subsequences)"
   ]
  },
  {
   "cell_type": "code",
   "execution_count": 10,
   "id": "5d767825",
   "metadata": {},
   "outputs": [],
   "source": [
    "# clustering using k-means\n",
    "kmeans = KMeans(n_clusters=3, random_state=0)\n",
    "labels = kmeans.fit_predict(subsequences_scaled)"
   ]
  },
  {
   "cell_type": "code",
   "execution_count": 11,
   "id": "4792e522",
   "metadata": {},
   "outputs": [
    {
     "data": {
      "text/plain": [
       "0.03588982681330601"
      ]
     },
     "execution_count": 11,
     "metadata": {},
     "output_type": "execute_result"
    }
   ],
   "source": [
    "silhouette_score(subsequences_scaled,labels)"
   ]
  },
  {
   "cell_type": "markdown",
   "id": "38e2a667",
   "metadata": {},
   "source": [
    "Example 3: Shape Based Clustering with Dynamic Time Warping\n",
    "- This method uses Dynamic Time Warping (DTW) as the distance measure to cluster time series based on their shapes. DTW aligns sequences by warping the time axis to minimize the distance between them\n",
    "Making them robust to time shifts."
   ]
  },
  {
   "cell_type": "code",
   "execution_count": 12,
   "id": "6a174b82",
   "metadata": {},
   "outputs": [],
   "source": [
    "# generating synthetic time series data\n",
    "np.random.seed(0)\n",
    "time_series_data = np.random.randn(20,50) # 20 time series, each of length 50"
   ]
  },
  {
   "cell_type": "code",
   "execution_count": 13,
   "id": "0a665488",
   "metadata": {},
   "outputs": [],
   "source": [
    "# converting to a time series dataset\n",
    "time_series_dataset = to_time_series_dataset(time_series_data)"
   ]
  },
  {
   "cell_type": "code",
   "execution_count": 16,
   "id": "0f83b8cc",
   "metadata": {},
   "outputs": [],
   "source": [
    "# standardizing the data\n",
    "scaler = TimeSeriesScalerMeanVariance()\n",
    "time_series_dataset_scaled = scaler.fit_transform(time_series_dataset)"
   ]
  },
  {
   "cell_type": "code",
   "execution_count": 17,
   "id": "b8e0eddb",
   "metadata": {},
   "outputs": [],
   "source": [
    "# clustering the timeseries using DTW metric\n",
    "model = TimeSeriesKMeans(n_clusters=3, metric=\"dtw\", random_state=0)\n",
    "labels = model.fit_predict(time_series_dataset_scaled)"
   ]
  },
  {
   "cell_type": "code",
   "execution_count": 19,
   "id": "299735eb",
   "metadata": {},
   "outputs": [
    {
     "data": {
      "text/plain": [
       "numpy.ndarray"
      ]
     },
     "execution_count": 19,
     "metadata": {},
     "output_type": "execute_result"
    }
   ],
   "source": [
    "type(time_series_dataset_scaled)"
   ]
  },
  {
   "cell_type": "code",
   "execution_count": 21,
   "id": "698d4232",
   "metadata": {},
   "outputs": [
    {
     "data": {
      "text/plain": [
       "(20, 50, 1)"
      ]
     },
     "execution_count": 21,
     "metadata": {},
     "output_type": "execute_result"
    }
   ],
   "source": [
    "time_series_dataset_scaled.shape"
   ]
  },
  {
   "cell_type": "markdown",
   "id": "589c7029",
   "metadata": {},
   "source": [
    "Example 4: Clustering Time Series data using DTW and evaluating with the silhouette score"
   ]
  },
  {
   "cell_type": "code",
   "execution_count": null,
   "id": "0932d030",
   "metadata": {},
   "outputs": [],
   "source": [
    "# Generate an example time series dataset\n",
    "time = np.arange(0, 10, 0.1)\n",
    "values = np.sin(time)\n",
    "data = np.array"
   ]
  },
  {
   "cell_type": "markdown",
   "id": "aba1fe9e",
   "metadata": {},
   "source": []
  }
 ],
 "metadata": {
  "kernelspec": {
   "display_name": "venv2",
   "language": "python",
   "name": "python3"
  },
  "language_info": {
   "codemirror_mode": {
    "name": "ipython",
    "version": 3
   },
   "file_extension": ".py",
   "mimetype": "text/x-python",
   "name": "python",
   "nbconvert_exporter": "python",
   "pygments_lexer": "ipython3",
   "version": "3.10.9"
  }
 },
 "nbformat": 4,
 "nbformat_minor": 5
}
