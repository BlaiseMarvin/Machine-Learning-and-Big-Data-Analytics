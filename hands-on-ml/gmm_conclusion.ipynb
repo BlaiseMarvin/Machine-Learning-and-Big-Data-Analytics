{
 "cells": [
  {
   "cell_type": "markdown",
   "id": "8840d9b0",
   "metadata": {},
   "source": [
    "**Gaussian Mixtures:**"
   ]
  },
  {
   "cell_type": "code",
   "execution_count": 1,
   "id": "384f6586",
   "metadata": {},
   "outputs": [],
   "source": [
    "from sklearn.mixture import GaussianMixture"
   ]
  },
  {
   "cell_type": "code",
   "execution_count": 2,
   "id": "50db16f5",
   "metadata": {},
   "outputs": [],
   "source": [
    "from sklearn.datasets import make_moons"
   ]
  },
  {
   "cell_type": "code",
   "execution_count": 3,
   "id": "0d66aea8",
   "metadata": {},
   "outputs": [],
   "source": [
    "X, y = make_moons(n_samples=1000, noise = 0.05)"
   ]
  },
  {
   "cell_type": "code",
   "execution_count": 4,
   "id": "ad86f166",
   "metadata": {},
   "outputs": [],
   "source": [
    "gm = GaussianMixture(n_components = 3, n_init=10)"
   ]
  },
  {
   "cell_type": "code",
   "execution_count": 5,
   "id": "b5747667",
   "metadata": {},
   "outputs": [
    {
     "data": {
      "text/plain": [
       "GaussianMixture(n_components=3, n_init=10)"
      ]
     },
     "execution_count": 5,
     "metadata": {},
     "output_type": "execute_result"
    }
   ],
   "source": [
    "gm.fit(X)"
   ]
  },
  {
   "cell_type": "code",
   "execution_count": 8,
   "id": "d4e1c15a",
   "metadata": {},
   "outputs": [
    {
     "data": {
      "text/plain": [
       "array([[ 0.22626414, -0.14123599],\n",
       "       [-0.64624754,  0.571348  ],\n",
       "       [ 0.38002722, -0.26849598],\n",
       "       ...,\n",
       "       [ 0.83039896,  0.60329754],\n",
       "       [ 0.0586621 ,  0.05719435],\n",
       "       [-0.87004248,  0.54046734]])"
      ]
     },
     "execution_count": 8,
     "metadata": {},
     "output_type": "execute_result"
    }
   ],
   "source": [
    "X"
   ]
  },
  {
   "cell_type": "markdown",
   "id": "5b7f6335",
   "metadata": {},
   "source": [
    "Look at the parameters the algorithm estimated:"
   ]
  },
  {
   "cell_type": "code",
   "execution_count": 6,
   "id": "e91f423b",
   "metadata": {},
   "outputs": [
    {
     "data": {
      "text/plain": [
       "array([0.19617243, 0.60748069, 0.19634688])"
      ]
     },
     "execution_count": 6,
     "metadata": {},
     "output_type": "execute_result"
    }
   ],
   "source": [
    "gm.weights_"
   ]
  },
  {
   "cell_type": "code",
   "execution_count": 9,
   "id": "7ce15c79",
   "metadata": {},
   "outputs": [
    {
     "data": {
      "text/plain": [
       "array([[-0.76063112,  0.54961341],\n",
       "       [ 0.50023559,  0.24915564],\n",
       "       [ 1.76019774, -0.0501048 ]])"
      ]
     },
     "execution_count": 9,
     "metadata": {},
     "output_type": "execute_result"
    }
   ],
   "source": [
    "gm.means_"
   ]
  },
  {
   "cell_type": "code",
   "execution_count": 10,
   "id": "d5c52e8f",
   "metadata": {},
   "outputs": [
    {
     "data": {
      "text/plain": [
       "array([[[ 0.04302714,  0.0532754 ],\n",
       "        [ 0.0532754 ,  0.08276945]],\n",
       "\n",
       "       [[ 0.18103231, -0.11479252],\n",
       "        [-0.11479252,  0.29671807]],\n",
       "\n",
       "       [[ 0.04389867,  0.05509486],\n",
       "        [ 0.05509486,  0.08533474]]])"
      ]
     },
     "execution_count": 10,
     "metadata": {},
     "output_type": "execute_result"
    }
   ],
   "source": [
    "gm.covariances_"
   ]
  },
  {
   "cell_type": "code",
   "execution_count": 11,
   "id": "5c1a89af",
   "metadata": {},
   "outputs": [
    {
     "data": {
      "text/plain": [
       "True"
      ]
     },
     "execution_count": 11,
     "metadata": {},
     "output_type": "execute_result"
    }
   ],
   "source": [
    "gm.converged_"
   ]
  },
  {
   "cell_type": "code",
   "execution_count": 12,
   "id": "6002716d",
   "metadata": {},
   "outputs": [
    {
     "data": {
      "text/plain": [
       "20"
      ]
     },
     "execution_count": 12,
     "metadata": {},
     "output_type": "execute_result"
    }
   ],
   "source": [
    "gm.n_iter_"
   ]
  },
  {
   "cell_type": "markdown",
   "id": "c0646e26",
   "metadata": {},
   "source": [
    "Hard and soft clustering:"
   ]
  },
  {
   "cell_type": "code",
   "execution_count": 13,
   "id": "a9bb1523",
   "metadata": {},
   "outputs": [
    {
     "data": {
      "text/plain": [
       "array([1, 0, 1, 1, 0, 1, 2, 2, 0, 1, 1, 1, 2, 1, 1, 0, 1, 1, 2, 1, 2, 2,\n",
       "       0, 1, 2, 1, 1, 1, 1, 1, 2, 1, 0, 2, 1, 1, 1, 0, 1, 0, 1, 1, 0, 1,\n",
       "       1, 1, 1, 1, 1, 0, 1, 1, 0, 0, 0, 0, 1, 1, 1, 1, 1, 1, 0, 1, 1, 1,\n",
       "       1, 0, 1, 1, 2, 1, 0, 1, 1, 2, 0, 1, 1, 1, 1, 1, 1, 1, 0, 1, 1, 1,\n",
       "       1, 0, 1, 1, 0, 2, 0, 0, 0, 2, 1, 1, 1, 1, 1, 0, 1, 1, 0, 0, 0, 1,\n",
       "       1, 1, 1, 2, 0, 1, 2, 2, 1, 2, 1, 1, 1, 2, 2, 0, 0, 1, 1, 1, 1, 1,\n",
       "       1, 0, 0, 0, 1, 1, 2, 1, 1, 0, 1, 1, 1, 1, 1, 1, 1, 1, 1, 2, 1, 1,\n",
       "       1, 1, 0, 1, 2, 2, 0, 1, 1, 0, 2, 2, 1, 2, 1, 0, 0, 0, 0, 1, 0, 1,\n",
       "       1, 1, 1, 1, 1, 0, 2, 1, 2, 0, 1, 0, 0, 1, 2, 1, 1, 0, 0, 2, 0, 1,\n",
       "       2, 1, 1, 0, 2, 1, 1, 2, 0, 1, 0, 2, 0, 1, 1, 2, 1, 1, 2, 2, 1, 1,\n",
       "       1, 1, 1, 1, 1, 2, 1, 1, 1, 2, 1, 1, 2, 1, 1, 0, 1, 1, 1, 1, 1, 1,\n",
       "       0, 0, 1, 1, 2, 2, 0, 1, 2, 1, 0, 2, 2, 2, 1, 0, 1, 1, 1, 2, 1, 1,\n",
       "       0, 1, 1, 1, 0, 2, 1, 2, 1, 1, 2, 2, 1, 2, 1, 2, 1, 1, 1, 1, 1, 0,\n",
       "       1, 1, 1, 0, 0, 1, 0, 0, 1, 1, 2, 1, 1, 0, 1, 2, 1, 2, 1, 2, 1, 1,\n",
       "       0, 1, 2, 2, 1, 1, 1, 1, 1, 0, 1, 1, 1, 0, 2, 0, 0, 2, 1, 1, 1, 1,\n",
       "       2, 2, 1, 1, 1, 2, 1, 1, 2, 1, 0, 1, 1, 1, 1, 1, 1, 1, 2, 1, 1, 1,\n",
       "       1, 2, 0, 0, 1, 0, 2, 2, 2, 1, 2, 1, 1, 0, 1, 1, 1, 1, 1, 1, 2, 1,\n",
       "       1, 0, 1, 0, 1, 1, 1, 1, 2, 1, 1, 1, 1, 1, 1, 1, 1, 1, 2, 1, 1, 0,\n",
       "       1, 1, 1, 1, 1, 1, 1, 1, 1, 0, 1, 1, 1, 1, 2, 1, 1, 2, 1, 1, 1, 1,\n",
       "       1, 1, 1, 2, 1, 1, 1, 1, 2, 1, 2, 1, 1, 1, 2, 0, 2, 1, 1, 2, 1, 1,\n",
       "       1, 1, 1, 2, 0, 1, 2, 0, 1, 1, 1, 0, 0, 1, 0, 1, 1, 2, 1, 1, 1, 0,\n",
       "       1, 1, 1, 0, 1, 1, 1, 0, 1, 2, 1, 1, 1, 1, 2, 0, 1, 1, 0, 0, 1, 1,\n",
       "       1, 1, 1, 1, 2, 1, 2, 1, 1, 1, 1, 1, 1, 1, 1, 1, 1, 0, 0, 1, 1, 0,\n",
       "       2, 1, 0, 2, 2, 1, 1, 1, 1, 1, 2, 1, 1, 0, 0, 2, 1, 1, 1, 0, 2, 1,\n",
       "       1, 2, 0, 0, 0, 1, 1, 0, 2, 2, 1, 1, 0, 1, 0, 0, 1, 0, 2, 1, 1, 1,\n",
       "       1, 2, 1, 2, 1, 0, 1, 1, 0, 1, 1, 2, 1, 1, 0, 0, 1, 1, 1, 1, 1, 2,\n",
       "       1, 1, 2, 0, 0, 2, 1, 0, 0, 1, 1, 0, 0, 1, 1, 1, 1, 1, 2, 2, 1, 0,\n",
       "       1, 2, 1, 1, 2, 2, 2, 1, 0, 2, 1, 2, 1, 2, 1, 1, 1, 1, 1, 1, 1, 1,\n",
       "       1, 1, 1, 0, 1, 0, 1, 1, 1, 1, 2, 1, 1, 1, 1, 2, 1, 2, 0, 0, 1, 2,\n",
       "       0, 0, 2, 1, 0, 2, 1, 2, 1, 1, 1, 1, 1, 1, 0, 1, 1, 1, 1, 2, 1, 1,\n",
       "       1, 1, 2, 1, 2, 1, 1, 1, 1, 1, 1, 0, 1, 0, 0, 1, 1, 1, 2, 2, 1, 0,\n",
       "       1, 2, 2, 1, 0, 0, 2, 1, 1, 1, 0, 0, 1, 1, 1, 1, 1, 0, 2, 1, 1, 2,\n",
       "       1, 1, 0, 0, 1, 1, 1, 1, 1, 1, 1, 1, 0, 2, 0, 1, 1, 1, 1, 1, 1, 2,\n",
       "       2, 2, 1, 1, 1, 0, 1, 0, 0, 1, 1, 2, 1, 1, 1, 1, 1, 1, 1, 1, 1, 1,\n",
       "       1, 0, 1, 0, 2, 1, 1, 1, 1, 2, 2, 2, 0, 1, 2, 1, 2, 0, 1, 1, 1, 0,\n",
       "       0, 2, 1, 1, 1, 1, 1, 2, 1, 1, 1, 1, 2, 1, 2, 1, 1, 1, 0, 2, 2, 2,\n",
       "       1, 0, 1, 1, 2, 1, 1, 0, 2, 1, 2, 1, 0, 1, 1, 1, 0, 0, 1, 1, 1, 2,\n",
       "       2, 2, 2, 2, 1, 1, 0, 1, 0, 1, 1, 1, 1, 1, 2, 1, 1, 0, 1, 1, 2, 1,\n",
       "       1, 1, 2, 0, 1, 1, 1, 0, 1, 1, 1, 2, 1, 1, 1, 1, 2, 1, 1, 1, 0, 2,\n",
       "       1, 1, 1, 0, 2, 1, 2, 1, 1, 1, 1, 1, 2, 0, 1, 2, 1, 1, 1, 2, 2, 1,\n",
       "       2, 1, 2, 0, 1, 0, 0, 0, 1, 0, 0, 0, 2, 1, 1, 2, 1, 2, 0, 1, 2, 1,\n",
       "       0, 2, 2, 2, 2, 0, 1, 1, 1, 2, 0, 1, 2, 0, 0, 1, 1, 2, 1, 2, 0, 1,\n",
       "       1, 2, 1, 1, 1, 1, 0, 1, 1, 1, 0, 1, 1, 1, 2, 2, 0, 1, 0, 1, 0, 2,\n",
       "       1, 2, 1, 2, 1, 0, 1, 1, 1, 1, 0, 0, 1, 0, 2, 0, 1, 0, 1, 1, 2, 1,\n",
       "       0, 1, 1, 0, 1, 2, 1, 2, 0, 1, 2, 1, 1, 1, 1, 0, 0, 1, 0, 1, 1, 1,\n",
       "       1, 1, 2, 0, 1, 1, 2, 1, 1, 0], dtype=int64)"
      ]
     },
     "execution_count": 13,
     "metadata": {},
     "output_type": "execute_result"
    }
   ],
   "source": [
    "gm.predict(X)"
   ]
  },
  {
   "cell_type": "code",
   "execution_count": 14,
   "id": "a79463e2",
   "metadata": {},
   "outputs": [
    {
     "data": {
      "text/plain": [
       "array([[3.87748731e-052, 1.00000000e+000, 1.06476744e-056],\n",
       "       [9.86605511e-001, 1.33944891e-002, 5.16881287e-207],\n",
       "       [7.80096376e-071, 1.00000000e+000, 3.85118025e-040],\n",
       "       ...,\n",
       "       [3.94269072e-060, 1.00000000e+000, 1.26080565e-048],\n",
       "       [1.27552032e-032, 1.00000000e+000, 1.10017348e-081],\n",
       "       [9.97974438e-001, 2.02556209e-003, 7.86024725e-238]])"
      ]
     },
     "execution_count": 14,
     "metadata": {},
     "output_type": "execute_result"
    }
   ],
   "source": [
    "# soft clustering:\n",
    "gm.predict_proba(X)"
   ]
  },
  {
   "cell_type": "code",
   "execution_count": null,
   "id": "48723366",
   "metadata": {},
   "outputs": [],
   "source": []
  }
 ],
 "metadata": {
  "kernelspec": {
   "display_name": "venv2",
   "language": "python",
   "name": "python3"
  },
  "language_info": {
   "codemirror_mode": {
    "name": "ipython",
    "version": 3
   },
   "file_extension": ".py",
   "mimetype": "text/x-python",
   "name": "python",
   "nbconvert_exporter": "python",
   "pygments_lexer": "ipython3",
   "version": "3.10.9"
  }
 },
 "nbformat": 4,
 "nbformat_minor": 5
}
