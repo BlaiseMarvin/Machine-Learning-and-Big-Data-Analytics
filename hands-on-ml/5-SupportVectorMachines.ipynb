{
 "cells": [
  {
   "cell_type": "markdown",
   "id": "803c1bae",
   "metadata": {},
   "source": [
    "**Support Vector Machines:**\n",
    "- You can think of SVM Classifiers as fitting the widest possible street between the classses. (Large margin classification)\n",
    "- SVMs are sensitive to feature scales - best to apply scaling - Standard Scaling"
   ]
  },
  {
   "cell_type": "markdown",
   "id": "cfd2172f",
   "metadata": {},
   "source": [
    "**Soft Margin Classification:**\n",
    "- Hard margin classification doesn't generalize well\n",
    "- More flexible model - objective is to find a good balance between keeping the street (margin) as large as possible and limiting the margin violations (i.e. instances that end up in the middle of the street or even on the wrong side) - soft margin classification."
   ]
  },
  {
   "cell_type": "markdown",
   "id": "68fba400",
   "metadata": {},
   "source": [
    "Regularization on SVMs affects this - size of the street and margin violations."
   ]
  },
  {
   "cell_type": "code",
   "execution_count": null,
   "id": "68276a46",
   "metadata": {},
   "outputs": [],
   "source": []
  }
 ],
 "metadata": {
  "kernelspec": {
   "display_name": "venv2",
   "language": "python",
   "name": "python3"
  },
  "language_info": {
   "name": "python",
   "version": "3.10.9"
  }
 },
 "nbformat": 4,
 "nbformat_minor": 5
}
