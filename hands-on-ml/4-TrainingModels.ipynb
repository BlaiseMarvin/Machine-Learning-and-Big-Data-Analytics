{
 "cells": [
  {
   "cell_type": "markdown",
   "id": "147dc555",
   "metadata": {},
   "source": [
    "**Training Models:**\n",
    "- Linear Regression:"
   ]
  },
  {
   "cell_type": "code",
   "execution_count": 1,
   "id": "63910b15",
   "metadata": {},
   "outputs": [],
   "source": [
    "import numpy as np"
   ]
  },
  {
   "cell_type": "code",
   "execution_count": 2,
   "id": "65f7febb",
   "metadata": {},
   "outputs": [],
   "source": [
    "from pyspark.sql import SparkSession\n",
    "import pyspark.sql.functions as f\n",
    "import os, sys\n",
    "\n",
    "os.environ['PYSPARK_PYTHON'] = sys.executable\n",
    "os.environ['PYSPARK_DRIVER_PYTHON'] = sys.executable"
   ]
  },
  {
   "cell_type": "code",
   "execution_count": 3,
   "id": "f1da0dba",
   "metadata": {},
   "outputs": [
    {
     "data": {
      "text/plain": [
       "<pyspark.conf.SparkConf at 0x1f2e40f99c0>"
      ]
     },
     "execution_count": 3,
     "metadata": {},
     "output_type": "execute_result"
    }
   ],
   "source": [
    "from pyspark import SparkConf\n",
    "conf = SparkConf()\n",
    "conf.set(\"spark.app.name\",\"models\")\n",
    "conf.set(\"spark.master\",\"local[*]\")\n",
    "conf.set(\"spark.driver.memory\",\"8g\")"
   ]
  },
  {
   "cell_type": "code",
   "execution_count": 4,
   "id": "0ebcb422",
   "metadata": {},
   "outputs": [],
   "source": [
    "spark = SparkSession.builder\\\n",
    "                    .config(conf=conf)\\\n",
    "                    .getOrCreate()"
   ]
  },
  {
   "cell_type": "code",
   "execution_count": 5,
   "id": "fa9bf31d",
   "metadata": {},
   "outputs": [],
   "source": [
    "np.random.seed(42)\n",
    "\n",
    "m = 100 # number of instances\n",
    "X = 2 * np.random.rand(m,1) # column vector\n",
    "y = 4 + 3*X + np.random.randn(m,1)"
   ]
  },
  {
   "cell_type": "code",
   "execution_count": 6,
   "id": "0b68754e",
   "metadata": {},
   "outputs": [],
   "source": [
    "import matplotlib.pyplot as plt"
   ]
  },
  {
   "cell_type": "code",
   "execution_count": 7,
   "id": "660c9b39",
   "metadata": {},
   "outputs": [
    {
     "data": {
      "image/png": "[encoded data removed]",
      "text/plain": [
       "<Figure size 640x480 with 1 Axes>"
      ]
     },
     "metadata": {},
     "output_type": "display_data"
    }
   ],
   "source": [
    "plt.scatter(x=X, y=y)\n",
    "plt.show()"
   ]
  },
  {
   "cell_type": "markdown",
   "id": "b899e648",
   "metadata": {},
   "source": [
    "Now, let's compute the feature vector theta using the closed form solution (Normal equation). We will use the inv() function from NumPy's linear algebra module (np.linalg)"
   ]
  },
  {
   "cell_type": "code",
   "execution_count": 8,
   "id": "54a99921",
   "metadata": {},
   "outputs": [],
   "source": [
    "from sklearn.linear_model import LinearRegression"
   ]
  },
  {
   "cell_type": "code",
   "execution_count": 9,
   "id": "cbe99ab4",
   "metadata": {},
   "outputs": [
    {
     "data": {
      "text/plain": [
       "LinearRegression()"
      ]
     },
     "execution_count": 9,
     "metadata": {},
     "output_type": "execute_result"
    }
   ],
   "source": [
    "lin_reg = LinearRegression()\n",
    "lin_reg.fit(X,y)"
   ]
  },
  {
   "cell_type": "code",
   "execution_count": 10,
   "id": "cfea576e",
   "metadata": {},
   "outputs": [
    {
     "data": {
      "text/plain": [
       "(array([4.21509616]), array([[2.77011339]]))"
      ]
     },
     "execution_count": 10,
     "metadata": {},
     "output_type": "execute_result"
    }
   ],
   "source": [
    "lin_reg.intercept_, lin_reg.coef_"
   ]
  },
  {
   "cell_type": "code",
   "execution_count": 11,
   "id": "e767a790",
   "metadata": {},
   "outputs": [],
   "source": [
    "X_new = np.array([[0], [2]])"
   ]
  },
  {
   "cell_type": "code",
   "execution_count": 12,
   "id": "5984890f",
   "metadata": {},
   "outputs": [
    {
     "data": {
      "text/plain": [
       "(2, 1)"
      ]
     },
     "execution_count": 12,
     "metadata": {},
     "output_type": "execute_result"
    }
   ],
   "source": [
    "X_new.shape"
   ]
  },
  {
   "cell_type": "code",
   "execution_count": 13,
   "id": "99c6d7ed",
   "metadata": {},
   "outputs": [
    {
     "data": {
      "text/plain": [
       "array([[4.21509616],\n",
       "       [9.75532293]])"
      ]
     },
     "execution_count": 13,
     "metadata": {},
     "output_type": "execute_result"
    }
   ],
   "source": [
    "lin_reg.predict(X_new)"
   ]
  },
  {
   "cell_type": "code",
   "execution_count": 14,
   "id": "5d490bec",
   "metadata": {},
   "outputs": [],
   "source": [
    "from pyspark.ml.regression import LinearRegression\n",
    "from pyspark.ml import Pipeline\n",
    "from pyspark.ml.feature import VectorAssembler"
   ]
  },
  {
   "cell_type": "code",
   "execution_count": 15,
   "id": "6c9fe45c",
   "metadata": {},
   "outputs": [],
   "source": [
    "from pyspark.sql.types import StructType, StructField, DoubleType"
   ]
  },
  {
   "cell_type": "code",
   "execution_count": 16,
   "id": "c8def8a5",
   "metadata": {},
   "outputs": [],
   "source": [
    "schema = StructType([\n",
    "    StructField(\"features\",DoubleType()),\n",
    "    StructField(\"labels\",DoubleType())\n",
    "])"
   ]
  },
  {
   "cell_type": "code",
   "execution_count": 17,
   "id": "1c08dd70",
   "metadata": {},
   "outputs": [],
   "source": [
    "training_data = np.concatenate((X,y), axis=1)"
   ]
  },
  {
   "cell_type": "code",
   "execution_count": 18,
   "id": "a5d636f3",
   "metadata": {},
   "outputs": [],
   "source": [
    "data = spark.createDataFrame(training_data, schema=schema)"
   ]
  },
  {
   "cell_type": "code",
   "execution_count": 19,
   "id": "aa6e5715",
   "metadata": {},
   "outputs": [
    {
     "name": "stdout",
     "output_type": "stream",
     "text": [
      "+--------------------+-----------------+\n",
      "|            features|           labels|\n",
      "+--------------------+-----------------+\n",
      "|   0.749080237694725|6.334287781322346|\n",
      "|  1.9014286128198323| 9.40527848799363|\n",
      "|  1.4639878836228102|8.483724427403931|\n",
      "|  1.1973169683940732|5.604381990581327|\n",
      "| 0.31203728088487304|4.716439954817107|\n",
      "|  0.3119890406724053|5.293079693528962|\n",
      "| 0.11616722433639892|5.826395717750713|\n",
      "|  1.7323522915498704|8.678786656375964|\n",
      "|  1.2022300234864176|6.798196467566066|\n",
      "|   1.416145155592091|7.746678423191737|\n",
      "|0.041168988591604894|5.038909083476889|\n",
      "|  1.9398197043239886|10.14821022263165|\n",
      "|  1.6648852816008435|8.464895641035492|\n",
      "|  0.4246782213565523|5.787302097183012|\n",
      "| 0.36364993441420124|5.188027352590644|\n",
      "| 0.36680901970686763|6.069072049653492|\n",
      "|  0.6084844859190754|5.123400363879874|\n",
      "|  1.0495128632644757|6.820876443195659|\n",
      "|  0.8638900372842315|6.199561958720537|\n",
      "|  0.5824582803960838|4.283859893056133|\n",
      "+--------------------+-----------------+\n",
      "only showing top 20 rows\n",
      "\n"
     ]
    }
   ],
   "source": [
    "data.show()"
   ]
  },
  {
   "cell_type": "code",
   "execution_count": 20,
   "id": "8218d87a",
   "metadata": {},
   "outputs": [],
   "source": [
    "assembler = VectorAssembler(inputCols=['features'],outputCol='featureVector')\n",
    "regression_model = LinearRegression(featuresCol='featureVector',labelCol='labels',predictionCol='prediction')\n",
    "pipeline = Pipeline(stages=[assembler,regression_model])"
   ]
  },
  {
   "cell_type": "code",
   "execution_count": 21,
   "id": "c40f0e1b",
   "metadata": {},
   "outputs": [],
   "source": [
    "pipeline_model = pipeline.fit(data)"
   ]
  },
  {
   "cell_type": "code",
   "execution_count": 22,
   "id": "208cc543",
   "metadata": {},
   "outputs": [
    {
     "data": {
      "text/plain": [
       "DenseVector([2.7701])"
      ]
     },
     "execution_count": 22,
     "metadata": {},
     "output_type": "execute_result"
    }
   ],
   "source": [
    "pipeline_model.stages[-1].coefficients"
   ]
  },
  {
   "cell_type": "code",
   "execution_count": 23,
   "id": "ad8d3bc8",
   "metadata": {},
   "outputs": [
    {
     "data": {
      "text/plain": [
       "4.215096157546755"
      ]
     },
     "execution_count": 23,
     "metadata": {},
     "output_type": "execute_result"
    }
   ],
   "source": [
    "pipeline_model.stages[-1].intercept"
   ]
  },
  {
   "cell_type": "code",
   "execution_count": 24,
   "id": "10e60b70",
   "metadata": {},
   "outputs": [],
   "source": [
    "data_new = spark.createDataFrame(X_new).withColumnRenamed(\"value\",\"features\")"
   ]
  },
  {
   "cell_type": "code",
   "execution_count": 25,
   "id": "d12c8b5d",
   "metadata": {},
   "outputs": [
    {
     "name": "stdout",
     "output_type": "stream",
     "text": [
      "+--------+-------------+-----------------+\n",
      "|features|featureVector|       prediction|\n",
      "+--------+-------------+-----------------+\n",
      "|       0|        [0.0]|4.215096157546755|\n",
      "|       2|        [2.0]|9.755322930423713|\n",
      "+--------+-------------+-----------------+\n",
      "\n"
     ]
    }
   ],
   "source": [
    "pipeline_model.transform(data_new).show()"
   ]
  },
  {
   "cell_type": "markdown",
   "id": "ab128af7",
   "metadata": {},
   "source": [
    "**Polynomial Regression:**\n",
    "- You can use a linear model to fit nonlinear data. Way to do this is to add powers of each feature as new features, then train a linear model on this extended set of features. - Polynomial Regression"
   ]
  },
  {
   "cell_type": "code",
   "execution_count": 26,
   "id": "6b6f8f18",
   "metadata": {},
   "outputs": [],
   "source": [
    "np.random.seed(42)"
   ]
  },
  {
   "cell_type": "code",
   "execution_count": 27,
   "id": "556e9ae5",
   "metadata": {},
   "outputs": [],
   "source": [
    "m = 100\n",
    "X = 6*np.random.rand(m,1) - 3\n",
    "y = 0.5 * X ** 2 + X + 2 + np.random.randn(m, 1)"
   ]
  },
  {
   "cell_type": "code",
   "execution_count": 28,
   "id": "bfb2784e",
   "metadata": {},
   "outputs": [
    {
     "data": {
      "image/png": "[encoded data removed]",
      "text/plain": [
       "<Figure size 640x480 with 1 Axes>"
      ]
     },
     "metadata": {},
     "output_type": "display_data"
    }
   ],
   "source": [
    "plt.scatter(x = X, y=y)\n",
    "plt.show()"
   ]
  },
  {
   "cell_type": "markdown",
   "id": "61ebb798",
   "metadata": {},
   "source": [
    "Straight line won't fit this data properly\n",
    "- use scikit learn's polynomial features calss to transform the training data - adding the square of each feature in the training set as a new feature."
   ]
  },
  {
   "cell_type": "code",
   "execution_count": 29,
   "id": "982dbcc0",
   "metadata": {},
   "outputs": [],
   "source": [
    "from sklearn.preprocessing import PolynomialFeatures"
   ]
  },
  {
   "cell_type": "code",
   "execution_count": 34,
   "id": "d985ed0c",
   "metadata": {},
   "outputs": [],
   "source": [
    "poly_features = PolynomialFeatures(degree=2,include_bias=False)"
   ]
  },
  {
   "cell_type": "code",
   "execution_count": 35,
   "id": "20a6f90d",
   "metadata": {},
   "outputs": [],
   "source": [
    "X_poly = poly_features.fit_transform(X)"
   ]
  },
  {
   "cell_type": "code",
   "execution_count": 36,
   "id": "c8af938d",
   "metadata": {},
   "outputs": [
    {
     "data": {
      "text/plain": [
       "array([-0.75275929])"
      ]
     },
     "execution_count": 36,
     "metadata": {},
     "output_type": "execute_result"
    }
   ],
   "source": [
    "X[0]"
   ]
  },
  {
   "cell_type": "code",
   "execution_count": 37,
   "id": "879b0bf7",
   "metadata": {},
   "outputs": [
    {
     "data": {
      "text/plain": [
       "array([-0.75275929,  0.56664654])"
      ]
     },
     "execution_count": 37,
     "metadata": {},
     "output_type": "execute_result"
    }
   ],
   "source": [
    "X_poly[0]"
   ]
  },
  {
   "cell_type": "code",
   "execution_count": 38,
   "id": "807c2a0f",
   "metadata": {},
   "outputs": [],
   "source": [
    "from sklearn.linear_model import LinearRegression as sk_LinearRegression"
   ]
  },
  {
   "cell_type": "code",
   "execution_count": 39,
   "id": "495ab083",
   "metadata": {},
   "outputs": [
    {
     "data": {
      "text/plain": [
       "LinearRegression()"
      ]
     },
     "execution_count": 39,
     "metadata": {},
     "output_type": "execute_result"
    }
   ],
   "source": [
    "lin_reg = sk_LinearRegression()\n",
    "lin_reg.fit(X_poly,y)"
   ]
  },
  {
   "cell_type": "code",
   "execution_count": 40,
   "id": "580417d5",
   "metadata": {},
   "outputs": [
    {
     "data": {
      "text/plain": [
       "(array([1.78134581]), array([[0.93366893, 0.56456263]]))"
      ]
     },
     "execution_count": 40,
     "metadata": {},
     "output_type": "execute_result"
    }
   ],
   "source": [
    "lin_reg.intercept_, lin_reg.coef_"
   ]
  },
  {
   "cell_type": "code",
   "execution_count": 42,
   "id": "6fddaba6",
   "metadata": {},
   "outputs": [],
   "source": [
    "y_pred = lin_reg.predict(X_poly)"
   ]
  },
  {
   "cell_type": "code",
   "execution_count": 43,
   "id": "778ae086",
   "metadata": {},
   "outputs": [
    {
     "data": {
      "text/plain": [
       "(100, 1)"
      ]
     },
     "execution_count": 43,
     "metadata": {},
     "output_type": "execute_result"
    }
   ],
   "source": [
    "X.shape"
   ]
  },
  {
   "cell_type": "code",
   "execution_count": 44,
   "id": "3a8905f0",
   "metadata": {},
   "outputs": [
    {
     "data": {
      "text/plain": [
       "(100, 1)"
      ]
     },
     "execution_count": 44,
     "metadata": {},
     "output_type": "execute_result"
    }
   ],
   "source": [
    "y.shape"
   ]
  },
  {
   "cell_type": "code",
   "execution_count": 45,
   "id": "1d0044b9",
   "metadata": {},
   "outputs": [
    {
     "data": {
      "text/plain": [
       "(100, 1)"
      ]
     },
     "execution_count": 45,
     "metadata": {},
     "output_type": "execute_result"
    }
   ],
   "source": [
    "y_pred.shape"
   ]
  },
  {
   "cell_type": "markdown",
   "id": "9deef5ad",
   "metadata": {},
   "source": [
    "Polynomial Features in Pyspark"
   ]
  },
  {
   "cell_type": "code",
   "execution_count": 57,
   "id": "adbc52b7",
   "metadata": {},
   "outputs": [],
   "source": [
    "from pyspark.ml.feature import PolynomialExpansion"
   ]
  },
  {
   "cell_type": "code",
   "execution_count": 58,
   "id": "4381d852",
   "metadata": {},
   "outputs": [],
   "source": [
    "import pandas as pd"
   ]
  },
  {
   "cell_type": "code",
   "execution_count": 64,
   "id": "3ebf9eed",
   "metadata": {},
   "outputs": [],
   "source": [
    "schema = StructType([\n",
    "    StructField('features',DoubleType()),\n",
    "    StructField('labels',DoubleType())\n",
    "])"
   ]
  },
  {
   "cell_type": "code",
   "execution_count": 65,
   "id": "7d6cea8f",
   "metadata": {},
   "outputs": [],
   "source": [
    "poly_data = spark.createDataFrame(np.concatenate((X,y),axis=1), schema=schema)"
   ]
  },
  {
   "cell_type": "code",
   "execution_count": 66,
   "id": "ca18b1c5",
   "metadata": {},
   "outputs": [
    {
     "name": "stdout",
     "output_type": "stream",
     "text": [
      "+-------------------+-------------------+\n",
      "|           features|             labels|\n",
      "+-------------------+-------------------+\n",
      "| -0.752759286915825| 1.6176110533413568|\n",
      "|  2.704285838459497|  8.061859436039922|\n",
      "| 1.3919636508684308|  4.452505830073418|\n",
      "| 0.5919509051822196| 0.7795849276543514|\n",
      "|-2.0638881573453807|  1.846257117832363|\n",
      "|-2.0640328779827843|   2.42319555422591|\n",
      "|-2.6514983269908035|  4.341617406768227|\n",
      "| 2.1970568746496113|  6.092316111598523|\n",
      "|  0.606690070459253| 1.9822328883629923|\n",
      "| 1.2484354667762734|  3.525973980544183|\n",
      "|-2.8764930342251853|  4.176015171449896|\n",
      "|  2.819459112971966|  9.122885067491984|\n",
      "|   1.99465584480253|  5.454221610637939|\n",
      "| -1.725965335930343|  2.276780267599584|\n",
      "|-1.9090501967573963| 2.0102636794603708|\n",
      "| -1.899572940879397| 2.8732607285140928|\n",
      "|-1.1745465422427737| 0.8131801538271017|\n",
      "|0.14853858979342682| 1.8319082995245686|\n",
      "|-0.4083298881473052| 1.2829286074977326|\n",
      "|-1.2526251588117485|0.06839478730021198|\n",
      "+-------------------+-------------------+\n",
      "only showing top 20 rows\n",
      "\n"
     ]
    }
   ],
   "source": [
    "poly_data.show()"
   ]
  },
  {
   "cell_type": "code",
   "execution_count": 69,
   "id": "4d0982ea",
   "metadata": {},
   "outputs": [],
   "source": [
    "from pyspark.ml.regression import LinearRegression as sp_LinearRegression"
   ]
  },
  {
   "cell_type": "code",
   "execution_count": 70,
   "id": "18800e05",
   "metadata": {},
   "outputs": [],
   "source": [
    "assembler = VectorAssembler(inputCols=['features'],outputCol='featureVector')\n",
    "poly_expansion = PolynomialExpansion(degree=2,inputCol='featureVector',outputCol='polyfeatureVector')\n",
    "linreg = sp_LinearRegression(featuresCol='polyfeatureVector',labelCol='labels')\n",
    "pipeline = Pipeline(stages=[assembler,poly_expansion,linreg])"
   ]
  },
  {
   "cell_type": "code",
   "execution_count": 71,
   "id": "c9f7dfe7",
   "metadata": {},
   "outputs": [],
   "source": [
    "pipeline_model = pipeline.fit(poly_data)"
   ]
  },
  {
   "cell_type": "code",
   "execution_count": 72,
   "id": "ada8e49d",
   "metadata": {},
   "outputs": [
    {
     "data": {
      "text/plain": [
       "(1.781345812029148, DenseVector([0.9337, 0.5646]))"
      ]
     },
     "execution_count": 72,
     "metadata": {},
     "output_type": "execute_result"
    }
   ],
   "source": [
    "pipeline_model.stages[-1].intercept,pipeline_model.stages[-1].coefficients"
   ]
  },
  {
   "cell_type": "markdown",
   "id": "240d273a",
   "metadata": {},
   "source": [
    "**Regularized Linear Models:**"
   ]
  },
  {
   "cell_type": "markdown",
   "id": "87379045",
   "metadata": {},
   "source": [
    "Can either use Lasso (L1 Regularization) - meaning if highly regularized some weights can go to zero, or Ridge (L2 Regularization) - weights don't go to zero completely. Or try out Elastic Net Regularization - a combination of both Lasso and Ridge (L1 and L2) - Assigns weights on both of them. In pyspark the elastic net hyperparameter ranges from 0 to 1 - and at 0 => you have L2 regularization with L1 set to 0, and at 1 => L1 regularization - anything else is a mixture of both. \n",
    "\n",
    "L1 Regularization should be used with caution as some features might depend on each other and taking one out completely could result in bad results"
   ]
  },
  {
   "cell_type": "markdown",
   "id": "acb85793",
   "metadata": {},
   "source": [
    "Remember L1 Regularization - adds the weight component (L1 Norm) to the cost function whereas L2 Regularization adds the L2 Norm of the weights to the cost function. "
   ]
  },
  {
   "cell_type": "markdown",
   "id": "a8642790",
   "metadata": {},
   "source": [
    "**Decision Boundaries:**\n"
   ]
  },
  {
   "cell_type": "markdown",
   "id": "69fbbcdb",
   "metadata": {},
   "source": [
    "Using Logistic Regression - let's try to build a classifier to detect some type of plant (Iris Virginica) - based only on the petal width feature. "
   ]
  },
  {
   "cell_type": "code",
   "execution_count": 73,
   "id": "5742a284",
   "metadata": {},
   "outputs": [],
   "source": [
    "from sklearn.datasets import load_iris"
   ]
  },
  {
   "cell_type": "code",
   "execution_count": 74,
   "id": "9b63847a",
   "metadata": {},
   "outputs": [],
   "source": [
    "iris = load_iris(as_frame=True)"
   ]
  },
  {
   "cell_type": "code",
   "execution_count": 75,
   "id": "a3603547",
   "metadata": {},
   "outputs": [
    {
     "data": {
      "text/plain": [
       "['data',\n",
       " 'target',\n",
       " 'frame',\n",
       " 'target_names',\n",
       " 'DESCR',\n",
       " 'feature_names',\n",
       " 'filename',\n",
       " 'data_module']"
      ]
     },
     "execution_count": 75,
     "metadata": {},
     "output_type": "execute_result"
    }
   ],
   "source": [
    "list(iris)"
   ]
  },
  {
   "cell_type": "code",
   "execution_count": 76,
   "id": "24b899b9",
   "metadata": {},
   "outputs": [
    {
     "data": {
      "text/html": [
       "<div>\n",
       "<style scoped>\n",
       "    .dataframe tbody tr th:only-of-type {\n",
       "        vertical-align: middle;\n",
       "    }\n",
       "\n",
       "    .dataframe tbody tr th {\n",
       "        vertical-align: top;\n",
       "    }\n",
       "\n",
       "    .dataframe thead th {\n",
       "        text-align: right;\n",
       "    }\n",
       "</style>\n",
       "<table border=\"1\" class=\"dataframe\">\n",
       "  <thead>\n",
       "    <tr style=\"text-align: right;\">\n",
       "      <th></th>\n",
       "      <th>sepal length (cm)</th>\n",
       "      <th>sepal width (cm)</th>\n",
       "      <th>petal length (cm)</th>\n",
       "      <th>petal width (cm)</th>\n",
       "    </tr>\n",
       "  </thead>\n",
       "  <tbody>\n",
       "    <tr>\n",
       "      <th>0</th>\n",
       "      <td>5.1</td>\n",
       "      <td>3.5</td>\n",
       "      <td>1.4</td>\n",
       "      <td>0.2</td>\n",
       "    </tr>\n",
       "    <tr>\n",
       "      <th>1</th>\n",
       "      <td>4.9</td>\n",
       "      <td>3.0</td>\n",
       "      <td>1.4</td>\n",
       "      <td>0.2</td>\n",
       "    </tr>\n",
       "    <tr>\n",
       "      <th>2</th>\n",
       "      <td>4.7</td>\n",
       "      <td>3.2</td>\n",
       "      <td>1.3</td>\n",
       "      <td>0.2</td>\n",
       "    </tr>\n",
       "  </tbody>\n",
       "</table>\n",
       "</div>"
      ],
      "text/plain": [
       "   sepal length (cm)  sepal width (cm)  petal length (cm)  petal width (cm)\n",
       "0                5.1               3.5                1.4               0.2\n",
       "1                4.9               3.0                1.4               0.2\n",
       "2                4.7               3.2                1.3               0.2"
      ]
     },
     "execution_count": 76,
     "metadata": {},
     "output_type": "execute_result"
    }
   ],
   "source": [
    "iris.data.head(3)"
   ]
  },
  {
   "cell_type": "code",
   "execution_count": 77,
   "id": "a106bdb0",
   "metadata": {},
   "outputs": [
    {
     "data": {
      "text/plain": [
       "0    0\n",
       "1    0\n",
       "2    0\n",
       "Name: target, dtype: int32"
      ]
     },
     "execution_count": 77,
     "metadata": {},
     "output_type": "execute_result"
    }
   ],
   "source": [
    "iris.target.head(3)"
   ]
  },
  {
   "cell_type": "code",
   "execution_count": 78,
   "id": "ddd87d0b",
   "metadata": {},
   "outputs": [
    {
     "data": {
      "text/plain": [
       "array(['setosa', 'versicolor', 'virginica'], dtype='<U10')"
      ]
     },
     "execution_count": 78,
     "metadata": {},
     "output_type": "execute_result"
    }
   ],
   "source": [
    "iris.target_names"
   ]
  },
  {
   "cell_type": "markdown",
   "id": "76c5f7a9",
   "metadata": {},
   "source": [
    "Next we split the data and train a logistic regression model on the training set:"
   ]
  },
  {
   "cell_type": "code",
   "execution_count": 79,
   "id": "57348b1d",
   "metadata": {},
   "outputs": [],
   "source": [
    "from sklearn.linear_model import LogisticRegression\n",
    "from sklearn.model_selection import train_test_split"
   ]
  },
  {
   "cell_type": "code",
   "execution_count": 80,
   "id": "d1faa463",
   "metadata": {},
   "outputs": [],
   "source": [
    "X = iris.data[[\"petal width (cm)\"]].values\n",
    "y = iris.target_names[iris.target] == 'virginica'"
   ]
  },
  {
   "cell_type": "code",
   "execution_count": 81,
   "id": "9f110afa",
   "metadata": {},
   "outputs": [],
   "source": [
    "X_train, X_test, y_train, y_test = train_test_split(X,y,random_state=42)"
   ]
  },
  {
   "cell_type": "code",
   "execution_count": 82,
   "id": "78583737",
   "metadata": {},
   "outputs": [
    {
     "data": {
      "text/plain": [
       "LogisticRegression(random_state=42)"
      ]
     },
     "execution_count": 82,
     "metadata": {},
     "output_type": "execute_result"
    }
   ],
   "source": [
    "log_reg = LogisticRegression(random_state=42)\n",
    "log_reg.fit(X_train,y_train)"
   ]
  },
  {
   "cell_type": "markdown",
   "id": "bd1cf7fc",
   "metadata": {},
   "source": [
    "Model's estimated probabilities - for flowers with petal widths varying from 0cm to 3cm"
   ]
  },
  {
   "cell_type": "code",
   "execution_count": null,
   "id": "4ce83a6b",
   "metadata": {},
   "outputs": [],
   "source": [
    "X_new = np.linspace(0,3,1000).reshape(-1,1)\n",
    "y_proba = log_reg.predict_proba(X_new)\n"
   ]
  },
  {
   "cell_type": "markdown",
   "id": "f87ed6a9",
   "metadata": {},
   "source": [
    "For multiclass prediction - model uses softmax not base logistic regression. And now that it is multiclass classification loss shifts from logloss(binary classification) to cross entropy - same as log loss but adapted for multiclass classification. Same idea - cross entropy penalizes the model when it estimates a low probability for a target class. Cross entropy is frequently used to measure how well a set of estimated class probabilities matches the target class."
   ]
  },
  {
   "cell_type": "markdown",
   "id": "e44669ec",
   "metadata": {},
   "source": [
    "Sklearn - automatically picks up the right loss and algo depending on the targets specified"
   ]
  },
  {
   "cell_type": "code",
   "execution_count": 83,
   "id": "47383f8c",
   "metadata": {},
   "outputs": [],
   "source": [
    "X = iris.data[[\"petal length (cm)\", \"petal width (cm)\"]].values\n",
    "y = iris[\"target\"]\n",
    "X_train, X_test, y_train, y_test = train_test_split(X,y,random_state=42)"
   ]
  },
  {
   "cell_type": "code",
   "execution_count": 84,
   "id": "7e5265f4",
   "metadata": {},
   "outputs": [
    {
     "data": {
      "text/plain": [
       "LogisticRegression(C=30, random_state=42)"
      ]
     },
     "execution_count": 84,
     "metadata": {},
     "output_type": "execute_result"
    }
   ],
   "source": [
    "softmax_reg = LogisticRegression(C = 30, random_state=42)\n",
    "softmax_reg.fit(X_train, y_train)"
   ]
  },
  {
   "cell_type": "code",
   "execution_count": 85,
   "id": "89ad8b8a",
   "metadata": {},
   "outputs": [
    {
     "data": {
      "text/plain": [
       "array([2])"
      ]
     },
     "execution_count": 85,
     "metadata": {},
     "output_type": "execute_result"
    }
   ],
   "source": [
    "softmax_reg.predict([[5,2]])"
   ]
  },
  {
   "cell_type": "code",
   "execution_count": 88,
   "id": "c950afed",
   "metadata": {},
   "outputs": [
    {
     "data": {
      "text/plain": [
       "array([[0.  , 0.04, 0.96]])"
      ]
     },
     "execution_count": 88,
     "metadata": {},
     "output_type": "execute_result"
    }
   ],
   "source": [
    "softmax_reg.predict_proba([[5,2]]).round(2)"
   ]
  },
  {
   "cell_type": "markdown",
   "id": "689eb759",
   "metadata": {},
   "source": [
    "Pyspark - Logistic Regression:"
   ]
  },
  {
   "cell_type": "code",
   "execution_count": 89,
   "id": "d991ba44",
   "metadata": {},
   "outputs": [],
   "source": [
    "from pyspark.ml.classification import LogisticRegression as sp_LogisticRegression"
   ]
  },
  {
   "cell_type": "code",
   "execution_count": null,
   "id": "f8d9904b",
   "metadata": {},
   "outputs": [
    {
     "data": {
      "text/plain": [
       "(112,)"
      ]
     },
     "execution_count": 96,
     "metadata": {},
     "output_type": "execute_result"
    }
   ],
   "source": [
    "y_train.values"
   ]
  },
  {
   "cell_type": "code",
   "execution_count": 97,
   "id": "e1bb6d18",
   "metadata": {},
   "outputs": [],
   "source": [
    "y_train = y_train.values.reshape(-1,1)"
   ]
  },
  {
   "cell_type": "code",
   "execution_count": 93,
   "id": "f8a6c29c",
   "metadata": {},
   "outputs": [
    {
     "data": {
      "text/plain": [
       "((112, 2), (112,))"
      ]
     },
     "execution_count": 93,
     "metadata": {},
     "output_type": "execute_result"
    }
   ],
   "source": [
    "X_train.shape,y_train.shape"
   ]
  },
  {
   "cell_type": "code",
   "execution_count": 101,
   "id": "48c8d37b",
   "metadata": {},
   "outputs": [],
   "source": [
    "data = np.concatenate((X_train,y_train),axis=1)"
   ]
  },
  {
   "cell_type": "code",
   "execution_count": 102,
   "id": "2846cefd",
   "metadata": {},
   "outputs": [
    {
     "data": {
      "text/plain": [
       "array([[1.4, 0.2, 0. ],\n",
       "       [1.5, 0.1, 0. ],\n",
       "       [5.1, 1.9, 2. ],\n",
       "       [4.5, 1.6, 1. ],\n",
       "       [4.7, 1.5, 1. ],\n",
       "       [1.3, 0.4, 0. ],\n",
       "       [1.5, 0.2, 0. ],\n",
       "       [3.7, 1. , 1. ],\n",
       "       [5.1, 1.5, 2. ],\n",
       "       [5.5, 1.8, 2. ],\n",
       "       [4.4, 1.4, 1. ],\n",
       "       [6.1, 2.5, 2. ],\n",
       "       [4.2, 1.3, 1. ],\n",
       "       [6.6, 2.1, 2. ],\n",
       "       [4.5, 1.5, 1. ],\n",
       "       [1.4, 0.2, 0. ],\n",
       "       [6.7, 2. , 2. ],\n",
       "       [4.1, 1. , 1. ],\n",
       "       [1.4, 0.2, 0. ],\n",
       "       [1.3, 0.3, 0. ],\n",
       "       [1.9, 0.4, 0. ],\n",
       "       [3.5, 1. , 1. ],\n",
       "       [4.9, 1.8, 2. ],\n",
       "       [1.9, 0.2, 0. ],\n",
       "       [1.6, 0.2, 0. ],\n",
       "       [1.7, 0.5, 0. ],\n",
       "       [4.2, 1.3, 1. ],\n",
       "       [1.5, 0.2, 0. ],\n",
       "       [4.2, 1.2, 1. ],\n",
       "       [6.7, 2.2, 2. ],\n",
       "       [1.4, 0.2, 0. ],\n",
       "       [4.3, 1.3, 1. ],\n",
       "       [5. , 2. , 2. ],\n",
       "       [1.4, 0.2, 0. ],\n",
       "       [4.8, 1.8, 2. ],\n",
       "       [5.1, 1.9, 2. ],\n",
       "       [4. , 1. , 1. ],\n",
       "       [4.5, 1.5, 1. ],\n",
       "       [5.4, 2.3, 2. ],\n",
       "       [4. , 1.3, 1. ],\n",
       "       [1.7, 0.4, 0. ],\n",
       "       [3.3, 1. , 1. ],\n",
       "       [5.3, 1.9, 2. ],\n",
       "       [1.4, 0.2, 0. ],\n",
       "       [1.2, 0.2, 0. ],\n",
       "       [3.8, 1.1, 1. ],\n",
       "       [5. , 1.7, 1. ],\n",
       "       [1.5, 0.2, 0. ],\n",
       "       [5.1, 2.4, 2. ],\n",
       "       [1.5, 0.2, 0. ],\n",
       "       [1.6, 0.6, 0. ],\n",
       "       [4.8, 1.8, 1. ],\n",
       "       [3. , 1.1, 1. ],\n",
       "       [5.7, 2.3, 2. ],\n",
       "       [5.1, 1.6, 1. ],\n",
       "       [5.6, 1.4, 2. ],\n",
       "       [6.1, 2.3, 2. ],\n",
       "       [4. , 1.3, 1. ],\n",
       "       [1.4, 0.2, 0. ],\n",
       "       [1.1, 0.1, 0. ],\n",
       "       [5. , 1.5, 2. ],\n",
       "       [6. , 1.8, 2. ],\n",
       "       [1.5, 0.2, 0. ],\n",
       "       [1.4, 0.3, 0. ],\n",
       "       [1.3, 0.2, 0. ],\n",
       "       [4.9, 1.5, 1. ],\n",
       "       [5.6, 2.4, 2. ],\n",
       "       [1.4, 0.3, 0. ],\n",
       "       [5.5, 2.1, 2. ],\n",
       "       [6. , 2.5, 2. ],\n",
       "       [1.3, 0.2, 0. ],\n",
       "       [4.7, 1.4, 1. ],\n",
       "       [4.6, 1.5, 1. ],\n",
       "       [4.8, 1.8, 2. ],\n",
       "       [4.7, 1.4, 1. ],\n",
       "       [5.3, 2.3, 2. ],\n",
       "       [1.6, 0.2, 0. ],\n",
       "       [5.4, 2.1, 2. ],\n",
       "       [4.2, 1.5, 1. ],\n",
       "       [5.2, 2. , 2. ],\n",
       "       [3.5, 1. , 1. ],\n",
       "       [3.9, 1.4, 1. ],\n",
       "       [4.6, 1.4, 1. ],\n",
       "       [1.3, 0.3, 0. ],\n",
       "       [4.6, 1.3, 1. ],\n",
       "       [4.4, 1.2, 1. ],\n",
       "       [1.5, 0.2, 0. ],\n",
       "       [4.1, 1.3, 1. ],\n",
       "       [6.3, 1.8, 2. ],\n",
       "       [5.7, 2.1, 2. ],\n",
       "       [1.5, 0.4, 0. ],\n",
       "       [3.3, 1. , 1. ],\n",
       "       [5.7, 2.5, 2. ],\n",
       "       [5.8, 1.6, 2. ],\n",
       "       [1.4, 0.1, 0. ],\n",
       "       [5.6, 2.4, 2. ],\n",
       "       [1.4, 0.2, 0. ],\n",
       "       [4.9, 1.5, 1. ],\n",
       "       [6.1, 1.9, 2. ],\n",
       "       [5.6, 1.8, 2. ],\n",
       "       [4.1, 1.3, 1. ],\n",
       "       [5.5, 1.8, 2. ],\n",
       "       [4.4, 1.3, 1. ],\n",
       "       [4.3, 1.3, 1. ],\n",
       "       [4.9, 2. , 2. ],\n",
       "       [5.1, 1.8, 2. ],\n",
       "       [1.7, 0.2, 0. ],\n",
       "       [4. , 1.3, 1. ],\n",
       "       [4.5, 1.7, 2. ],\n",
       "       [1.2, 0.2, 0. ],\n",
       "       [4. , 1.2, 1. ],\n",
       "       [5.9, 2.1, 2. ]])"
      ]
     },
     "execution_count": 102,
     "metadata": {},
     "output_type": "execute_result"
    }
   ],
   "source": [
    "data"
   ]
  },
  {
   "cell_type": "code",
   "execution_count": 104,
   "id": "2f449cd5",
   "metadata": {},
   "outputs": [],
   "source": [
    "from pyspark.sql.types import IntegerType"
   ]
  },
  {
   "cell_type": "code",
   "execution_count": 107,
   "id": "c9be13e6",
   "metadata": {},
   "outputs": [],
   "source": [
    "schema = StructType([\n",
    "    StructField('feature1',DoubleType()),\n",
    "    StructField('feature2',DoubleType()),\n",
    "    StructField('labels',DoubleType()),\n",
    "])"
   ]
  },
  {
   "cell_type": "code",
   "execution_count": 108,
   "id": "cb7bfd1c",
   "metadata": {},
   "outputs": [],
   "source": [
    "data = spark.createDataFrame(data,schema=schema)"
   ]
  },
  {
   "cell_type": "code",
   "execution_count": 109,
   "id": "e355d7ec",
   "metadata": {},
   "outputs": [
    {
     "name": "stdout",
     "output_type": "stream",
     "text": [
      "+--------+--------+------+\n",
      "|feature1|feature2|labels|\n",
      "+--------+--------+------+\n",
      "|     1.4|     0.2|   0.0|\n",
      "|     1.5|     0.1|   0.0|\n",
      "|     5.1|     1.9|   2.0|\n",
      "|     4.5|     1.6|   1.0|\n",
      "|     4.7|     1.5|   1.0|\n",
      "|     1.3|     0.4|   0.0|\n",
      "|     1.5|     0.2|   0.0|\n",
      "|     3.7|     1.0|   1.0|\n",
      "|     5.1|     1.5|   2.0|\n",
      "|     5.5|     1.8|   2.0|\n",
      "|     4.4|     1.4|   1.0|\n",
      "|     6.1|     2.5|   2.0|\n",
      "|     4.2|     1.3|   1.0|\n",
      "|     6.6|     2.1|   2.0|\n",
      "|     4.5|     1.5|   1.0|\n",
      "|     1.4|     0.2|   0.0|\n",
      "|     6.7|     2.0|   2.0|\n",
      "|     4.1|     1.0|   1.0|\n",
      "|     1.4|     0.2|   0.0|\n",
      "|     1.3|     0.3|   0.0|\n",
      "+--------+--------+------+\n",
      "only showing top 20 rows\n",
      "\n"
     ]
    }
   ],
   "source": [
    "data.show()"
   ]
  },
  {
   "cell_type": "code",
   "execution_count": 111,
   "id": "ecdd9e10",
   "metadata": {},
   "outputs": [],
   "source": [
    "data = data.withColumn(\"labels\",f.col(\"labels\").cast(IntegerType()))"
   ]
  },
  {
   "cell_type": "code",
   "execution_count": 112,
   "id": "9364cd51",
   "metadata": {},
   "outputs": [],
   "source": [
    "assembler = VectorAssembler(inputCols=['feature1','feature2'],outputCol='featureVector')\n",
    "logreg = sp_LogisticRegression(featuresCol='featureVector',labelCol='labels')\n",
    "pipeline = Pipeline(stages=[assembler,logreg])"
   ]
  },
  {
   "cell_type": "code",
   "execution_count": 113,
   "id": "29491ed4",
   "metadata": {},
   "outputs": [],
   "source": [
    "pipeline_model = pipeline.fit(data)"
   ]
  },
  {
   "cell_type": "code",
   "execution_count": 125,
   "id": "641a0331",
   "metadata": {},
   "outputs": [],
   "source": [
    "data_new = [(5.0,2.0)]"
   ]
  },
  {
   "cell_type": "code",
   "execution_count": 126,
   "id": "4176004f",
   "metadata": {},
   "outputs": [],
   "source": [
    "data_new = spark.createDataFrame(data_new,[\"feature1\",\"feature2\"])"
   ]
  },
  {
   "cell_type": "code",
   "execution_count": 128,
   "id": "5cf1eb1c",
   "metadata": {},
   "outputs": [],
   "source": [
    "preds = pipeline_model.transform(data_new)"
   ]
  },
  {
   "cell_type": "code",
   "execution_count": 129,
   "id": "19757f66",
   "metadata": {},
   "outputs": [
    {
     "name": "stdout",
     "output_type": "stream",
     "text": [
      "+--------+--------+-------------+--------------------+--------------------+----------+\n",
      "|feature1|feature2|featureVector|       rawPrediction|         probability|prediction|\n",
      "+--------+--------+-------------+--------------------+--------------------+----------+\n",
      "|     5.0|     2.0|    [5.0,2.0]|[-57.343870278767...|[6.00944290439441...|       2.0|\n",
      "+--------+--------+-------------+--------------------+--------------------+----------+\n",
      "\n"
     ]
    }
   ],
   "source": [
    "preds.show()"
   ]
  },
  {
   "cell_type": "code",
   "execution_count": 131,
   "id": "106c8f9e",
   "metadata": {},
   "outputs": [
    {
     "data": {
      "text/plain": [
       "[Row(probability=DenseVector([0.0, 0.019, 0.981]))]"
      ]
     },
     "execution_count": 131,
     "metadata": {},
     "output_type": "execute_result"
    }
   ],
   "source": [
    "preds.select(\"probability\").collect()"
   ]
  },
  {
   "cell_type": "code",
   "execution_count": 132,
   "id": "79f96c5a",
   "metadata": {},
   "outputs": [],
   "source": [
    "spark.stop()"
   ]
  },
  {
   "cell_type": "code",
   "execution_count": null,
   "id": "a79dd2b9",
   "metadata": {},
   "outputs": [],
   "source": []
  }
 ],
 "metadata": {
  "kernelspec": {
   "display_name": "venv2",
   "language": "python",
   "name": "python3"
  },
  "language_info": {
   "codemirror_mode": {
    "name": "ipython",
    "version": 3
   },
   "file_extension": ".py",
   "mimetype": "text/x-python",
   "name": "python",
   "nbconvert_exporter": "python",
   "pygments_lexer": "ipython3",
   "version": "3.10.9"
  }
 },
 "nbformat": 4,
 "nbformat_minor": 5
}
