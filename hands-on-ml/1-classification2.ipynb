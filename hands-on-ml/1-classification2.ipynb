{
 "cells": [
  {
   "cell_type": "markdown",
   "id": "203d9ab9",
   "metadata": {},
   "source": [
    "**MNIST:**\n",
    "- We begin using the MNIST dataset, which is a set of 70,000 small images of digits handwritten by students and employees of the US census bureau. "
   ]
  },
  {
   "cell_type": "code",
   "execution_count": 1,
   "id": "2c98b4e2",
   "metadata": {},
   "outputs": [],
   "source": [
    "from sklearn.datasets import fetch_openml"
   ]
  },
  {
   "cell_type": "code",
   "execution_count": 2,
   "id": "a643a211",
   "metadata": {},
   "outputs": [],
   "source": [
    "mnist = fetch_openml('mnist_784',as_frame=False)"
   ]
  },
  {
   "cell_type": "code",
   "execution_count": 3,
   "id": "d172936b",
   "metadata": {},
   "outputs": [],
   "source": [
    "X,y = mnist.data, mnist.target"
   ]
  },
  {
   "cell_type": "code",
   "execution_count": 4,
   "id": "cc0217fc",
   "metadata": {},
   "outputs": [
    {
     "data": {
      "text/plain": [
       "array([[0., 0., 0., ..., 0., 0., 0.],\n",
       "       [0., 0., 0., ..., 0., 0., 0.],\n",
       "       [0., 0., 0., ..., 0., 0., 0.],\n",
       "       ...,\n",
       "       [0., 0., 0., ..., 0., 0., 0.],\n",
       "       [0., 0., 0., ..., 0., 0., 0.],\n",
       "       [0., 0., 0., ..., 0., 0., 0.]])"
      ]
     },
     "execution_count": 4,
     "metadata": {},
     "output_type": "execute_result"
    }
   ],
   "source": [
    "X"
   ]
  },
  {
   "cell_type": "code",
   "execution_count": 5,
   "id": "4a5d050e",
   "metadata": {},
   "outputs": [
    {
     "data": {
      "text/plain": [
       "(70000, 784)"
      ]
     },
     "execution_count": 5,
     "metadata": {},
     "output_type": "execute_result"
    }
   ],
   "source": [
    "X.shape"
   ]
  },
  {
   "cell_type": "code",
   "execution_count": 6,
   "id": "c8875f01",
   "metadata": {},
   "outputs": [
    {
     "data": {
      "text/plain": [
       "(70000,)"
      ]
     },
     "execution_count": 6,
     "metadata": {},
     "output_type": "execute_result"
    }
   ],
   "source": [
    "y.shape"
   ]
  },
  {
   "cell_type": "markdown",
   "id": "9c07275f",
   "metadata": {},
   "source": [
    "Each image has 784 features - because each image is 28x28 pixels, and each feature simply represents one pixel's intensity, from 0 to 255 black. "
   ]
  },
  {
   "cell_type": "code",
   "execution_count": 7,
   "id": "581bdc2f",
   "metadata": {},
   "outputs": [],
   "source": [
    "import matplotlib.pyplot as plt"
   ]
  },
  {
   "cell_type": "code",
   "execution_count": 8,
   "id": "b9ced1e3",
   "metadata": {},
   "outputs": [
    {
     "data": {
      "image/png": "[encoded data removed]",
      "text/plain": [
       "<Figure size 640x480 with 1 Axes>"
      ]
     },
     "metadata": {},
     "output_type": "display_data"
    }
   ],
   "source": [
    "def plot_digit(image_data):\n",
    "    image = image_data.reshape(28,28)\n",
    "    plt.imshow(image, cmap='binary')\n",
    "    plt.axis('off')\n",
    "\n",
    "some_digit = X[0]\n",
    "plot_digit(some_digit)\n",
    "plt.show()"
   ]
  },
  {
   "cell_type": "code",
   "execution_count": 9,
   "id": "dd68932c",
   "metadata": {},
   "outputs": [
    {
     "data": {
      "text/plain": [
       "'5'"
      ]
     },
     "execution_count": 9,
     "metadata": {},
     "output_type": "execute_result"
    }
   ],
   "source": [
    "# looks like a 5 - which is later proved right by the labels\n",
    "y[0]"
   ]
  },
  {
   "cell_type": "markdown",
   "id": "c33988f7",
   "metadata": {},
   "source": [
    "**Remember - always have a test set set aside before inspecting the data closely. The MNIST dataset returned by fetch_openml() is actually already split into a training set(first 60,000 images) and a test set (last 10,000) images"
   ]
  },
  {
   "cell_type": "code",
   "execution_count": 10,
   "id": "6b17c598",
   "metadata": {},
   "outputs": [],
   "source": [
    "X_train, X_test, y_train, y_test = X[:60000],X[60000:],y[:60000],y[60000:]"
   ]
  },
  {
   "cell_type": "markdown",
   "id": "d22e500f",
   "metadata": {},
   "source": [
    "Training set is already shuffled - good because this guarantees that all cross validation folds will be similar - Shuffling usually only bad for cases say where we've working with time series data."
   ]
  },
  {
   "cell_type": "markdown",
   "id": "a509667c",
   "metadata": {},
   "source": [
    "**Training a Binary Classifier:**\n",
    "- Simplify the problem now and try to identify one digit - for example, the number 5. "
   ]
  },
  {
   "cell_type": "code",
   "execution_count": 11,
   "id": "855d8dac",
   "metadata": {},
   "outputs": [],
   "source": [
    "y_train_5 = (y_train == '5')\n",
    "y_test_5 = (y_test == '5')"
   ]
  },
  {
   "cell_type": "markdown",
   "id": "93711955",
   "metadata": {},
   "source": [
    "Now - pick a classifier and train it - good starting place is with a stochastic gradient descent classifier using sklearn's SGDClassifier class. "
   ]
  },
  {
   "cell_type": "code",
   "execution_count": 12,
   "id": "631922ce",
   "metadata": {},
   "outputs": [],
   "source": [
    "from sklearn.linear_model import SGDClassifier"
   ]
  },
  {
   "cell_type": "code",
   "execution_count": 13,
   "id": "df5e4320",
   "metadata": {},
   "outputs": [
    {
     "data": {
      "text/plain": [
       "SGDClassifier(random_state=42)"
      ]
     },
     "execution_count": 13,
     "metadata": {},
     "output_type": "execute_result"
    }
   ],
   "source": [
    "sgd_clf = SGDClassifier(random_state=42)\n",
    "sgd_clf.fit(X_train, y_train_5)"
   ]
  },
  {
   "cell_type": "markdown",
   "id": "5b26181f",
   "metadata": {},
   "source": [
    "Now - use it to detect images of the number 5."
   ]
  },
  {
   "cell_type": "code",
   "execution_count": 14,
   "id": "746fd008",
   "metadata": {},
   "outputs": [
    {
     "data": {
      "text/plain": [
       "array([ True])"
      ]
     },
     "execution_count": 14,
     "metadata": {},
     "output_type": "execute_result"
    }
   ],
   "source": [
    "sgd_clf.predict([some_digit])"
   ]
  },
  {
   "cell_type": "code",
   "execution_count": 15,
   "id": "fb2b8583",
   "metadata": {},
   "outputs": [
    {
     "data": {
      "text/plain": [
       "'7'"
      ]
     },
     "execution_count": 15,
     "metadata": {},
     "output_type": "execute_result"
    }
   ],
   "source": [
    "y_test[0]"
   ]
  },
  {
   "cell_type": "code",
   "execution_count": 17,
   "id": "97b448a6",
   "metadata": {},
   "outputs": [
    {
     "data": {
      "text/plain": [
       "(784,)"
      ]
     },
     "execution_count": 17,
     "metadata": {},
     "output_type": "execute_result"
    }
   ],
   "source": [
    "X_test[0].shape"
   ]
  },
  {
   "cell_type": "code",
   "execution_count": 19,
   "id": "35b550aa",
   "metadata": {},
   "outputs": [
    {
     "data": {
      "text/plain": [
       "array([False])"
      ]
     },
     "execution_count": 19,
     "metadata": {},
     "output_type": "execute_result"
    }
   ],
   "source": [
    "sgd_clf.predict(X_test[0].reshape(-1,784))"
   ]
  },
  {
   "cell_type": "markdown",
   "id": "216957b0",
   "metadata": {},
   "source": [
    "**performance measures:**\n",
    "- Evaluating a classifier => often significantly trickier than evaluating a regressor.\n",
    "- We look at different performance metrics for evaluating classifiers here:"
   ]
  },
  {
   "cell_type": "markdown",
   "id": "27bf16f1",
   "metadata": {},
   "source": [
    "**Metric Accuracy Using Cross-Validation:**\n",
    "- Good way to eval a model - use cross validation\n",
    "- We use the cross_val_score() function to evaluate the SGD Classifier model - using k-fold cross-validation with 3 folds. \n",
    "- Remember that k-fold cross validation means splitting the training set into k-folds (3 in this case), then training the model k times - holding out a different fold each time for evaluation. "
   ]
  },
  {
   "cell_type": "code",
   "execution_count": 20,
   "id": "9607ef23",
   "metadata": {},
   "outputs": [],
   "source": [
    "from sklearn.model_selection import cross_val_score"
   ]
  },
  {
   "cell_type": "code",
   "execution_count": 21,
   "id": "8b2c4f2a",
   "metadata": {},
   "outputs": [
    {
     "data": {
      "text/plain": [
       "array([0.95035, 0.96035, 0.9604 ])"
      ]
     },
     "execution_count": 21,
     "metadata": {},
     "output_type": "execute_result"
    }
   ],
   "source": [
    "cross_val_score(sgd_clf, X_train, y_train_5, cv=3, scoring='accuracy')"
   ]
  },
  {
   "cell_type": "markdown",
   "id": "621d477d",
   "metadata": {},
   "source": [
    "Face value - these seem to look good, but - let's look at a dummy classifier that just classifies every single image in the most frequent class - which is the negative class in this case (non 5s)."
   ]
  },
  {
   "cell_type": "code",
   "execution_count": 22,
   "id": "2c6979a8",
   "metadata": {},
   "outputs": [],
   "source": [
    "from sklearn.dummy import DummyClassifier"
   ]
  },
  {
   "cell_type": "code",
   "execution_count": 23,
   "id": "d2862acf",
   "metadata": {},
   "outputs": [
    {
     "data": {
      "text/plain": [
       "DummyClassifier()"
      ]
     },
     "execution_count": 23,
     "metadata": {},
     "output_type": "execute_result"
    }
   ],
   "source": [
    "dummy_clf = DummyClassifier()\n",
    "dummy_clf.fit(X_train, y_train_5)"
   ]
  },
  {
   "cell_type": "code",
   "execution_count": null,
   "id": "0d42a6d7",
   "metadata": {},
   "outputs": [
    {
     "name": "stdout",
     "output_type": "stream",
     "text": [
      "False\n"
     ]
    }
   ],
   "source": [
    "print(any(dummy_clf.predict(X_train))) # prints False - no 5s detected"
   ]
  },
  {
   "cell_type": "code",
   "execution_count": 25,
   "id": "60e1880f",
   "metadata": {},
   "outputs": [
    {
     "data": {
      "text/plain": [
       "array([0.90965, 0.90965, 0.90965])"
      ]
     },
     "execution_count": 25,
     "metadata": {},
     "output_type": "execute_result"
    }
   ],
   "source": [
    "# guess the model's accuracy - lets find out\n",
    "cross_val_score(dummy_clf,X_train,y_train_5,cv=3,scoring=\"accuracy\")"
   ]
  },
  {
   "cell_type": "markdown",
   "id": "a3d972da",
   "metadata": {},
   "source": [
    "Over 90% accuracy - simply because only about 10% of the images are 5s - so if you always guess an image is not a 5 - you'll be right about 90% of the time. Accuracy - not always the preferred performance measure for classifiers - especially when you're dealing with skewed datasets. Much better way to eval the performance of a classifier is to look at the confusion matrix (CM)."
   ]
  },
  {
   "cell_type": "markdown",
   "id": "634fb3f1",
   "metadata": {},
   "source": [
    "**Implementing Cross Validation:**\n",
    "- Ocassionally - need more control over the cross validation process than what scikit-learn provides off the shelf. In these cases - you can implement cross validation score yourself. The following code does roughly the same thing as scikit-learn's cross_val_score() function, and it prints the same result. "
   ]
  },
  {
   "cell_type": "code",
   "execution_count": 26,
   "id": "8aeef1f6",
   "metadata": {},
   "outputs": [],
   "source": [
    "from sklearn.model_selection import StratifiedKFold\n",
    "from sklearn.base import clone"
   ]
  },
  {
   "cell_type": "code",
   "execution_count": 27,
   "id": "33b33b68",
   "metadata": {},
   "outputs": [],
   "source": [
    "skfolds = StratifiedKFold(n_splits = 3) # add shuffle=True, if the dataset is not already shuffled"
   ]
  },
  {
   "cell_type": "code",
   "execution_count": 28,
   "id": "6d71e114",
   "metadata": {},
   "outputs": [
    {
     "name": "stdout",
     "output_type": "stream",
     "text": [
      "0.95035\n",
      "0.96035\n",
      "0.9604\n"
     ]
    }
   ],
   "source": [
    "for train_index, test_index in skfolds.split(X_train, y_train_5):\n",
    "    clone_clf = clone(sgd_clf)\n",
    "    X_train_fold = X_train[train_index]\n",
    "    y_train_fold = y_train_5[train_index]\n",
    "    X_test_fold = X_train[test_index]\n",
    "    y_test_fold = y_train_5[test_index]\n",
    "\n",
    "    clone_clf.fit(X_train_fold,y_train_fold)\n",
    "    y_pred = clone_clf.predict(X_test_fold)\n",
    "    n_correct = sum(y_pred == y_test_fold)\n",
    "    print(n_correct/len(y_pred))"
   ]
  },
  {
   "cell_type": "markdown",
   "id": "87110df7",
   "metadata": {},
   "source": [
    "**Confusion Matrices:**\n",
    "- General idea of a confusion matrix - count the number of times instances of class a are classified as class b for all a/b pairs. Confusion matrices - (true labels along the rows), predictions along the columns. \n",
    "- To compute the confusion matrix - first - need to have a set of predictions. so that they can be compared to actual targets. You could make predictions on the test set - but its best to keep that untouched for now. "
   ]
  },
  {
   "cell_type": "code",
   "execution_count": 29,
   "id": "70b0b43b",
   "metadata": {},
   "outputs": [],
   "source": [
    "from sklearn.model_selection import cross_val_predict"
   ]
  },
  {
   "cell_type": "code",
   "execution_count": 30,
   "id": "013dcec5",
   "metadata": {},
   "outputs": [],
   "source": [
    "y_train_pred = cross_val_predict(sgd_clf, X_train, y_train_5, cv=3)"
   ]
  },
  {
   "cell_type": "markdown",
   "id": "7989d8a0",
   "metadata": {},
   "source": [
    "The predictions performed by the cross_val_predict function are out of sample predictions.\n",
    "- Implies that they are predictions on data not seen by the model during its training process. "
   ]
  },
  {
   "cell_type": "code",
   "execution_count": 31,
   "id": "0ba089b9",
   "metadata": {},
   "outputs": [],
   "source": [
    "from sklearn.metrics import confusion_matrix"
   ]
  },
  {
   "cell_type": "code",
   "execution_count": 32,
   "id": "949df15b",
   "metadata": {},
   "outputs": [],
   "source": [
    "cm = confusion_matrix(y_train_5, y_train_pred)"
   ]
  },
  {
   "cell_type": "code",
   "execution_count": 33,
   "id": "80933b47",
   "metadata": {},
   "outputs": [
    {
     "data": {
      "text/plain": [
       "array([[53892,   687],\n",
       "       [ 1891,  3530]], dtype=int64)"
      ]
     },
     "execution_count": 33,
     "metadata": {},
     "output_type": "execute_result"
    }
   ],
   "source": [
    "cm"
   ]
  },
  {
   "cell_type": "code",
   "execution_count": 34,
   "id": "fda612ea",
   "metadata": {},
   "outputs": [
    {
     "data": {
      "text/plain": [
       "array([[54579,     0],\n",
       "       [    0,  5421]], dtype=int64)"
      ]
     },
     "execution_count": 34,
     "metadata": {},
     "output_type": "execute_result"
    }
   ],
   "source": [
    "y_train_perfect_predictions = y_train_5 # pretend we reached perfection\n",
    "confusion_matrix(y_train_5, y_train_perfect_predictions)"
   ]
  },
  {
   "cell_type": "markdown",
   "id": "c2cc6e59",
   "metadata": {},
   "source": [
    "Confusion matrix - lots of information\n",
    "- but sometimes => you may prefer a more concise metric\n",
    "- An interesting one to consider is the accuracy of the positive predictions called the precision of the classifier\n",
    "  - precision = TP/(TP+FP)\n",
    "- Used alongside recall - also known as the sensitivity - or the true positive rate (TPR)\n",
    "  - recall = TP/(TP+FN)"
   ]
  },
  {
   "cell_type": "markdown",
   "id": "37ae71f6",
   "metadata": {},
   "source": [
    "**Precision and Recall:**\n",
    "- Scikit-learn provides several functions to compute classifier metrics, including precision and recall."
   ]
  },
  {
   "cell_type": "code",
   "execution_count": 35,
   "id": "c14405ed",
   "metadata": {},
   "outputs": [],
   "source": [
    "from sklearn.metrics import precision_score, recall_score"
   ]
  },
  {
   "cell_type": "code",
   "execution_count": 36,
   "id": "478898ef",
   "metadata": {},
   "outputs": [
    {
     "data": {
      "text/plain": [
       "0.8370879772350012"
      ]
     },
     "execution_count": 36,
     "metadata": {},
     "output_type": "execute_result"
    }
   ],
   "source": [
    "precision_score(y_train_5, y_train_pred)"
   ]
  },
  {
   "cell_type": "code",
   "execution_count": 37,
   "id": "54ce138c",
   "metadata": {},
   "outputs": [
    {
     "data": {
      "text/plain": [
       "0.6511713705958311"
      ]
     },
     "execution_count": 37,
     "metadata": {},
     "output_type": "execute_result"
    }
   ],
   "source": [
    "recall_score(y_train_5, y_train_pred)"
   ]
  },
  {
   "cell_type": "markdown",
   "id": "3161b8cc",
   "metadata": {},
   "source": [
    "When we claim an image is a 5 (positive) - this is correct only 83.7% of the time. Moreover it only detects 65.1% of the 5s."
   ]
  },
  {
   "cell_type": "markdown",
   "id": "7219c677",
   "metadata": {},
   "source": [
    "Convenient to combine both precision and recall into a single metric called the F1 score - especially when you need a single metric to compare 2 classifiers. F1 score is a harmonic mean of both the precison and recall. Whereas the regular mean treats all values equally, the harmonic mean gives much more weight to low values. As a result - a classifier will only get a high F1 score if both recall and precision are high. "
   ]
  },
  {
   "cell_type": "code",
   "execution_count": 38,
   "id": "62bfca80",
   "metadata": {},
   "outputs": [],
   "source": [
    "from sklearn.metrics import f1_score"
   ]
  },
  {
   "cell_type": "code",
   "execution_count": 39,
   "id": "e49bf353",
   "metadata": {},
   "outputs": [
    {
     "data": {
      "text/plain": [
       "0.7325171197343846"
      ]
     },
     "execution_count": 39,
     "metadata": {},
     "output_type": "execute_result"
    }
   ],
   "source": [
    "f1_score(y_train_5, y_train_pred)"
   ]
  },
  {
   "cell_type": "markdown",
   "id": "9c972aee",
   "metadata": {},
   "source": [
    "**The Precision/Recall Trade-Off:**"
   ]
  },
  {
   "cell_type": "code",
   "execution_count": 40,
   "id": "55f410a1",
   "metadata": {},
   "outputs": [],
   "source": [
    "y_scores = sgd_clf.decision_function([some_digit])"
   ]
  },
  {
   "cell_type": "code",
   "execution_count": 41,
   "id": "15a897f4",
   "metadata": {},
   "outputs": [
    {
     "data": {
      "text/plain": [
       "array([2164.22030239])"
      ]
     },
     "execution_count": 41,
     "metadata": {},
     "output_type": "execute_result"
    }
   ],
   "source": [
    "y_scores"
   ]
  },
  {
   "cell_type": "markdown",
   "id": "4a040080",
   "metadata": {},
   "source": [
    "All about setting the right threshold.\n",
    "How do you decide which threshold to use?\n",
    "- First, use the cross_val_predict() function to get the scores of all instances - returning decision scores not predictions"
   ]
  },
  {
   "cell_type": "code",
   "execution_count": 42,
   "id": "7a48e170",
   "metadata": {},
   "outputs": [],
   "source": [
    "y_scores = cross_val_predict(sgd_clf, X_train, y_train_5, cv=3, method=\"decision_function\")"
   ]
  },
  {
   "cell_type": "markdown",
   "id": "9e1b6282",
   "metadata": {},
   "source": [
    "With these scores - use the precision_recall_curve() function to compute precision and recall for all possible thresholds (the function adds a last precision of 1)"
   ]
  },
  {
   "cell_type": "code",
   "execution_count": 43,
   "id": "01b1e6c2",
   "metadata": {},
   "outputs": [],
   "source": [
    "from sklearn.metrics import precision_recall_curve"
   ]
  },
  {
   "cell_type": "code",
   "execution_count": 44,
   "id": "79679b1d",
   "metadata": {},
   "outputs": [],
   "source": [
    "precisions, recalls, thresholds = precision_recall_curve(y_train_5, y_scores)"
   ]
  },
  {
   "cell_type": "markdown",
   "id": "37305a34",
   "metadata": {},
   "source": [
    "Choosing the right threshold:\n",
    "- Plot of precision and recall v. thresholds - Precision and Recall on the y-axis; thresholds on the x-axis\n",
    "- Another way - plot precision directly against recall\n",
    "- np.argmax() - returns the first index of the maximum value\n",
    "- which in this case would mean the first True value. so for all precisions => compute a precision >= 0.90 then running argmax on this returns the first index corresponding/which satisifies the condition.\n",
    "- Thereafter - indexing the thresholds array/list to find the corresponding threshold. \n",
    "- Make predictions now using this threshold - where by instead of hard predictions - return soft preds and thresholds. \n",
    "- Fairly easy to create a classifier with virtually any precision you want: just set a high enough threshold. "
   ]
  },
  {
   "cell_type": "markdown",
   "id": "95a88552",
   "metadata": {},
   "source": [
    "**The ROC Curve:**\n",
    "- The Receiver Operating Characteristic (ROC) curve is another common tool used with binary classifiers. Very similar to precision/recall curves, but instead of plotting precision v. recall - the ROC curve plots the true positive rate (another name for recall) against the false positive rate (FPR) - The FPR (also called the fall-out) is the ratio of negative instances that are incorrectly classified as positive. The FPR = 1 - true negative rate .\n",
    "\n",
    "- Once again => there is a trade-off: the higher the recall (TPR), the more false positives (FPR) the classifier produces "
   ]
  },
  {
   "cell_type": "markdown",
   "id": "89ef8619",
   "metadata": {},
   "source": [
    "**One way to compare classifiers is to measure the area under the curve (AUC). A perfect classifier will have a ROC AUC equal to 1 - whereas a purely random classifier will have a ROC AUC equal to 0.5**"
   ]
  },
  {
   "cell_type": "markdown",
   "id": "17b82cc3",
   "metadata": {},
   "source": [
    "So in summary - about training binary classifiers:\n",
    "- Cross Validation is actually important when evaluating models\n",
    "- Metrics: Accuracy not a reliable metric for skewed datasets and for binary classification tasks\n",
    "- How precision, recall and the f1 score are better metrics\n",
    "- Metrics such as the AUC\n",
    "- Evaluating performance under different thresholds and choosing the right threshold.\n",
    "- All this done while considering cross validation"
   ]
  },
  {
   "cell_type": "markdown",
   "id": "6683ea55",
   "metadata": {},
   "source": [
    "**MultiClass Classification:**\n",
    "- Whereas binary classifiers distinguish between 2 classes, multiclass classifiers (multinomial classifiers) can distinguish between more than 2 classes\n",
    "- Some sklearn classifiers e.g Logistic Regression, Random Forest Classifier and GaussianNB are capable of handling multiple classes natively. Others are strictly binary classifiers - e.g SGDClassifier and SVC. \n",
    "- For models that do not natively support multiclass classification => you can implement this using an OVR/OVA (one versus rest or one versus all) strategy - where you train a one versus rest classifier for each class in the dataset\n",
    "- Another strategy - train a binary classifier for every pair of digits: one to distinguish 0s and 1s - another to distinguish 0s and 2s - etc. This is a one-versus-one strategy. \n",
    "- Scikit-Learn detects when you try to use a binary classification algorithm for a multiclass classification task, and it automatically runs OvR or OvO, depending on the algorithm. Try this with the support vector machine classifier"
   ]
  },
  {
   "cell_type": "markdown",
   "id": "6a98400d",
   "metadata": {},
   "source": [
    "**Error Analysis:**\n",
    "- Assuming you have found a promising model and want to improve it. One way of doing this is to analyze the types of errors it makes. \n",
    "- First, look at the confusion matrix.\n",
    "- Coloured diagram of the confusion matrix is much easier to analyse. to plot such a diagram, use the confusion matrix display's from_predictions() function like this:"
   ]
  },
  {
   "cell_type": "code",
   "execution_count": 45,
   "id": "8ab4c2df",
   "metadata": {},
   "outputs": [],
   "source": [
    "from sklearn.metrics import ConfusionMatrixDisplay"
   ]
  },
  {
   "cell_type": "markdown",
   "id": "822fb463",
   "metadata": {},
   "source": [
    "**Analysing the confusion matrix often gives you insights into ways to improve your classifier.** "
   ]
  },
  {
   "cell_type": "markdown",
   "id": "4b1b8713",
   "metadata": {},
   "source": [
    "**Multilabel Classification:**"
   ]
  },
  {
   "cell_type": "markdown",
   "id": "71d81a27",
   "metadata": {},
   "source": [
    "Each instance - one class.\n",
    "In some cases - you may want your classifier to output multiple classes for each instance. Consider a FR classifier - what should you do if you recognise several people in the same picture => attach one tag per person it recognises. Classifier with multiple binary tags is called a multilabel classification system. "
   ]
  },
  {
   "cell_type": "code",
   "execution_count": 46,
   "id": "f7449851",
   "metadata": {},
   "outputs": [],
   "source": [
    "import numpy as np\n",
    "from sklearn.neighbors import KNeighborsClassifier"
   ]
  },
  {
   "cell_type": "code",
   "execution_count": 47,
   "id": "48217ede",
   "metadata": {},
   "outputs": [],
   "source": [
    "y_train_large = (y_train >= '7')"
   ]
  },
  {
   "cell_type": "code",
   "execution_count": 48,
   "id": "7a046c18",
   "metadata": {},
   "outputs": [],
   "source": [
    "y_train_odd = (y_train.astype('int8')%2 == 1)"
   ]
  },
  {
   "cell_type": "code",
   "execution_count": 49,
   "id": "5277a1ef",
   "metadata": {},
   "outputs": [],
   "source": [
    "y_multilabel = np.c_[y_train_large, y_train_odd]"
   ]
  },
  {
   "cell_type": "code",
   "execution_count": 50,
   "id": "ac3a4946",
   "metadata": {},
   "outputs": [
    {
     "data": {
      "text/plain": [
       "(60000, 2)"
      ]
     },
     "execution_count": 50,
     "metadata": {},
     "output_type": "execute_result"
    }
   ],
   "source": [
    "y_multilabel.shape"
   ]
  },
  {
   "cell_type": "code",
   "execution_count": 51,
   "id": "5e7a3cf7",
   "metadata": {},
   "outputs": [
    {
     "data": {
      "text/plain": [
       "KNeighborsClassifier()"
      ]
     },
     "execution_count": 51,
     "metadata": {},
     "output_type": "execute_result"
    }
   ],
   "source": [
    "knn_clf = KNeighborsClassifier()\n",
    "knn_clf.fit(X_train, y_multilabel)"
   ]
  },
  {
   "cell_type": "markdown",
   "id": "b7f348a9",
   "metadata": {},
   "source": [
    "**Brief Recap:** The KNN algorithm is a non-parametric, lazy-learning algorithm, meaning it doesn't build a model during training but instead stores the training data and makes predictions at runtime by comparing new data points to the stored data. Its based on the idea that similar instances (based on a distance metric) - are likely to have similar labels. \n",
    "\n",
    "- **Steps of the KNN Algorithm:**\n",
    "    - Store Training Data:\n",
    "      - KNN Stores the entire training dataset consisting of feature vectors (e.g. numerical or categorical features) and their corresponding labels. (for classiciation) or values (for regression)\n",
    "    - Choose k:\n",
    "      - Select the number of neighbors k, to consider, this is a hyperparameter you set (e.g., k=3 means consider the 3 nearest neighbors)\n",
    "      - Smaller k makes the model sensitive to noise; larger k smooths predictions but may miss local patterns\n",
    "    - Calculate Distance\n",
    "      - For a new data point (test instance), compute its distance to all training points using a distance metric, commonly:\n",
    "        - **Euclidean Distance** => for numerical features\n",
    "        - **Cosine Distance** => for high dimensional or text data\n",
    "    - **Identify k Nearest Neighbors:**\n",
    "        - Sort all training points by distance to the test point and select the k-closest ones\n",
    "    - **Make a prediction:**\n",
    "       - for classification => select the most common class among the k-neighbors (majority  vote)"
   ]
  },
  {
   "cell_type": "code",
   "execution_count": 53,
   "id": "d2412609",
   "metadata": {},
   "outputs": [
    {
     "data": {
      "text/plain": [
       "array([[False,  True]])"
      ]
     },
     "execution_count": 53,
     "metadata": {},
     "output_type": "execute_result"
    }
   ],
   "source": [
    "knn_clf.predict([some_digit])"
   ]
  },
  {
   "cell_type": "markdown",
   "id": "5c9ef9d4",
   "metadata": {},
   "source": [
    "There's many ways to eval multilabel classifiers \n",
    "- could use confusion matrices\n",
    "- or take averages of things like precision, recall for each label."
   ]
  },
  {
   "cell_type": "markdown",
   "id": "372f357d",
   "metadata": {},
   "source": [
    "**Multioutput Classification:**\n",
    "- Generalization of multilabel classification where each label can be multiclass (i.e. it can have more than 2 possible values)\n",
    "- To illustrate => build a system that removes noise from images. Note that the classifier's output is multilabel (one label per pixel), and each label can have multiple values (pixels range from 0 to 255)"
   ]
  },
  {
   "cell_type": "code",
   "execution_count": 54,
   "id": "f7744e49",
   "metadata": {},
   "outputs": [],
   "source": [
    "np.random.seed(42)"
   ]
  },
  {
   "cell_type": "code",
   "execution_count": 55,
   "id": "daf2bfe6",
   "metadata": {},
   "outputs": [],
   "source": [
    "noise = np.random.randint(0, 100, (len(X_train), 784))\n",
    "X_train_mod = X_train + noise"
   ]
  },
  {
   "cell_type": "code",
   "execution_count": 56,
   "id": "416b25c5",
   "metadata": {},
   "outputs": [],
   "source": [
    "noise = np.random.randint(0, 100, (len(X_test),784))\n",
    "X_test_mod = X_test + noise"
   ]
  },
  {
   "cell_type": "code",
   "execution_count": 57,
   "id": "4e5003a1",
   "metadata": {},
   "outputs": [],
   "source": [
    "y_train_mod = X_train\n",
    "y_test_mod = X_test"
   ]
  },
  {
   "cell_type": "code",
   "execution_count": 58,
   "id": "c426ed0f",
   "metadata": {},
   "outputs": [
    {
     "data": {
      "text/plain": [
       "((60000, 784), (60000, 784))"
      ]
     },
     "execution_count": 58,
     "metadata": {},
     "output_type": "execute_result"
    }
   ],
   "source": [
    "X_train_mod.shape, y_train_mod.shape"
   ]
  },
  {
   "cell_type": "code",
   "execution_count": 59,
   "id": "298ec3f9",
   "metadata": {},
   "outputs": [
    {
     "data": {
      "text/plain": [
       "KNeighborsClassifier()"
      ]
     },
     "execution_count": 59,
     "metadata": {},
     "output_type": "execute_result"
    }
   ],
   "source": [
    "knn_clf = KNeighborsClassifier()\n",
    "knn_clf.fit(X_train_mod, y_train_mod)"
   ]
  },
  {
   "cell_type": "code",
   "execution_count": 60,
   "id": "a4318cc4",
   "metadata": {},
   "outputs": [],
   "source": [
    "clean_digit = knn_clf.predict([X_test_mod[0]])"
   ]
  },
  {
   "cell_type": "code",
   "execution_count": 61,
   "id": "06338014",
   "metadata": {},
   "outputs": [
    {
     "data": {
      "image/png": "[encoded data removed]",
      "text/plain": [
       "<Figure size 640x480 with 1 Axes>"
      ]
     },
     "metadata": {},
     "output_type": "display_data"
    }
   ],
   "source": [
    "plot_digit(clean_digit)\n",
    "plt.show()"
   ]
  },
  {
   "cell_type": "code",
   "execution_count": 62,
   "id": "44b4c56f",
   "metadata": {},
   "outputs": [
    {
     "data": {
      "image/png": "[encoded data removed]",
      "text/plain": [
       "<Figure size 640x480 with 1 Axes>"
      ]
     },
     "metadata": {},
     "output_type": "display_data"
    }
   ],
   "source": [
    "plot_digit(X_test_mod[0])\n",
    "plt.show()"
   ]
  },
  {
   "cell_type": "code",
   "execution_count": null,
   "id": "d2619afb",
   "metadata": {},
   "outputs": [],
   "source": []
  }
 ],
 "metadata": {
  "kernelspec": {
   "display_name": "venv2",
   "language": "python",
   "name": "python3"
  },
  "language_info": {
   "codemirror_mode": {
    "name": "ipython",
    "version": 3
   },
   "file_extension": ".py",
   "mimetype": "text/x-python",
   "name": "python",
   "nbconvert_exporter": "python",
   "pygments_lexer": "ipython3",
   "version": "3.10.9"
  }
 },
 "nbformat": 4,
 "nbformat_minor": 5
}
